{
  "nbformat": 4,
  "nbformat_minor": 0,
  "metadata": {
    "kernelspec": {
      "display_name": "Python 3",
      "language": "python",
      "name": "python3"
    },
    "language_info": {
      "codemirror_mode": {
        "name": "ipython",
        "version": 3
      },
      "file_extension": ".py",
      "mimetype": "text/x-python",
      "name": "python",
      "nbconvert_exporter": "python",
      "pygments_lexer": "ipython3",
      "version": "3.7.3"
    },
    "colab": {
      "name": "Python_Basics.ipynb",
      "provenance": []
    }
  },
  "cells": [
    {
      "cell_type": "markdown",
      "metadata": {
        "id": "BU4PGbtQYpcx",
        "colab_type": "text"
      },
      "source": [
        "# This is our first jupyter notebook"
      ]
    },
    {
      "cell_type": "markdown",
      "metadata": {
        "id": "4tfRe7PRYpcy",
        "colab_type": "text"
      },
      "source": [
        "### Markdown cell example:\n",
        "$x = \\frac{-b\\pm\\sqrt{b^2-4ac}}{2a}$"
      ]
    },
    {
      "cell_type": "markdown",
      "metadata": {
        "id": "f3r1TTYAYpcy",
        "colab_type": "text"
      },
      "source": [
        "## Basic programming aspects of Python"
      ]
    },
    {
      "cell_type": "code",
      "metadata": {
        "id": "g1hzCO9IYpcz",
        "colab_type": "code",
        "colab": {},
        "outputId": "1465c139-d1fb-4791-c5f4-34cbe2ea4303"
      },
      "source": [
        "#print the version of python you are using:\n",
        "import sys\n",
        "print(\"Python version\")\n",
        "print (sys.version)"
      ],
      "execution_count": 0,
      "outputs": [
        {
          "output_type": "stream",
          "text": [
            "Python version\n",
            "3.7.3 (default, Mar 27 2019, 17:13:21) [MSC v.1915 64 bit (AMD64)]\n"
          ],
          "name": "stdout"
        }
      ]
    },
    {
      "cell_type": "markdown",
      "metadata": {
        "id": "QPAjMRY3Ypc2",
        "colab_type": "text"
      },
      "source": [
        "#### Variables"
      ]
    },
    {
      "cell_type": "code",
      "metadata": {
        "id": "rM3XBnvhYpc3",
        "colab_type": "code",
        "colab": {},
        "outputId": "642b749a-1b15-494c-aedd-cc0abefe972a"
      },
      "source": [
        "#Two types of key variables: numerical and string\n",
        "x = 10  # Integer variable\n",
        "y = \"Hello World\"  # String variable\n",
        " \n",
        "# Displaying variables value using **print** statement\n",
        "print(x)\n",
        "print(y)"
      ],
      "execution_count": 0,
      "outputs": [
        {
          "output_type": "stream",
          "text": [
            "10\n",
            "Hello World\n"
          ],
          "name": "stdout"
        }
      ]
    },
    {
      "cell_type": "code",
      "metadata": {
        "id": "HljHoJ_fYpc6",
        "colab_type": "code",
        "colab": {},
        "outputId": "2e95845c-943d-47f6-88c8-2e3448e27749"
      },
      "source": [
        "#Checking type of variable\n",
        "var1 = 'Hello World'\n",
        "print(type(var1))\n",
        " \n",
        "var2 = 100\n",
        "if type(var2) == int:\n",
        "    print('Integer')"
      ],
      "execution_count": 0,
      "outputs": [
        {
          "output_type": "stream",
          "text": [
            "<class 'str'>\n",
            "Integer\n"
          ],
          "name": "stdout"
        }
      ]
    },
    {
      "cell_type": "markdown",
      "metadata": {
        "id": "M5cxSsrhYpc8",
        "colab_type": "text"
      },
      "source": [
        "### Execise 1:\n",
        "\n",
        "Write a Python program to print the following string in a specific format using \\n and \\t (see the output). Go to the editor\n",
        "Sample String : \"Twinkle, twinkle, little star, How I wonder what you are! Up above the world so high, Like a diamond in the sky. Twinkle, twinkle, little star, How I wonder what you are\" Output :"
      ]
    },
    {
      "cell_type": "code",
      "metadata": {
        "id": "w15PJZI8Ypc9",
        "colab_type": "code",
        "colab": {
          "base_uri": "https://localhost:8080/",
          "height": 119
        },
        "outputId": "b77924ce-e9d1-41a2-e404-d5464f6844c1"
      },
      "source": [
        "print(\"Twinkle, twinkle, little star, \\n\\tHow I wonder what you are! \\n\\t\\tUp above the world so high, \\n\\t\\tLike a diamond in the sky. \\nTwinkle, twinkle, little star, \\n\\tHow I wonder what you are!\")"
      ],
      "execution_count": 1,
      "outputs": [
        {
          "output_type": "stream",
          "text": [
            "Twinkle, twinkle, little star, \n",
            "\tHow I wonder what you are! \n",
            "\t\tUp above the world so high, \n",
            "\t\tLike a diamond in the sky. \n",
            "Twinkle, twinkle, little star, \n",
            "\tHow I wonder what you are!\n"
          ],
          "name": "stdout"
        }
      ]
    },
    {
      "cell_type": "markdown",
      "metadata": {
        "id": "k5onRRg8YpdC",
        "colab_type": "text"
      },
      "source": [
        "#### Functions"
      ]
    },
    {
      "cell_type": "code",
      "metadata": {
        "id": "PYd64l9qYpdC",
        "colab_type": "code",
        "colab": {},
        "outputId": "85e5337d-e8ec-43cc-fc3d-dc287a2e5fce"
      },
      "source": [
        "#Here is an example of a basic function\n",
        "def square(x):\n",
        "    \"\"\"This program calculates the square\n",
        "    input is x\n",
        "    returns the square of x\"\"\"\n",
        "    out = x*x\n",
        "    return out\n",
        "\n",
        "print(square(10))"
      ],
      "execution_count": 0,
      "outputs": [
        {
          "output_type": "stream",
          "text": [
            "100\n"
          ],
          "name": "stdout"
        }
      ]
    },
    {
      "cell_type": "code",
      "metadata": {
        "id": "uRRHrjfxYpdF",
        "colab_type": "code",
        "colab": {},
        "outputId": "e57eb79d-3316-4c1c-8ffa-d0db0bd89b55"
      },
      "source": [
        "a = int(input(\"Input an integer : \"))\n",
        "print(square(a))"
      ],
      "execution_count": 0,
      "outputs": [
        {
          "output_type": "stream",
          "text": [
            "Input an integer : 57\n",
            "3249\n"
          ],
          "name": "stdout"
        }
      ]
    },
    {
      "cell_type": "markdown",
      "metadata": {
        "id": "-GlAHeIaYpdK",
        "colab_type": "text"
      },
      "source": [
        "### Exercise 2:\n",
        "Write a Python program that accepts an integer (n) and computes the value of n+nn+nnn."
      ]
    },
    {
      "cell_type": "code",
      "metadata": {
        "id": "sxQdgHfHZfRi",
        "colab_type": "code",
        "colab": {
          "base_uri": "https://localhost:8080/",
          "height": 51
        },
        "outputId": "5fc149ce-a252-497e-d42d-4021339e05d0"
      },
      "source": [
        "n= int(input(\"Input an integer: \"))\n",
        "a=n\n",
        "b=n*10+a\n",
        "c=n*100+b\n",
        "d=a+b+c\n",
        "print(d)"
      ],
      "execution_count": 3,
      "outputs": [
        {
          "output_type": "stream",
          "text": [
            "Input an integer: 3\n",
            "369\n"
          ],
          "name": "stdout"
        }
      ]
    },
    {
      "cell_type": "markdown",
      "metadata": {
        "id": "JeTpeAqjYpdK",
        "colab_type": "text"
      },
      "source": [
        "#### Conditionals"
      ]
    },
    {
      "cell_type": "code",
      "metadata": {
        "id": "xg_BFhS9YpdL",
        "colab_type": "code",
        "colab": {
          "base_uri": "https://localhost:8080/",
          "height": 34
        },
        "outputId": "bf9b3247-ea04-43f3-ea5d-909e0dd20337"
      },
      "source": [
        "#if statement\n",
        "x = 10\n",
        "y = 20\n",
        " \n",
        "if x < y:\n",
        "    print(\"x is less than y\")"
      ],
      "execution_count": 19,
      "outputs": [
        {
          "output_type": "stream",
          "text": [
            "x is less than y\n"
          ],
          "name": "stdout"
        }
      ]
    },
    {
      "cell_type": "code",
      "metadata": {
        "id": "Dt3P7NALYpdO",
        "colab_type": "code",
        "colab": {},
        "outputId": "e10bb6eb-18d0-433a-b761-c35d78893a6f"
      },
      "source": [
        "#if-then-else\n",
        "x = 10\n",
        "y = 5\n",
        " \n",
        "if x < y:\n",
        "    print(\"x is less than y\")\n",
        "else:\n",
        "    print(\"y is less than x\")"
      ],
      "execution_count": 0,
      "outputs": [
        {
          "output_type": "stream",
          "text": [
            "y is less than x\n"
          ],
          "name": "stdout"
        }
      ]
    },
    {
      "cell_type": "markdown",
      "metadata": {
        "id": "yx6N6UZSYpdQ",
        "colab_type": "text"
      },
      "source": [
        "### Exercise 3:\n",
        "Write a Python program to find whether a given number (accept from the user) is even or odd, print out an appropriate message to the user"
      ]
    },
    {
      "cell_type": "code",
      "metadata": {
        "id": "8jhO0_H4YpdR",
        "colab_type": "code",
        "colab": {
          "base_uri": "https://localhost:8080/",
          "height": 119
        },
        "outputId": "ea160d44-6707-4455-c14d-a78f3a8d7f2d"
      },
      "source": [
        "#extension\n",
        "x = int(input(\"Input for integer x: \"))\n",
        "y = int(input(\"Input for integer y: \"))\n",
        "z = int(input(\"Input for integer z: \"))\n",
        " \n",
        "if (x % 2) == 0:\n",
        "    print(\"x is even\")\n",
        "else:\n",
        "    print(\"x is odd\")\n",
        "if (y % 2) == 0:\n",
        "    print(\"y is even\")\n",
        "else:\n",
        "    print(\"y is odd\")\n",
        "if (z % 2) == 0:\n",
        "    print(\"z is even\")\n",
        "else:\n",
        "    print(\"z is odd\")"
      ],
      "execution_count": 37,
      "outputs": [
        {
          "output_type": "stream",
          "text": [
            "Input for integer x: 2\n",
            "Input for integer y: 3\n",
            "Input for integer z: 4\n",
            "x is even\n",
            "y is odd\n",
            "z is even\n"
          ],
          "name": "stdout"
        }
      ]
    },
    {
      "cell_type": "markdown",
      "metadata": {
        "id": "MkCEkAFIYpdW",
        "colab_type": "text"
      },
      "source": [
        "### Exercise 4:\n",
        "Write a Python program to test and print whether the input number is within 100 of 1000."
      ]
    },
    {
      "cell_type": "code",
      "metadata": {
        "id": "fmko9-6WeHzx",
        "colab_type": "code",
        "colab": {
          "base_uri": "https://localhost:8080/",
          "height": 85
        },
        "outputId": "b7144a93-7bc3-4d9c-cb88-8e258a471cef"
      },
      "source": [
        "def near_thousand(n):\n",
        "      return (abs(1000 - n) <= 100)\n",
        "print(near_thousand(1000))\n",
        "print(near_thousand(900))\n",
        "print(near_thousand(800))   \n",
        "print(near_thousand(2200))\n"
      ],
      "execution_count": 6,
      "outputs": [
        {
          "output_type": "stream",
          "text": [
            "True\n",
            "True\n",
            "False\n",
            "False\n"
          ],
          "name": "stdout"
        }
      ]
    },
    {
      "cell_type": "markdown",
      "metadata": {
        "id": "OfSHZhaWYpdY",
        "colab_type": "text"
      },
      "source": [
        "#### For loops"
      ]
    },
    {
      "cell_type": "code",
      "metadata": {
        "id": "V-N3S1k1YpdZ",
        "colab_type": "code",
        "colab": {},
        "outputId": "59ca550a-9185-48e3-9605-ae729f2eebe6"
      },
      "source": [
        "for number in [1, 2, 3, 4, 5]:\n",
        "    print(number)"
      ],
      "execution_count": 0,
      "outputs": [
        {
          "output_type": "stream",
          "text": [
            "1\n",
            "2\n",
            "3\n",
            "4\n",
            "5\n"
          ],
          "name": "stdout"
        }
      ]
    },
    {
      "cell_type": "code",
      "metadata": {
        "id": "Bt4tQ063Ypdf",
        "colab_type": "code",
        "colab": {},
        "outputId": "737c1dbe-ba95-400c-9d3d-4591ae728aca"
      },
      "source": [
        "for number in range(5):\n",
        "    print(\"Python\")"
      ],
      "execution_count": 0,
      "outputs": [
        {
          "output_type": "stream",
          "text": [
            "Python\n",
            "Python\n",
            "Python\n",
            "Python\n",
            "Python\n"
          ],
          "name": "stdout"
        }
      ]
    },
    {
      "cell_type": "markdown",
      "metadata": {
        "id": "Det54q71Ypdh",
        "colab_type": "text"
      },
      "source": [
        "#### Data structures"
      ]
    },
    {
      "cell_type": "code",
      "metadata": {
        "id": "hRPK8OqgYpdh",
        "colab_type": "code",
        "colab": {},
        "outputId": "650811db-b3a5-4953-a624-82a8fee72c72"
      },
      "source": [
        "#List of various entities\n",
        "intList = [10, 20, 30, 40]\n",
        "strList = [\"Canada\", \"Japan\", \"London\"]\n",
        "mixList = [\"Canada\", 20, True, 500.50]\n",
        "generate = [x + 6 for x in [4, 5, 6]]  # Generate from loop: list comprehension\n",
        "listfromtuple = list((5, 13, 15, 17, 29))  # List from a tuple\n",
        "python = list('python')  # List from a string\n",
        " \n",
        "print(intList)\n",
        "print(strList)\n",
        "print(mixList)\n",
        "print(generate)\n",
        "print(listfromtuple)\n",
        "print(python)"
      ],
      "execution_count": 0,
      "outputs": [
        {
          "output_type": "stream",
          "text": [
            "[10, 20, 30, 40]\n",
            "['Canada', 'Japan', 'London']\n",
            "['Canada', 20, True, 500.5]\n",
            "[10, 11, 12]\n",
            "[5, 13, 15, 17, 29]\n",
            "['p', 'y', 't', 'h', 'o', 'n']\n"
          ],
          "name": "stdout"
        }
      ]
    },
    {
      "cell_type": "code",
      "metadata": {
        "id": "EsZI333hYpdl",
        "colab_type": "code",
        "colab": {
          "base_uri": "https://localhost:8080/",
          "height": 51
        },
        "outputId": "b65a4969-5504-4792-9e91-728c0abe507c"
      },
      "source": [
        "#Accessing list items by index\n",
        "testList = [\"Canada\", \"Japan\", \"London\"]\n",
        "print(testList[1])\n",
        "print(testList[-3])"
      ],
      "execution_count": 38,
      "outputs": [
        {
          "output_type": "stream",
          "text": [
            "Japan\n",
            "Canada\n"
          ],
          "name": "stdout"
        }
      ]
    },
    {
      "cell_type": "code",
      "metadata": {
        "id": "sLEB9tZOYpdn",
        "colab_type": "code",
        "colab": {},
        "outputId": "cfbb9b05-4e5b-4b22-97f3-fa3cee1936b8"
      },
      "source": [
        "#Changing list items directly\n",
        "testList = [\"Canada\", \"Japan\", \"London\"]\n",
        "print(testList)\n",
        " \n",
        "testList[0] = \"Germany\"\n",
        "testList[1] = 100\n",
        "print(testList)"
      ],
      "execution_count": 0,
      "outputs": [
        {
          "output_type": "stream",
          "text": [
            "['Canada', 'Japan', 'London']\n",
            "['Germany', 100, 'London']\n"
          ],
          "name": "stdout"
        }
      ]
    },
    {
      "cell_type": "code",
      "metadata": {
        "id": "SN3p3JeCYpdq",
        "colab_type": "code",
        "colab": {},
        "outputId": "6218f2c5-4868-4575-cbe0-075b9abb7c3a"
      },
      "source": [
        "#Removing duplicate entries in a list:\n",
        "testList = [\"Canada\", \"Japan\", \"Canada\", \"Germany\", \"Japan\", \"Italy\"]\n",
        "\n",
        "print(testList)\n",
        " \n",
        "cleanlist = []\n",
        "#The following is an example if a powerful Python utility called \"list comprehension\"\n",
        "[cleanlist.append(x) for x in testList if x not in cleanlist]\n",
        "\n",
        "print(cleanlist)"
      ],
      "execution_count": 0,
      "outputs": [
        {
          "output_type": "stream",
          "text": [
            "['Canada', 'Japan', 'Canada', 'Germany', 'Japan', 'Italy']\n",
            "['Canada', 'Japan', 'Germany', 'Italy']\n"
          ],
          "name": "stdout"
        }
      ]
    },
    {
      "cell_type": "code",
      "metadata": {
        "id": "XLCrfxSWYpds",
        "colab_type": "code",
        "colab": {},
        "outputId": "73e1f12c-50e3-4742-8fef-009b4a680870"
      },
      "source": [
        "#The difference between two lists:\n",
        "list1 = [\"Canada\", \"Japan\", \"Canada\", \"Germany\", \"Japan\", \"Italy\"]\n",
        "list2 = [\"Germany\", \"France\", \"Poland\", \"Italy\", \"India\", \"London\"]\n",
        "\n",
        "#when chaning a list to a set, only unique entries are kept and in no specific order \n",
        "sub1 = list(set(list1) - set(list2))\n",
        "print(sub1)\n",
        " \n",
        "sub2 = list(set(list2) - set(list1))\n",
        "print(sub2)"
      ],
      "execution_count": 0,
      "outputs": [
        {
          "output_type": "stream",
          "text": [
            "['Canada', 'Japan']\n",
            "['Poland', 'London', 'India', 'France']\n"
          ],
          "name": "stdout"
        }
      ]
    },
    {
      "cell_type": "markdown",
      "metadata": {
        "id": "vvKtR9oyYpdu",
        "colab_type": "text"
      },
      "source": [
        "### Exercise 5\n",
        "Write a Python program to print out a set containing all the colors from color_list_1 which are not present in color_list_2.    Here is an example:  \n",
        "\n",
        "Test Data :  \n",
        "color_list_1 = set([\"White\", \"Black\", \"Red\"])  \n",
        "color_list_2 = set([\"Red\", \"Green\"])  \n",
        "Expected Output :  \n",
        "{'Black', 'White'}  "
      ]
    },
    {
      "cell_type": "code",
      "metadata": {
        "id": "GWL2Fg9sh9xl",
        "colab_type": "code",
        "colab": {
          "base_uri": "https://localhost:8080/",
          "height": 34
        },
        "outputId": "022e2cb5-32d5-40fe-a205-91befb753448"
      },
      "source": [
        "color_list_1 = set([\"White\", \"Black\", \"Red\"])\n",
        "color_list_2 = set([\"Red\", \"Green\"])\n",
        "print( \"%s %s\"%(color_list[3],color_list[2]))"
      ],
      "execution_count": 22,
      "outputs": [
        {
          "output_type": "stream",
          "text": [
            "Black White\n"
          ],
          "name": "stdout"
        }
      ]
    },
    {
      "cell_type": "markdown",
      "metadata": {
        "id": "Qh34JFcFYpdu",
        "colab_type": "text"
      },
      "source": [
        "#### Dictionaries are a more general type of list, where each entry is a key:value pair\n",
        "#There are many ways to generate dictionaries"
      ]
    },
    {
      "cell_type": "code",
      "metadata": {
        "id": "crC0eScGYpdv",
        "colab_type": "code",
        "colab": {},
        "outputId": "64e9464d-bd92-4ba4-fc0b-df54ac713e26"
      },
      "source": [
        "#The follwoing are all equivalent ways of creating the same dictionary\n",
        "\n",
        "d1 = dict(Canada=100, Japan=500)\n",
        "d2 = {'Canada': 100, 'Japan': 500}\n",
        "d3 = dict(zip(['Canada', 'Japan'], [100, 500]))\n",
        "d4 = dict([('Canada', 100), ('Japan', 500)])\n",
        "d5 = dict({'Japan': 500, 'Canada': 100})\n",
        "print(d1)\n",
        "print(d2)\n",
        "print(d3)\n",
        "print(d4)\n",
        "print(d5)   "
      ],
      "execution_count": 0,
      "outputs": [
        {
          "output_type": "stream",
          "text": [
            "{'Canada': 100, 'Japan': 500}\n",
            "{'Canada': 100, 'Japan': 500}\n",
            "{'Canada': 100, 'Japan': 500}\n",
            "{'Canada': 100, 'Japan': 500}\n",
            "{'Japan': 500, 'Canada': 100}\n"
          ],
          "name": "stdout"
        }
      ]
    },
    {
      "cell_type": "code",
      "metadata": {
        "id": "YhvkK55qYpdx",
        "colab_type": "code",
        "colab": {},
        "outputId": "6b2b6968-f06b-412e-9831-06bc4cc6f013"
      },
      "source": [
        "#here are ways to get values of keys from a dictionary:\n",
        "d1 = {'Canada': 100, 'Japan': 500}\n",
        "x = d1[\"Canada\"]\n",
        "y = d1.get(\"Japan\")\n",
        "print(x)\n",
        "print(y)"
      ],
      "execution_count": 0,
      "outputs": [
        {
          "output_type": "stream",
          "text": [
            "100\n",
            "500\n"
          ],
          "name": "stdout"
        }
      ]
    },
    {
      "cell_type": "markdown",
      "metadata": {
        "id": "lAUBPALPYpdz",
        "colab_type": "text"
      },
      "source": [
        "#### to retrieve keys and values as lists"
      ]
    },
    {
      "cell_type": "code",
      "metadata": {
        "id": "--CefPhfYpd0",
        "colab_type": "code",
        "colab": {},
        "outputId": "78fe7bf9-a507-431b-f3db-3083c98c0686"
      },
      "source": [
        "for item in d1.keys():\n",
        "    print(item)"
      ],
      "execution_count": 0,
      "outputs": [
        {
          "output_type": "stream",
          "text": [
            "Canada\n",
            "Japan\n"
          ],
          "name": "stdout"
        }
      ]
    },
    {
      "cell_type": "code",
      "metadata": {
        "id": "braNzX1iYpd1",
        "colab_type": "code",
        "colab": {},
        "outputId": "cc26e01e-80bb-44ef-807c-97161502485c"
      },
      "source": [
        "##values as a list\n",
        "list(d1.values())"
      ],
      "execution_count": 0,
      "outputs": [
        {
          "output_type": "execute_result",
          "data": {
            "text/plain": [
              "[100, 500]"
            ]
          },
          "metadata": {
            "tags": []
          },
          "execution_count": 31
        }
      ]
    },
    {
      "cell_type": "markdown",
      "metadata": {
        "id": "Zv4-C-URYpd3",
        "colab_type": "text"
      },
      "source": [
        "### Exercise 6\n",
        "Print each of the keys and corresponding values, one per line, in a dictionary (say d3) in the format: key = value"
      ]
    },
    {
      "cell_type": "code",
      "metadata": {
        "id": "TYorKlicUdXN",
        "colab_type": "code",
        "colab": {
          "base_uri": "https://localhost:8080/",
          "height": 68
        },
        "outputId": "47cfbeef-bba3-477e-f787-403343788767"
      },
      "source": [
        "d1 = dict(Canada=100, Japan=500)\n",
        "d2 = {'Canada': 100, 'Japan': 500}\n",
        "d3 = dict(zip(['Canada', 'Japan'], [100, 500]))\n",
        "d4 = dict([('Canada', 100), ('Japan', 500)])\n",
        "d5 = dict({'Japan': 500, 'Canada': 100})\n",
        "for item in d3.keys():\n",
        "    print(item)\n",
        "list(d3.values())"
      ],
      "execution_count": 36,
      "outputs": [
        {
          "output_type": "stream",
          "text": [
            "Canada\n",
            "Japan\n"
          ],
          "name": "stdout"
        },
        {
          "output_type": "execute_result",
          "data": {
            "text/plain": [
              "[100, 500]"
            ]
          },
          "metadata": {
            "tags": []
          },
          "execution_count": 36
        }
      ]
    },
    {
      "cell_type": "markdown",
      "metadata": {
        "id": "6frGNqA7Ypd3",
        "colab_type": "text"
      },
      "source": [
        "#### Classes and Objects"
      ]
    },
    {
      "cell_type": "code",
      "metadata": {
        "id": "eAEokUt8Ypd5",
        "colab_type": "code",
        "colab": {}
      },
      "source": [
        "#A class is an abstraction of an entity\n",
        "class Employee:\n",
        "    name = \"John\"\n",
        "    age = 26"
      ],
      "execution_count": 0,
      "outputs": []
    },
    {
      "cell_type": "code",
      "metadata": {
        "id": "7TeMRx08Ypd6",
        "colab_type": "code",
        "colab": {},
        "outputId": "d7f85c12-0701-4626-9ce0-d9de3a481491"
      },
      "source": [
        "#Here is how to create an object of the class Employee\n",
        "e = Employee()\n",
        "print(e.name, e.age)\n",
        "print(type(e))  # <class '__main__.Employee'>"
      ],
      "execution_count": 0,
      "outputs": [
        {
          "output_type": "stream",
          "text": [
            "John 26\n",
            "<class '__main__.Employee'>\n"
          ],
          "name": "stdout"
        }
      ]
    },
    {
      "cell_type": "code",
      "metadata": {
        "id": "JeYaRMUIYpd8",
        "colab_type": "code",
        "colab": {},
        "outputId": "766d63c7-534d-487c-86a9-c540c903ae64"
      },
      "source": [
        "#Typically a class object will have initializer to set initial value to its attributes, as in this example:\n",
        "class Employee:\n",
        "    def __init__(self, name, age):\n",
        "        self.name = name\n",
        "        self.age = age\n",
        " \n",
        " \n",
        "e = Employee(\"Sam\", 36)\n",
        "print(e.name, e.age)"
      ],
      "execution_count": 0,
      "outputs": [
        {
          "output_type": "stream",
          "text": [
            "Sam 36\n"
          ],
          "name": "stdout"
        }
      ]
    },
    {
      "cell_type": "code",
      "metadata": {
        "id": "yQF5M7GmYpeA",
        "colab_type": "code",
        "colab": {},
        "outputId": "383e2469-181d-4b51-8bdf-5cb7367f5270"
      },
      "source": [
        "#Another important part of a class object are its methods\n",
        "class Employee:\n",
        "    def __init__(self, name, age):\n",
        "        self.name = name\n",
        "        self.age = age\n",
        "    \n",
        "    #method \"details\"\n",
        "    def details(self):\n",
        "        print(\"Employee Name:\",  self.name)\n",
        "        print(\"Employee Age:\", self.age)\n",
        " \n",
        " \n",
        "emp = Employee(\"Sam\", 36)\n",
        "emp.details()"
      ],
      "execution_count": 0,
      "outputs": [
        {
          "output_type": "stream",
          "text": [
            "Employee Name: Sam\n",
            "Employee Age: 36\n"
          ],
          "name": "stdout"
        }
      ]
    },
    {
      "cell_type": "markdown",
      "metadata": {
        "id": "ooAFcQxHYpeC",
        "colab_type": "text"
      },
      "source": [
        "### Exercise 7:\n",
        "Create a python class \"Student\" with \n",
        "\n",
        "- attributes: name, age, major, year in college\n",
        "- methods: \n",
        "           1. __init__ that allows to initialize the each Student instance with attributes when created\n",
        "           2. details that prints out name, age and major when called"
      ]
    },
    {
      "cell_type": "code",
      "metadata": {
        "id": "5QrNd5TjYpeC",
        "colab_type": "code",
        "colab": {
          "base_uri": "https://localhost:8080/",
          "height": 68
        },
        "outputId": "c5d65aeb-b17e-4785-abef-39a1f55714bf"
      },
      "source": [
        "class Student:\n",
        "    def __init__(self, name, age, major):\n",
        "        self.name = name\n",
        "        self.age = age\n",
        "        self.major= major\n",
        "    \n",
        "    #method \"details\"\n",
        "    def details(self):\n",
        "        print(\"Student Name:\",  self.name)\n",
        "        print(\"Student Age:\", self.age)\n",
        "        print(\"Student Major:\", self.major)\n",
        "stu = Student(\"Arvy\", 22, \"Math\")\n",
        "stu.details()"
      ],
      "execution_count": 46,
      "outputs": [
        {
          "output_type": "stream",
          "text": [
            "Student Name: Arvy\n",
            "Student Age: 22\n",
            "Student Major: Math\n"
          ],
          "name": "stdout"
        }
      ]
    }
  ]
}