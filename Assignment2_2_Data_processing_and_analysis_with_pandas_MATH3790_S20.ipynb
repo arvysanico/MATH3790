{
  "nbformat": 4,
  "nbformat_minor": 0,
  "metadata": {
    "kernelspec": {
      "display_name": "Python 3",
      "language": "python",
      "name": "python3"
    },
    "language_info": {
      "codemirror_mode": {
        "name": "ipython",
        "version": 3
      },
      "file_extension": ".py",
      "mimetype": "text/x-python",
      "name": "python",
      "nbconvert_exporter": "python",
      "pygments_lexer": "ipython3",
      "version": "3.7.6"
    },
    "colab": {
      "name": "Assignment2.2 - Data_processing_and_analysis_with_pandas_MATH3790_S20.ipynb",
      "provenance": []
    }
  },
  "cells": [
    {
      "cell_type": "markdown",
      "metadata": {
        "id": "bH-1Ep0Hvq_V",
        "colab_type": "text"
      },
      "source": [
        "## Assignment 2.2: Introduction to `pandas` : The Dataframe Object: (Due: 2/19/20)\n",
        "\n",
        "- Pandas is the workhorse in Python data science projects "
      ]
    },
    {
      "cell_type": "markdown",
      "metadata": {
        "id": "i5UiYwMuvq_W",
        "colab_type": "text"
      },
      "source": [
        "Adapted from Robert Johansson:  Source code listings for [Numerical Python - A Practical Techniques Approach for Industry](http://www.apress.com/9781484205549) (ISBN 978-1-484205-54-9).\n",
        "\n",
        "The source code listings can be downloaded from http://www.apress.com/9781484205549"
      ]
    },
    {
      "cell_type": "code",
      "metadata": {
        "id": "g-ECNLkavq_X",
        "colab_type": "code",
        "colab": {}
      },
      "source": [
        "%matplotlib inline\n",
        "import matplotlib.pyplot as plt"
      ],
      "execution_count": 0,
      "outputs": []
    },
    {
      "cell_type": "code",
      "metadata": {
        "id": "sEC7-bCivq_Z",
        "colab_type": "code",
        "colab": {}
      },
      "source": [
        "import numpy as np"
      ],
      "execution_count": 0,
      "outputs": []
    },
    {
      "cell_type": "code",
      "metadata": {
        "id": "Bg3ZkrA3vq_b",
        "colab_type": "code",
        "colab": {}
      },
      "source": [
        "import pandas as pd"
      ],
      "execution_count": 0,
      "outputs": []
    },
    {
      "cell_type": "markdown",
      "metadata": {
        "id": "324LkudYvq_d",
        "colab_type": "text"
      },
      "source": [
        "## DataFrame object"
      ]
    },
    {
      "cell_type": "code",
      "metadata": {
        "id": "ngWNWBGcvq_d",
        "colab_type": "code",
        "colab": {}
      },
      "source": [
        "df = pd.DataFrame([[909976, 8615246, 2872086, 2273305],\n",
        "                   [\"Sweden\", \"United kingdom\", \"Italy\", \"France\"]])"
      ],
      "execution_count": 0,
      "outputs": []
    },
    {
      "cell_type": "code",
      "metadata": {
        "id": "cDOxt9S0vq_h",
        "colab_type": "code",
        "colab": {},
        "outputId": "db59c159-0ac5-447e-f87c-9da4af030eb2"
      },
      "source": [
        "df"
      ],
      "execution_count": 0,
      "outputs": [
        {
          "output_type": "execute_result",
          "data": {
            "text/html": [
              "<div>\n",
              "<style scoped>\n",
              "    .dataframe tbody tr th:only-of-type {\n",
              "        vertical-align: middle;\n",
              "    }\n",
              "\n",
              "    .dataframe tbody tr th {\n",
              "        vertical-align: top;\n",
              "    }\n",
              "\n",
              "    .dataframe thead th {\n",
              "        text-align: right;\n",
              "    }\n",
              "</style>\n",
              "<table border=\"1\" class=\"dataframe\">\n",
              "  <thead>\n",
              "    <tr style=\"text-align: right;\">\n",
              "      <th></th>\n",
              "      <th>0</th>\n",
              "      <th>1</th>\n",
              "      <th>2</th>\n",
              "      <th>3</th>\n",
              "    </tr>\n",
              "  </thead>\n",
              "  <tbody>\n",
              "    <tr>\n",
              "      <th>0</th>\n",
              "      <td>909976</td>\n",
              "      <td>8615246</td>\n",
              "      <td>2872086</td>\n",
              "      <td>2273305</td>\n",
              "    </tr>\n",
              "    <tr>\n",
              "      <th>1</th>\n",
              "      <td>Sweden</td>\n",
              "      <td>United kingdom</td>\n",
              "      <td>Italy</td>\n",
              "      <td>France</td>\n",
              "    </tr>\n",
              "  </tbody>\n",
              "</table>\n",
              "</div>"
            ],
            "text/plain": [
              "        0               1        2        3\n",
              "0  909976         8615246  2872086  2273305\n",
              "1  Sweden  United kingdom    Italy   France"
            ]
          },
          "metadata": {
            "tags": []
          },
          "execution_count": 5
        }
      ]
    },
    {
      "cell_type": "code",
      "metadata": {
        "id": "7muojGBFvq_j",
        "colab_type": "code",
        "colab": {}
      },
      "source": [
        "df = pd.DataFrame([[909976, \"Sweden\"],\n",
        "                   [8615246, \"United kingdom\"], \n",
        "                   [2872086, \"Italy\"],\n",
        "                   [2273305, \"France\"]])"
      ],
      "execution_count": 0,
      "outputs": []
    },
    {
      "cell_type": "code",
      "metadata": {
        "id": "3LQt-J9Ovq_l",
        "colab_type": "code",
        "colab": {},
        "outputId": "f41e8116-e468-4e02-eacc-d02d97700b46"
      },
      "source": [
        "df"
      ],
      "execution_count": 0,
      "outputs": [
        {
          "output_type": "execute_result",
          "data": {
            "text/html": [
              "<div>\n",
              "<style scoped>\n",
              "    .dataframe tbody tr th:only-of-type {\n",
              "        vertical-align: middle;\n",
              "    }\n",
              "\n",
              "    .dataframe tbody tr th {\n",
              "        vertical-align: top;\n",
              "    }\n",
              "\n",
              "    .dataframe thead th {\n",
              "        text-align: right;\n",
              "    }\n",
              "</style>\n",
              "<table border=\"1\" class=\"dataframe\">\n",
              "  <thead>\n",
              "    <tr style=\"text-align: right;\">\n",
              "      <th></th>\n",
              "      <th>0</th>\n",
              "      <th>1</th>\n",
              "    </tr>\n",
              "  </thead>\n",
              "  <tbody>\n",
              "    <tr>\n",
              "      <th>0</th>\n",
              "      <td>909976</td>\n",
              "      <td>Sweden</td>\n",
              "    </tr>\n",
              "    <tr>\n",
              "      <th>1</th>\n",
              "      <td>8615246</td>\n",
              "      <td>United kingdom</td>\n",
              "    </tr>\n",
              "    <tr>\n",
              "      <th>2</th>\n",
              "      <td>2872086</td>\n",
              "      <td>Italy</td>\n",
              "    </tr>\n",
              "    <tr>\n",
              "      <th>3</th>\n",
              "      <td>2273305</td>\n",
              "      <td>France</td>\n",
              "    </tr>\n",
              "  </tbody>\n",
              "</table>\n",
              "</div>"
            ],
            "text/plain": [
              "         0               1\n",
              "0   909976          Sweden\n",
              "1  8615246  United kingdom\n",
              "2  2872086           Italy\n",
              "3  2273305          France"
            ]
          },
          "metadata": {
            "tags": []
          },
          "execution_count": 7
        }
      ]
    },
    {
      "cell_type": "code",
      "metadata": {
        "id": "r6bGIXoFvq_m",
        "colab_type": "code",
        "colab": {}
      },
      "source": [
        "df.index = [\"Stockholm\", \"London\", \"Rome\", \"Paris\"]"
      ],
      "execution_count": 0,
      "outputs": []
    },
    {
      "cell_type": "code",
      "metadata": {
        "id": "l9KxFIq_vq_q",
        "colab_type": "code",
        "colab": {}
      },
      "source": [
        "df.columns = [\"Population\", \"State\"]"
      ],
      "execution_count": 0,
      "outputs": []
    },
    {
      "cell_type": "code",
      "metadata": {
        "id": "ZHH2oehnvq_s",
        "colab_type": "code",
        "colab": {},
        "outputId": "1f42bf2d-9170-4efc-bde7-d8e9ebcd430f"
      },
      "source": [
        "df"
      ],
      "execution_count": 0,
      "outputs": [
        {
          "output_type": "execute_result",
          "data": {
            "text/html": [
              "<div>\n",
              "<style scoped>\n",
              "    .dataframe tbody tr th:only-of-type {\n",
              "        vertical-align: middle;\n",
              "    }\n",
              "\n",
              "    .dataframe tbody tr th {\n",
              "        vertical-align: top;\n",
              "    }\n",
              "\n",
              "    .dataframe thead th {\n",
              "        text-align: right;\n",
              "    }\n",
              "</style>\n",
              "<table border=\"1\" class=\"dataframe\">\n",
              "  <thead>\n",
              "    <tr style=\"text-align: right;\">\n",
              "      <th></th>\n",
              "      <th>Population</th>\n",
              "      <th>State</th>\n",
              "    </tr>\n",
              "  </thead>\n",
              "  <tbody>\n",
              "    <tr>\n",
              "      <th>Stockholm</th>\n",
              "      <td>909976</td>\n",
              "      <td>Sweden</td>\n",
              "    </tr>\n",
              "    <tr>\n",
              "      <th>London</th>\n",
              "      <td>8615246</td>\n",
              "      <td>United kingdom</td>\n",
              "    </tr>\n",
              "    <tr>\n",
              "      <th>Rome</th>\n",
              "      <td>2872086</td>\n",
              "      <td>Italy</td>\n",
              "    </tr>\n",
              "    <tr>\n",
              "      <th>Paris</th>\n",
              "      <td>2273305</td>\n",
              "      <td>France</td>\n",
              "    </tr>\n",
              "  </tbody>\n",
              "</table>\n",
              "</div>"
            ],
            "text/plain": [
              "           Population           State\n",
              "Stockholm      909976          Sweden\n",
              "London        8615246  United kingdom\n",
              "Rome          2872086           Italy\n",
              "Paris         2273305          France"
            ]
          },
          "metadata": {
            "tags": []
          },
          "execution_count": 10
        }
      ]
    },
    {
      "cell_type": "markdown",
      "metadata": {
        "id": "rpjj96VSvq_u",
        "colab_type": "text"
      },
      "source": [
        "### <font color='blue'> Exercise #1:  </font>\n",
        "    \n",
        "Given the dictionary:\n",
        "exam_data = {'name': ['Anastasia', 'Dima', 'Katherine', 'James', 'Emily', 'Michael', 'Matthew', 'Laura', 'Kevin', 'Jonas'],\n",
        "'score': [12.5, 9, 16.5, 8, 9, 20, 14.5, 8.5, 8, 19],\n",
        "'attempts': [1, 3, 2, 3, 2, 3, 1, 1, 2, 1],\n",
        "'qualify': ['yes', 'no', 'yes', 'no', 'no', 'yes', 'yes', 'no', 'no', 'yes']}\n",
        "\n",
        "and a list:  \n",
        "\n",
        "labels = ['a', 'b', 'c', 'd', 'e', 'f', 'g', 'h', 'i', 'j']\n",
        "\n",
        "1. Create a pandas DataFrame, **exam_data_df**, from the following dictionary data:\n",
        "    \n",
        "2. Now turn the \"labels\" list to be the **index** and then print out the entire exam_data"
      ]
    },
    {
      "cell_type": "code",
      "metadata": {
        "id": "eAEia0V2vs4A",
        "colab_type": "code",
        "colab": {}
      },
      "source": [
        "import numpy as np\n",
        "import pandas as pd\n",
        "exam_data = {'name': ['Anastasia', 'Dima', 'Katherine', 'James', 'Emily', 'Michael', 'Matthew', 'Laura', 'Kevin', 'Jonas'], \n",
        "             'score': [12.5, 9, 16.5, 8, 9, 20, 14.5, 8.5, 8, 19], 'attempts': [1, 3, 2, 3, 2, 3, 1, 1, 2, 1], \n",
        "             'qualify': ['yes', 'no', 'yes', 'no', 'no', 'yes', 'yes', 'no', 'no', 'yes']}\n",
        "labels = ['a', 'b', 'c', 'd', 'e', 'f', 'g', 'h', 'i', 'j']"
      ],
      "execution_count": 0,
      "outputs": []
    },
    {
      "cell_type": "code",
      "metadata": {
        "id": "EeoWj5zKwChc",
        "colab_type": "code",
        "colab": {
          "base_uri": "https://localhost:8080/",
          "height": 204
        },
        "outputId": "5985a2b0-d330-4fe3-ffa8-0b63e718eef6"
      },
      "source": [
        "df = pd.DataFrame.from_dict(exam_data)\n",
        "label_dict = dict(zip(index, labels))\n",
        "df.rename(index=label_dict, inplace=True)\n",
        "print(df)"
      ],
      "execution_count": 12,
      "outputs": [
        {
          "output_type": "stream",
          "text": [
            "        name  score  attempts qualify\n",
            "a  Anastasia   12.5         1     yes\n",
            "b       Dima    9.0         3      no\n",
            "c  Katherine   16.5         2     yes\n",
            "d      James    8.0         3      no\n",
            "e      Emily    9.0         2      no\n",
            "f    Michael   20.0         3     yes\n",
            "g    Matthew   14.5         1     yes\n",
            "h      Laura    8.5         1      no\n",
            "i      Kevin    8.0         2      no\n",
            "j      Jonas   19.0         1     yes\n"
          ],
          "name": "stdout"
        }
      ]
    },
    {
      "cell_type": "code",
      "metadata": {
        "id": "6xfkZKZXvq_u",
        "colab_type": "code",
        "colab": {}
      },
      "source": [
        "df = pd.DataFrame([[909976, \"Sweden\"],\n",
        "                   [8615246, \"United kingdom\"], \n",
        "                   [2872086, \"Italy\"],\n",
        "                   [2273305, \"France\"]],\n",
        "                  index=[\"Stockholm\", \"London\", \"Rome\", \"Paris\"],\n",
        "                  columns=[\"Population\", \"State\"])"
      ],
      "execution_count": 0,
      "outputs": []
    },
    {
      "cell_type": "code",
      "metadata": {
        "id": "QmGsWOdLvq_w",
        "colab_type": "code",
        "colab": {},
        "outputId": "da12281f-63c3-4a39-a32c-16a9e16954bd"
      },
      "source": [
        "df"
      ],
      "execution_count": 0,
      "outputs": [
        {
          "output_type": "execute_result",
          "data": {
            "text/html": [
              "<div>\n",
              "<style scoped>\n",
              "    .dataframe tbody tr th:only-of-type {\n",
              "        vertical-align: middle;\n",
              "    }\n",
              "\n",
              "    .dataframe tbody tr th {\n",
              "        vertical-align: top;\n",
              "    }\n",
              "\n",
              "    .dataframe thead th {\n",
              "        text-align: right;\n",
              "    }\n",
              "</style>\n",
              "<table border=\"1\" class=\"dataframe\">\n",
              "  <thead>\n",
              "    <tr style=\"text-align: right;\">\n",
              "      <th></th>\n",
              "      <th>Population</th>\n",
              "      <th>State</th>\n",
              "    </tr>\n",
              "  </thead>\n",
              "  <tbody>\n",
              "    <tr>\n",
              "      <th>Stockholm</th>\n",
              "      <td>909976</td>\n",
              "      <td>Sweden</td>\n",
              "    </tr>\n",
              "    <tr>\n",
              "      <th>London</th>\n",
              "      <td>8615246</td>\n",
              "      <td>United kingdom</td>\n",
              "    </tr>\n",
              "    <tr>\n",
              "      <th>Rome</th>\n",
              "      <td>2872086</td>\n",
              "      <td>Italy</td>\n",
              "    </tr>\n",
              "    <tr>\n",
              "      <th>Paris</th>\n",
              "      <td>2273305</td>\n",
              "      <td>France</td>\n",
              "    </tr>\n",
              "  </tbody>\n",
              "</table>\n",
              "</div>"
            ],
            "text/plain": [
              "           Population           State\n",
              "Stockholm      909976          Sweden\n",
              "London        8615246  United kingdom\n",
              "Rome          2872086           Italy\n",
              "Paris         2273305          France"
            ]
          },
          "metadata": {
            "tags": []
          },
          "execution_count": 12
        }
      ]
    },
    {
      "cell_type": "code",
      "metadata": {
        "id": "wLkk40rBvq_y",
        "colab_type": "code",
        "colab": {}
      },
      "source": [
        "df = pd.DataFrame({\"Population\": [909976, 8615246, 2872086, 2273305],\n",
        "                   \"State\": [\"Sweden\", \"United kingdom\", \"Italy\", \"France\"]},\n",
        "                  index=[\"Stockholm\", \"London\", \"Rome\", \"Paris\"])"
      ],
      "execution_count": 0,
      "outputs": []
    },
    {
      "cell_type": "code",
      "metadata": {
        "id": "KYKY3_zkvq_z",
        "colab_type": "code",
        "colab": {},
        "outputId": "353d9418-839b-4d0f-d52e-c3a5795ca59d"
      },
      "source": [
        "df"
      ],
      "execution_count": 0,
      "outputs": [
        {
          "output_type": "execute_result",
          "data": {
            "text/html": [
              "<div>\n",
              "<style scoped>\n",
              "    .dataframe tbody tr th:only-of-type {\n",
              "        vertical-align: middle;\n",
              "    }\n",
              "\n",
              "    .dataframe tbody tr th {\n",
              "        vertical-align: top;\n",
              "    }\n",
              "\n",
              "    .dataframe thead th {\n",
              "        text-align: right;\n",
              "    }\n",
              "</style>\n",
              "<table border=\"1\" class=\"dataframe\">\n",
              "  <thead>\n",
              "    <tr style=\"text-align: right;\">\n",
              "      <th></th>\n",
              "      <th>Population</th>\n",
              "      <th>State</th>\n",
              "    </tr>\n",
              "  </thead>\n",
              "  <tbody>\n",
              "    <tr>\n",
              "      <th>Stockholm</th>\n",
              "      <td>909976</td>\n",
              "      <td>Sweden</td>\n",
              "    </tr>\n",
              "    <tr>\n",
              "      <th>London</th>\n",
              "      <td>8615246</td>\n",
              "      <td>United kingdom</td>\n",
              "    </tr>\n",
              "    <tr>\n",
              "      <th>Rome</th>\n",
              "      <td>2872086</td>\n",
              "      <td>Italy</td>\n",
              "    </tr>\n",
              "    <tr>\n",
              "      <th>Paris</th>\n",
              "      <td>2273305</td>\n",
              "      <td>France</td>\n",
              "    </tr>\n",
              "  </tbody>\n",
              "</table>\n",
              "</div>"
            ],
            "text/plain": [
              "           Population           State\n",
              "Stockholm      909976          Sweden\n",
              "London        8615246  United kingdom\n",
              "Rome          2872086           Italy\n",
              "Paris         2273305          France"
            ]
          },
          "metadata": {
            "tags": []
          },
          "execution_count": 14
        }
      ]
    },
    {
      "cell_type": "code",
      "metadata": {
        "id": "t7HHylAsvq_2",
        "colab_type": "code",
        "colab": {},
        "outputId": "8cee7b3b-2f98-4bb1-d599-a2828b611ca9"
      },
      "source": [
        "df.index"
      ],
      "execution_count": 0,
      "outputs": [
        {
          "output_type": "execute_result",
          "data": {
            "text/plain": [
              "Index(['Stockholm', 'London', 'Rome', 'Paris'], dtype='object')"
            ]
          },
          "metadata": {
            "tags": []
          },
          "execution_count": 15
        }
      ]
    },
    {
      "cell_type": "code",
      "metadata": {
        "id": "AFdASej2vq_4",
        "colab_type": "code",
        "colab": {},
        "outputId": "c75fe134-92a6-48cf-911b-1ce4fe667c28"
      },
      "source": [
        "df.columns"
      ],
      "execution_count": 0,
      "outputs": [
        {
          "output_type": "execute_result",
          "data": {
            "text/plain": [
              "Index(['Population', 'State'], dtype='object')"
            ]
          },
          "metadata": {
            "tags": []
          },
          "execution_count": 16
        }
      ]
    },
    {
      "cell_type": "code",
      "metadata": {
        "id": "RVFToce6vq_6",
        "colab_type": "code",
        "colab": {},
        "outputId": "f3b627c7-fc4a-475a-ee18-b06df592598a"
      },
      "source": [
        "df.values"
      ],
      "execution_count": 0,
      "outputs": [
        {
          "output_type": "execute_result",
          "data": {
            "text/plain": [
              "array([[909976, 'Sweden'],\n",
              "       [8615246, 'United kingdom'],\n",
              "       [2872086, 'Italy'],\n",
              "       [2273305, 'France']], dtype=object)"
            ]
          },
          "metadata": {
            "tags": []
          },
          "execution_count": 17
        }
      ]
    },
    {
      "cell_type": "code",
      "metadata": {
        "id": "mObbMYjHvq_8",
        "colab_type": "code",
        "colab": {},
        "outputId": "c48f125e-99a9-4b4e-d3cc-0f7d8324d060"
      },
      "source": [
        "df.Population"
      ],
      "execution_count": 0,
      "outputs": [
        {
          "output_type": "execute_result",
          "data": {
            "text/plain": [
              "Stockholm     909976\n",
              "London       8615246\n",
              "Rome         2872086\n",
              "Paris        2273305\n",
              "Name: Population, dtype: int64"
            ]
          },
          "metadata": {
            "tags": []
          },
          "execution_count": 18
        }
      ]
    },
    {
      "cell_type": "code",
      "metadata": {
        "id": "TI16dbqTvq_9",
        "colab_type": "code",
        "colab": {},
        "outputId": "db9af250-3f86-4a18-8fa3-6e2fbb362c6d"
      },
      "source": [
        "df[[\"Population\",\"State\"]]"
      ],
      "execution_count": 0,
      "outputs": [
        {
          "output_type": "execute_result",
          "data": {
            "text/html": [
              "<div>\n",
              "<style scoped>\n",
              "    .dataframe tbody tr th:only-of-type {\n",
              "        vertical-align: middle;\n",
              "    }\n",
              "\n",
              "    .dataframe tbody tr th {\n",
              "        vertical-align: top;\n",
              "    }\n",
              "\n",
              "    .dataframe thead th {\n",
              "        text-align: right;\n",
              "    }\n",
              "</style>\n",
              "<table border=\"1\" class=\"dataframe\">\n",
              "  <thead>\n",
              "    <tr style=\"text-align: right;\">\n",
              "      <th></th>\n",
              "      <th>Population</th>\n",
              "      <th>State</th>\n",
              "    </tr>\n",
              "  </thead>\n",
              "  <tbody>\n",
              "    <tr>\n",
              "      <th>Stockholm</th>\n",
              "      <td>909976</td>\n",
              "      <td>Sweden</td>\n",
              "    </tr>\n",
              "    <tr>\n",
              "      <th>London</th>\n",
              "      <td>8615246</td>\n",
              "      <td>United kingdom</td>\n",
              "    </tr>\n",
              "    <tr>\n",
              "      <th>Rome</th>\n",
              "      <td>2872086</td>\n",
              "      <td>Italy</td>\n",
              "    </tr>\n",
              "    <tr>\n",
              "      <th>Paris</th>\n",
              "      <td>2273305</td>\n",
              "      <td>France</td>\n",
              "    </tr>\n",
              "  </tbody>\n",
              "</table>\n",
              "</div>"
            ],
            "text/plain": [
              "           Population           State\n",
              "Stockholm      909976          Sweden\n",
              "London        8615246  United kingdom\n",
              "Rome          2872086           Italy\n",
              "Paris         2273305          France"
            ]
          },
          "metadata": {
            "tags": []
          },
          "execution_count": 19
        }
      ]
    },
    {
      "cell_type": "code",
      "metadata": {
        "id": "nqM5WopYvrAB",
        "colab_type": "code",
        "colab": {},
        "outputId": "c7d2e2eb-60a7-46a7-8378-3a1a08d92c62"
      },
      "source": [
        "type(df.Population)"
      ],
      "execution_count": 0,
      "outputs": [
        {
          "output_type": "execute_result",
          "data": {
            "text/plain": [
              "pandas.core.series.Series"
            ]
          },
          "metadata": {
            "tags": []
          },
          "execution_count": 20
        }
      ]
    },
    {
      "cell_type": "code",
      "metadata": {
        "id": "BHFktJdWvrAD",
        "colab_type": "code",
        "colab": {},
        "outputId": "46f580a3-ed61-48e8-8523-bd846ddbc0d4"
      },
      "source": [
        "df.Population.Stockholm"
      ],
      "execution_count": 0,
      "outputs": [
        {
          "output_type": "execute_result",
          "data": {
            "text/plain": [
              "909976"
            ]
          },
          "metadata": {
            "tags": []
          },
          "execution_count": 21
        }
      ]
    },
    {
      "cell_type": "code",
      "metadata": {
        "id": "ZzqwI0YlvrAF",
        "colab_type": "code",
        "colab": {},
        "outputId": "9f29f9cc-16a3-4e20-b0b2-113a6c231731"
      },
      "source": [
        "type(df.index)"
      ],
      "execution_count": 0,
      "outputs": [
        {
          "output_type": "execute_result",
          "data": {
            "text/plain": [
              "pandas.core.indexes.base.Index"
            ]
          },
          "metadata": {
            "tags": []
          },
          "execution_count": 22
        }
      ]
    },
    {
      "cell_type": "code",
      "metadata": {
        "id": "iQGv0VMPvrAG",
        "colab_type": "code",
        "colab": {},
        "outputId": "6e2164dd-27ed-4c60-c854-38913f0cd727"
      },
      "source": [
        "df.loc[\"Stockholm\"]"
      ],
      "execution_count": 0,
      "outputs": [
        {
          "output_type": "execute_result",
          "data": {
            "text/plain": [
              "Population    909976\n",
              "State         Sweden\n",
              "Name: Stockholm, dtype: object"
            ]
          },
          "metadata": {
            "tags": []
          },
          "execution_count": 23
        }
      ]
    },
    {
      "cell_type": "code",
      "metadata": {
        "id": "qQ7MLx6ivrAI",
        "colab_type": "code",
        "colab": {},
        "outputId": "2af13370-ad6b-4936-a16f-58f1b756e0b4"
      },
      "source": [
        "type(df.loc[\"Stockholm\"])"
      ],
      "execution_count": 0,
      "outputs": [
        {
          "output_type": "execute_result",
          "data": {
            "text/plain": [
              "pandas.core.series.Series"
            ]
          },
          "metadata": {
            "tags": []
          },
          "execution_count": 24
        }
      ]
    },
    {
      "cell_type": "code",
      "metadata": {
        "id": "V0WaUkFuvrAK",
        "colab_type": "code",
        "colab": {},
        "outputId": "a1a96b23-3b14-44e7-f457-7f13676c6086"
      },
      "source": [
        "df.loc[[\"Paris\", \"Rome\"]]"
      ],
      "execution_count": 0,
      "outputs": [
        {
          "output_type": "execute_result",
          "data": {
            "text/html": [
              "<div>\n",
              "<style scoped>\n",
              "    .dataframe tbody tr th:only-of-type {\n",
              "        vertical-align: middle;\n",
              "    }\n",
              "\n",
              "    .dataframe tbody tr th {\n",
              "        vertical-align: top;\n",
              "    }\n",
              "\n",
              "    .dataframe thead th {\n",
              "        text-align: right;\n",
              "    }\n",
              "</style>\n",
              "<table border=\"1\" class=\"dataframe\">\n",
              "  <thead>\n",
              "    <tr style=\"text-align: right;\">\n",
              "      <th></th>\n",
              "      <th>Population</th>\n",
              "      <th>State</th>\n",
              "    </tr>\n",
              "  </thead>\n",
              "  <tbody>\n",
              "    <tr>\n",
              "      <th>Paris</th>\n",
              "      <td>2273305</td>\n",
              "      <td>France</td>\n",
              "    </tr>\n",
              "    <tr>\n",
              "      <th>Rome</th>\n",
              "      <td>2872086</td>\n",
              "      <td>Italy</td>\n",
              "    </tr>\n",
              "  </tbody>\n",
              "</table>\n",
              "</div>"
            ],
            "text/plain": [
              "       Population   State\n",
              "Paris     2273305  France\n",
              "Rome      2872086   Italy"
            ]
          },
          "metadata": {
            "tags": []
          },
          "execution_count": 25
        }
      ]
    },
    {
      "cell_type": "code",
      "metadata": {
        "id": "-6QmGZanvrAM",
        "colab_type": "code",
        "colab": {},
        "outputId": "399766cd-8e86-4b89-8cdb-e26a31c19116"
      },
      "source": [
        "df.loc[[\"Paris\", \"Rome\"], \"Population\"]"
      ],
      "execution_count": 0,
      "outputs": [
        {
          "output_type": "execute_result",
          "data": {
            "text/plain": [
              "Paris    2273305\n",
              "Rome     2872086\n",
              "Name: Population, dtype: int64"
            ]
          },
          "metadata": {
            "tags": []
          },
          "execution_count": 26
        }
      ]
    },
    {
      "cell_type": "code",
      "metadata": {
        "id": "CrmOa3PcvrAP",
        "colab_type": "code",
        "colab": {},
        "outputId": "217ecd02-590c-4de6-c4a6-a5e1985a18de"
      },
      "source": [
        "df.loc[\"Paris\", \"Population\"]"
      ],
      "execution_count": 0,
      "outputs": [
        {
          "output_type": "execute_result",
          "data": {
            "text/plain": [
              "2273305"
            ]
          },
          "metadata": {
            "tags": []
          },
          "execution_count": 27
        }
      ]
    },
    {
      "cell_type": "code",
      "metadata": {
        "id": "YxMeFiJlvrAQ",
        "colab_type": "code",
        "colab": {},
        "outputId": "6faa2937-eb4f-4883-ab0c-3f10b8198f90"
      },
      "source": [
        "df.iloc[1:3,:]"
      ],
      "execution_count": 0,
      "outputs": [
        {
          "output_type": "execute_result",
          "data": {
            "text/html": [
              "<div>\n",
              "<style scoped>\n",
              "    .dataframe tbody tr th:only-of-type {\n",
              "        vertical-align: middle;\n",
              "    }\n",
              "\n",
              "    .dataframe tbody tr th {\n",
              "        vertical-align: top;\n",
              "    }\n",
              "\n",
              "    .dataframe thead th {\n",
              "        text-align: right;\n",
              "    }\n",
              "</style>\n",
              "<table border=\"1\" class=\"dataframe\">\n",
              "  <thead>\n",
              "    <tr style=\"text-align: right;\">\n",
              "      <th></th>\n",
              "      <th>Population</th>\n",
              "      <th>State</th>\n",
              "    </tr>\n",
              "  </thead>\n",
              "  <tbody>\n",
              "    <tr>\n",
              "      <th>London</th>\n",
              "      <td>8615246</td>\n",
              "      <td>United kingdom</td>\n",
              "    </tr>\n",
              "    <tr>\n",
              "      <th>Rome</th>\n",
              "      <td>2872086</td>\n",
              "      <td>Italy</td>\n",
              "    </tr>\n",
              "  </tbody>\n",
              "</table>\n",
              "</div>"
            ],
            "text/plain": [
              "        Population           State\n",
              "London     8615246  United kingdom\n",
              "Rome       2872086           Italy"
            ]
          },
          "metadata": {
            "tags": []
          },
          "execution_count": 28
        }
      ]
    },
    {
      "cell_type": "code",
      "metadata": {
        "id": "LK74eWKHvrAS",
        "colab_type": "code",
        "colab": {},
        "outputId": "2c74ff8e-534b-454e-b800-ca197f7e35cf"
      },
      "source": [
        "df.mean()"
      ],
      "execution_count": 0,
      "outputs": [
        {
          "output_type": "execute_result",
          "data": {
            "text/plain": [
              "Population    3667653.25\n",
              "dtype: float64"
            ]
          },
          "metadata": {
            "tags": []
          },
          "execution_count": 29
        }
      ]
    },
    {
      "cell_type": "code",
      "metadata": {
        "id": "U0ixEmmBvrAZ",
        "colab_type": "code",
        "colab": {},
        "outputId": "e5b4f4d5-9d87-428c-ccc7-ff7ffef5b0c9"
      },
      "source": [
        "df.info()"
      ],
      "execution_count": 0,
      "outputs": [
        {
          "output_type": "stream",
          "text": [
            "<class 'pandas.core.frame.DataFrame'>\n",
            "Index: 4 entries, Stockholm to Paris\n",
            "Data columns (total 2 columns):\n",
            " #   Column      Non-Null Count  Dtype \n",
            "---  ------      --------------  ----- \n",
            " 0   Population  4 non-null      int64 \n",
            " 1   State       4 non-null      object\n",
            "dtypes: int64(1), object(1)\n",
            "memory usage: 256.0+ bytes\n"
          ],
          "name": "stdout"
        }
      ]
    },
    {
      "cell_type": "code",
      "metadata": {
        "id": "NmGcAsq8vrAb",
        "colab_type": "code",
        "colab": {},
        "outputId": "d622d78b-d16e-4b62-8e3e-fd898ed7a700"
      },
      "source": [
        "df.dtypes"
      ],
      "execution_count": 0,
      "outputs": [
        {
          "output_type": "execute_result",
          "data": {
            "text/plain": [
              "Population     int64\n",
              "State         object\n",
              "dtype: object"
            ]
          },
          "metadata": {
            "tags": []
          },
          "execution_count": 31
        }
      ]
    },
    {
      "cell_type": "code",
      "metadata": {
        "id": "EQR_xOVavrAg",
        "colab_type": "code",
        "colab": {},
        "outputId": "7ad7f609-ea57-44e5-fda4-3309fe0fb35d"
      },
      "source": [
        "df.head()"
      ],
      "execution_count": 0,
      "outputs": [
        {
          "output_type": "execute_result",
          "data": {
            "text/html": [
              "<div>\n",
              "<style scoped>\n",
              "    .dataframe tbody tr th:only-of-type {\n",
              "        vertical-align: middle;\n",
              "    }\n",
              "\n",
              "    .dataframe tbody tr th {\n",
              "        vertical-align: top;\n",
              "    }\n",
              "\n",
              "    .dataframe thead th {\n",
              "        text-align: right;\n",
              "    }\n",
              "</style>\n",
              "<table border=\"1\" class=\"dataframe\">\n",
              "  <thead>\n",
              "    <tr style=\"text-align: right;\">\n",
              "      <th></th>\n",
              "      <th>Population</th>\n",
              "      <th>State</th>\n",
              "    </tr>\n",
              "  </thead>\n",
              "  <tbody>\n",
              "    <tr>\n",
              "      <th>Stockholm</th>\n",
              "      <td>909976</td>\n",
              "      <td>Sweden</td>\n",
              "    </tr>\n",
              "    <tr>\n",
              "      <th>London</th>\n",
              "      <td>8615246</td>\n",
              "      <td>United kingdom</td>\n",
              "    </tr>\n",
              "    <tr>\n",
              "      <th>Rome</th>\n",
              "      <td>2872086</td>\n",
              "      <td>Italy</td>\n",
              "    </tr>\n",
              "    <tr>\n",
              "      <th>Paris</th>\n",
              "      <td>2273305</td>\n",
              "      <td>France</td>\n",
              "    </tr>\n",
              "  </tbody>\n",
              "</table>\n",
              "</div>"
            ],
            "text/plain": [
              "           Population           State\n",
              "Stockholm      909976          Sweden\n",
              "London        8615246  United kingdom\n",
              "Rome          2872086           Italy\n",
              "Paris         2273305          France"
            ]
          },
          "metadata": {
            "tags": []
          },
          "execution_count": 32
        }
      ]
    },
    {
      "cell_type": "markdown",
      "metadata": {
        "id": "91f9XaPNvrAj",
        "colab_type": "text"
      },
      "source": [
        "### <font color='blue'> Exercise #2:  </font>\n",
        "\n",
        "1.  From the **exam_data_df** created in exercise #1, create a new DataFrame **df1** with all the entries in the \"attempts\" column to 0 \n",
        "\n",
        "2. Now create a new DataFrame **df2** from **df1** by removing all rows where the **qualify** column values equal to \"yes\""
      ]
    },
    {
      "cell_type": "code",
      "metadata": {
        "id": "yHo9LF6txEIq",
        "colab_type": "code",
        "colab": {}
      },
      "source": [
        "import numpy as np\n",
        "import pandas as pd\n",
        "exam_data = {'name': ['Dima', 'James', 'Emily','Laura', 'Kevin'], \n",
        "             'score': [9, 8, 9, 8.5, 8], \n",
        "             'qualify': ['no', 'no', 'no','no', 'no']}\n",
        "attempts= {'attempts': [3, 3, 2, 1, 2]}\n",
        "labels = ['a', 'b', 'c', 'd', 'e', 'f', 'g', 'h', 'i', 'j']"
      ],
      "execution_count": 0,
      "outputs": []
    },
    {
      "cell_type": "code",
      "metadata": {
        "id": "rpo4gkdPxK11",
        "colab_type": "code",
        "colab": {
          "base_uri": "https://localhost:8080/",
          "height": 119
        },
        "outputId": "0d08ffa6-2d0c-4828-afad-9c599c4f68f9"
      },
      "source": [
        "df = pd.DataFrame.from_dict(exam_data)\n",
        "attempt_dict = dict(zip(index, attempts))\n",
        "label_dict = dict(zip(index, labels))\n",
        "df.rename(attempt_dict, index=label_dict, inplace=True)\n",
        "print(df)"
      ],
      "execution_count": 115,
      "outputs": [
        {
          "output_type": "stream",
          "text": [
            "           name  score qualify\n",
            "attempts   Dima    9.0      no\n",
            "1         James    8.0      no\n",
            "2         Emily    9.0      no\n",
            "3         Laura    8.5      no\n",
            "4         Kevin    8.0      no\n"
          ],
          "name": "stdout"
        }
      ]
    },
    {
      "cell_type": "markdown",
      "metadata": {
        "id": "d_n19ORpvrAj",
        "colab_type": "text"
      },
      "source": [
        "## Larger dataset"
      ]
    },
    {
      "cell_type": "code",
      "metadata": {
        "id": "Km1fb7ZAvrAk",
        "colab_type": "code",
        "colab": {
          "base_uri": "https://localhost:8080/",
          "height": 375
        },
        "outputId": "cf853872-00e6-40c2-9708-5f70401c2f0f"
      },
      "source": [
        "df_pop = pd.read_csv(\"..\\\\data\\\\european_cities.csv\", delimiter=\",\", encoding= 'unicode_escape', header=0)"
      ],
      "execution_count": 130,
      "outputs": [
        {
          "output_type": "error",
          "ename": "FileNotFoundError",
          "evalue": "ignored",
          "traceback": [
            "\u001b[0;31m---------------------------------------------------------------------------\u001b[0m",
            "\u001b[0;31mFileNotFoundError\u001b[0m                         Traceback (most recent call last)",
            "\u001b[0;32m<ipython-input-130-2a2945163153>\u001b[0m in \u001b[0;36m<module>\u001b[0;34m()\u001b[0m\n\u001b[0;32m----> 1\u001b[0;31m \u001b[0mdf_pop\u001b[0m \u001b[0;34m=\u001b[0m \u001b[0mpd\u001b[0m\u001b[0;34m.\u001b[0m\u001b[0mread_csv\u001b[0m\u001b[0;34m(\u001b[0m\u001b[0;34m\"..\\\\data\\\\european_cities.csv\"\u001b[0m\u001b[0;34m,\u001b[0m \u001b[0mdelimiter\u001b[0m\u001b[0;34m=\u001b[0m\u001b[0;34m\",\"\u001b[0m\u001b[0;34m,\u001b[0m \u001b[0mencoding\u001b[0m\u001b[0;34m=\u001b[0m \u001b[0;34m'unicode_escape'\u001b[0m\u001b[0;34m,\u001b[0m \u001b[0mheader\u001b[0m\u001b[0;34m=\u001b[0m\u001b[0;36m0\u001b[0m\u001b[0;34m)\u001b[0m\u001b[0;34m\u001b[0m\u001b[0;34m\u001b[0m\u001b[0m\n\u001b[0m",
            "\u001b[0;32m/usr/local/lib/python3.6/dist-packages/pandas/io/parsers.py\u001b[0m in \u001b[0;36mparser_f\u001b[0;34m(filepath_or_buffer, sep, delimiter, header, names, index_col, usecols, squeeze, prefix, mangle_dupe_cols, dtype, engine, converters, true_values, false_values, skipinitialspace, skiprows, skipfooter, nrows, na_values, keep_default_na, na_filter, verbose, skip_blank_lines, parse_dates, infer_datetime_format, keep_date_col, date_parser, dayfirst, cache_dates, iterator, chunksize, compression, thousands, decimal, lineterminator, quotechar, quoting, doublequote, escapechar, comment, encoding, dialect, error_bad_lines, warn_bad_lines, delim_whitespace, low_memory, memory_map, float_precision)\u001b[0m\n\u001b[1;32m    683\u001b[0m         )\n\u001b[1;32m    684\u001b[0m \u001b[0;34m\u001b[0m\u001b[0m\n\u001b[0;32m--> 685\u001b[0;31m         \u001b[0;32mreturn\u001b[0m \u001b[0m_read\u001b[0m\u001b[0;34m(\u001b[0m\u001b[0mfilepath_or_buffer\u001b[0m\u001b[0;34m,\u001b[0m \u001b[0mkwds\u001b[0m\u001b[0;34m)\u001b[0m\u001b[0;34m\u001b[0m\u001b[0;34m\u001b[0m\u001b[0m\n\u001b[0m\u001b[1;32m    686\u001b[0m \u001b[0;34m\u001b[0m\u001b[0m\n\u001b[1;32m    687\u001b[0m     \u001b[0mparser_f\u001b[0m\u001b[0;34m.\u001b[0m\u001b[0m__name__\u001b[0m \u001b[0;34m=\u001b[0m \u001b[0mname\u001b[0m\u001b[0;34m\u001b[0m\u001b[0;34m\u001b[0m\u001b[0m\n",
            "\u001b[0;32m/usr/local/lib/python3.6/dist-packages/pandas/io/parsers.py\u001b[0m in \u001b[0;36m_read\u001b[0;34m(filepath_or_buffer, kwds)\u001b[0m\n\u001b[1;32m    455\u001b[0m \u001b[0;34m\u001b[0m\u001b[0m\n\u001b[1;32m    456\u001b[0m     \u001b[0;31m# Create the parser.\u001b[0m\u001b[0;34m\u001b[0m\u001b[0;34m\u001b[0m\u001b[0;34m\u001b[0m\u001b[0m\n\u001b[0;32m--> 457\u001b[0;31m     \u001b[0mparser\u001b[0m \u001b[0;34m=\u001b[0m \u001b[0mTextFileReader\u001b[0m\u001b[0;34m(\u001b[0m\u001b[0mfp_or_buf\u001b[0m\u001b[0;34m,\u001b[0m \u001b[0;34m**\u001b[0m\u001b[0mkwds\u001b[0m\u001b[0;34m)\u001b[0m\u001b[0;34m\u001b[0m\u001b[0;34m\u001b[0m\u001b[0m\n\u001b[0m\u001b[1;32m    458\u001b[0m \u001b[0;34m\u001b[0m\u001b[0m\n\u001b[1;32m    459\u001b[0m     \u001b[0;32mif\u001b[0m \u001b[0mchunksize\u001b[0m \u001b[0;32mor\u001b[0m \u001b[0miterator\u001b[0m\u001b[0;34m:\u001b[0m\u001b[0;34m\u001b[0m\u001b[0;34m\u001b[0m\u001b[0m\n",
            "\u001b[0;32m/usr/local/lib/python3.6/dist-packages/pandas/io/parsers.py\u001b[0m in \u001b[0;36m__init__\u001b[0;34m(self, f, engine, **kwds)\u001b[0m\n\u001b[1;32m    893\u001b[0m             \u001b[0mself\u001b[0m\u001b[0;34m.\u001b[0m\u001b[0moptions\u001b[0m\u001b[0;34m[\u001b[0m\u001b[0;34m\"has_index_names\"\u001b[0m\u001b[0;34m]\u001b[0m \u001b[0;34m=\u001b[0m \u001b[0mkwds\u001b[0m\u001b[0;34m[\u001b[0m\u001b[0;34m\"has_index_names\"\u001b[0m\u001b[0;34m]\u001b[0m\u001b[0;34m\u001b[0m\u001b[0;34m\u001b[0m\u001b[0m\n\u001b[1;32m    894\u001b[0m \u001b[0;34m\u001b[0m\u001b[0m\n\u001b[0;32m--> 895\u001b[0;31m         \u001b[0mself\u001b[0m\u001b[0;34m.\u001b[0m\u001b[0m_make_engine\u001b[0m\u001b[0;34m(\u001b[0m\u001b[0mself\u001b[0m\u001b[0;34m.\u001b[0m\u001b[0mengine\u001b[0m\u001b[0;34m)\u001b[0m\u001b[0;34m\u001b[0m\u001b[0;34m\u001b[0m\u001b[0m\n\u001b[0m\u001b[1;32m    896\u001b[0m \u001b[0;34m\u001b[0m\u001b[0m\n\u001b[1;32m    897\u001b[0m     \u001b[0;32mdef\u001b[0m \u001b[0mclose\u001b[0m\u001b[0;34m(\u001b[0m\u001b[0mself\u001b[0m\u001b[0;34m)\u001b[0m\u001b[0;34m:\u001b[0m\u001b[0;34m\u001b[0m\u001b[0;34m\u001b[0m\u001b[0m\n",
            "\u001b[0;32m/usr/local/lib/python3.6/dist-packages/pandas/io/parsers.py\u001b[0m in \u001b[0;36m_make_engine\u001b[0;34m(self, engine)\u001b[0m\n\u001b[1;32m   1133\u001b[0m     \u001b[0;32mdef\u001b[0m \u001b[0m_make_engine\u001b[0m\u001b[0;34m(\u001b[0m\u001b[0mself\u001b[0m\u001b[0;34m,\u001b[0m \u001b[0mengine\u001b[0m\u001b[0;34m=\u001b[0m\u001b[0;34m\"c\"\u001b[0m\u001b[0;34m)\u001b[0m\u001b[0;34m:\u001b[0m\u001b[0;34m\u001b[0m\u001b[0;34m\u001b[0m\u001b[0m\n\u001b[1;32m   1134\u001b[0m         \u001b[0;32mif\u001b[0m \u001b[0mengine\u001b[0m \u001b[0;34m==\u001b[0m \u001b[0;34m\"c\"\u001b[0m\u001b[0;34m:\u001b[0m\u001b[0;34m\u001b[0m\u001b[0;34m\u001b[0m\u001b[0m\n\u001b[0;32m-> 1135\u001b[0;31m             \u001b[0mself\u001b[0m\u001b[0;34m.\u001b[0m\u001b[0m_engine\u001b[0m \u001b[0;34m=\u001b[0m \u001b[0mCParserWrapper\u001b[0m\u001b[0;34m(\u001b[0m\u001b[0mself\u001b[0m\u001b[0;34m.\u001b[0m\u001b[0mf\u001b[0m\u001b[0;34m,\u001b[0m \u001b[0;34m**\u001b[0m\u001b[0mself\u001b[0m\u001b[0;34m.\u001b[0m\u001b[0moptions\u001b[0m\u001b[0;34m)\u001b[0m\u001b[0;34m\u001b[0m\u001b[0;34m\u001b[0m\u001b[0m\n\u001b[0m\u001b[1;32m   1136\u001b[0m         \u001b[0;32melse\u001b[0m\u001b[0;34m:\u001b[0m\u001b[0;34m\u001b[0m\u001b[0;34m\u001b[0m\u001b[0m\n\u001b[1;32m   1137\u001b[0m             \u001b[0;32mif\u001b[0m \u001b[0mengine\u001b[0m \u001b[0;34m==\u001b[0m \u001b[0;34m\"python\"\u001b[0m\u001b[0;34m:\u001b[0m\u001b[0;34m\u001b[0m\u001b[0;34m\u001b[0m\u001b[0m\n",
            "\u001b[0;32m/usr/local/lib/python3.6/dist-packages/pandas/io/parsers.py\u001b[0m in \u001b[0;36m__init__\u001b[0;34m(self, src, **kwds)\u001b[0m\n\u001b[1;32m   1915\u001b[0m         \u001b[0mkwds\u001b[0m\u001b[0;34m[\u001b[0m\u001b[0;34m\"usecols\"\u001b[0m\u001b[0;34m]\u001b[0m \u001b[0;34m=\u001b[0m \u001b[0mself\u001b[0m\u001b[0;34m.\u001b[0m\u001b[0musecols\u001b[0m\u001b[0;34m\u001b[0m\u001b[0;34m\u001b[0m\u001b[0m\n\u001b[1;32m   1916\u001b[0m \u001b[0;34m\u001b[0m\u001b[0m\n\u001b[0;32m-> 1917\u001b[0;31m         \u001b[0mself\u001b[0m\u001b[0;34m.\u001b[0m\u001b[0m_reader\u001b[0m \u001b[0;34m=\u001b[0m \u001b[0mparsers\u001b[0m\u001b[0;34m.\u001b[0m\u001b[0mTextReader\u001b[0m\u001b[0;34m(\u001b[0m\u001b[0msrc\u001b[0m\u001b[0;34m,\u001b[0m \u001b[0;34m**\u001b[0m\u001b[0mkwds\u001b[0m\u001b[0;34m)\u001b[0m\u001b[0;34m\u001b[0m\u001b[0;34m\u001b[0m\u001b[0m\n\u001b[0m\u001b[1;32m   1918\u001b[0m         \u001b[0mself\u001b[0m\u001b[0;34m.\u001b[0m\u001b[0munnamed_cols\u001b[0m \u001b[0;34m=\u001b[0m \u001b[0mself\u001b[0m\u001b[0;34m.\u001b[0m\u001b[0m_reader\u001b[0m\u001b[0;34m.\u001b[0m\u001b[0munnamed_cols\u001b[0m\u001b[0;34m\u001b[0m\u001b[0;34m\u001b[0m\u001b[0m\n\u001b[1;32m   1919\u001b[0m \u001b[0;34m\u001b[0m\u001b[0m\n",
            "\u001b[0;32mpandas/_libs/parsers.pyx\u001b[0m in \u001b[0;36mpandas._libs.parsers.TextReader.__cinit__\u001b[0;34m()\u001b[0m\n",
            "\u001b[0;32mpandas/_libs/parsers.pyx\u001b[0m in \u001b[0;36mpandas._libs.parsers.TextReader._setup_parser_source\u001b[0;34m()\u001b[0m\n",
            "\u001b[0;31mFileNotFoundError\u001b[0m: [Errno 2] File b'..\\\\data\\\\european_cities.csv' does not exist: b'..\\\\data\\\\european_cities.csv'"
          ]
        }
      ]
    },
    {
      "cell_type": "code",
      "metadata": {
        "id": "h19ssUFtvrAl",
        "colab_type": "code",
        "colab": {}
      },
      "source": [
        "import pickle"
      ],
      "execution_count": 0,
      "outputs": []
    },
    {
      "cell_type": "code",
      "metadata": {
        "id": "CBj3bW_5vrAn",
        "colab_type": "code",
        "colab": {}
      },
      "source": [
        "df_pop.to_pickle(\"european_cities.pkl\")"
      ],
      "execution_count": 0,
      "outputs": []
    },
    {
      "cell_type": "code",
      "metadata": {
        "id": "yKM9J6MCvrAp",
        "colab_type": "code",
        "colab": {},
        "outputId": "ea7ac2c8-c1d4-43ba-cb71-4fc8e3601bfb"
      },
      "source": [
        "df_pop.head()"
      ],
      "execution_count": 0,
      "outputs": [
        {
          "output_type": "execute_result",
          "data": {
            "text/html": [
              "<div>\n",
              "<style scoped>\n",
              "    .dataframe tbody tr th:only-of-type {\n",
              "        vertical-align: middle;\n",
              "    }\n",
              "\n",
              "    .dataframe tbody tr th {\n",
              "        vertical-align: top;\n",
              "    }\n",
              "\n",
              "    .dataframe thead th {\n",
              "        text-align: right;\n",
              "    }\n",
              "</style>\n",
              "<table border=\"1\" class=\"dataframe\">\n",
              "  <thead>\n",
              "    <tr style=\"text-align: right;\">\n",
              "      <th></th>\n",
              "      <th>Rank</th>\n",
              "      <th>City</th>\n",
              "      <th>State</th>\n",
              "      <th>Population</th>\n",
              "      <th>Date of census/estimate</th>\n",
              "      <th>NumericPopulation</th>\n",
              "    </tr>\n",
              "  </thead>\n",
              "  <tbody>\n",
              "    <tr>\n",
              "      <th>0</th>\n",
              "      <td>1</td>\n",
              "      <td>London[2]</td>\n",
              "      <td>United Kingdom</td>\n",
              "      <td>8,615,246</td>\n",
              "      <td>1 June 2014</td>\n",
              "      <td>8615246</td>\n",
              "    </tr>\n",
              "    <tr>\n",
              "      <th>1</th>\n",
              "      <td>2</td>\n",
              "      <td>Berlin</td>\n",
              "      <td>Germany</td>\n",
              "      <td>3,437,916</td>\n",
              "      <td>31 May 2014</td>\n",
              "      <td>3437916</td>\n",
              "    </tr>\n",
              "    <tr>\n",
              "      <th>2</th>\n",
              "      <td>3</td>\n",
              "      <td>Madrid</td>\n",
              "      <td>Spain</td>\n",
              "      <td>3,165,235</td>\n",
              "      <td>1 January 2014</td>\n",
              "      <td>3165235</td>\n",
              "    </tr>\n",
              "    <tr>\n",
              "      <th>3</th>\n",
              "      <td>4</td>\n",
              "      <td>Rome</td>\n",
              "      <td>Italy</td>\n",
              "      <td>2,872,086</td>\n",
              "      <td>30 September 2014</td>\n",
              "      <td>2872086</td>\n",
              "    </tr>\n",
              "    <tr>\n",
              "      <th>4</th>\n",
              "      <td>5</td>\n",
              "      <td>Paris</td>\n",
              "      <td>France</td>\n",
              "      <td>2,273,305</td>\n",
              "      <td>1 January 2013</td>\n",
              "      <td>2273305</td>\n",
              "    </tr>\n",
              "  </tbody>\n",
              "</table>\n",
              "</div>"
            ],
            "text/plain": [
              "   Rank       City           State Population Date of census/estimate  \\\n",
              "0     1  London[2]  United Kingdom  8,615,246             1 June 2014   \n",
              "1     2     Berlin         Germany  3,437,916             31 May 2014   \n",
              "2     3     Madrid           Spain  3,165,235          1 January 2014   \n",
              "3     4       Rome           Italy  2,872,086       30 September 2014   \n",
              "4     5      Paris          France  2,273,305          1 January 2013   \n",
              "\n",
              "   NumericPopulation  \n",
              "0            8615246  \n",
              "1            3437916  \n",
              "2            3165235  \n",
              "3            2872086  \n",
              "4            2273305  "
            ]
          },
          "metadata": {
            "tags": []
          },
          "execution_count": 45
        }
      ]
    },
    {
      "cell_type": "code",
      "metadata": {
        "id": "fr8g4fDPvrAq",
        "colab_type": "code",
        "colab": {},
        "outputId": "60ea28aa-6ca8-48bc-b3eb-606dcd578447"
      },
      "source": [
        "df_pop.info()"
      ],
      "execution_count": 0,
      "outputs": [
        {
          "output_type": "stream",
          "text": [
            "<class 'pandas.core.frame.DataFrame'>\n",
            "RangeIndex: 105 entries, 0 to 104\n",
            "Data columns (total 5 columns):\n",
            " #   Column                   Non-Null Count  Dtype \n",
            "---  ------                   --------------  ----- \n",
            " 0   Rank                     105 non-null    int64 \n",
            " 1   City                     105 non-null    object\n",
            " 2   State                    105 non-null    object\n",
            " 3   Population               105 non-null    object\n",
            " 4   Date of census/estimate  105 non-null    object\n",
            "dtypes: int64(1), object(4)\n",
            "memory usage: 4.2+ KB\n"
          ],
          "name": "stdout"
        }
      ]
    },
    {
      "cell_type": "code",
      "metadata": {
        "id": "rfF5ZIjjvrAu",
        "colab_type": "code",
        "colab": {
          "base_uri": "https://localhost:8080/",
          "height": 164
        },
        "outputId": "68342e36-7f80-40a8-d7bb-78aeb9005791"
      },
      "source": [
        "df_pop.head()"
      ],
      "execution_count": 129,
      "outputs": [
        {
          "output_type": "error",
          "ename": "NameError",
          "evalue": "ignored",
          "traceback": [
            "\u001b[0;31m---------------------------------------------------------------------------\u001b[0m",
            "\u001b[0;31mNameError\u001b[0m                                 Traceback (most recent call last)",
            "\u001b[0;32m<ipython-input-129-7345cce37c9d>\u001b[0m in \u001b[0;36m<module>\u001b[0;34m()\u001b[0m\n\u001b[0;32m----> 1\u001b[0;31m \u001b[0mdf_pop\u001b[0m\u001b[0;34m.\u001b[0m\u001b[0mhead\u001b[0m\u001b[0;34m(\u001b[0m\u001b[0;34m)\u001b[0m\u001b[0;34m\u001b[0m\u001b[0;34m\u001b[0m\u001b[0m\n\u001b[0m",
            "\u001b[0;31mNameError\u001b[0m: name 'df_pop' is not defined"
          ]
        }
      ]
    },
    {
      "cell_type": "code",
      "metadata": {
        "id": "RTZyg5q6vrAw",
        "colab_type": "code",
        "colab": {}
      },
      "source": [
        "df_pop[\"NumericPopulation\"] = df_pop.Population.apply(lambda x: int(x.replace(\",\", \"\")))"
      ],
      "execution_count": 0,
      "outputs": []
    },
    {
      "cell_type": "code",
      "metadata": {
        "id": "hgOIo87xvrA1",
        "colab_type": "code",
        "colab": {},
        "outputId": "25e43210-0dc6-4889-cff6-733e0f6d925d"
      },
      "source": [
        "df_pop[\"State\"].values[:3]"
      ],
      "execution_count": 0,
      "outputs": [
        {
          "output_type": "execute_result",
          "data": {
            "text/plain": [
              "array(['United Kingdom', 'Germany', 'Spain'], dtype=object)"
            ]
          },
          "metadata": {
            "tags": []
          },
          "execution_count": 59
        }
      ]
    },
    {
      "cell_type": "code",
      "metadata": {
        "id": "1QoHtM88vrA3",
        "colab_type": "code",
        "colab": {}
      },
      "source": [
        "df_pop[\"State\"] = df_pop[\"State\"].apply(lambda x: x.strip())"
      ],
      "execution_count": 0,
      "outputs": []
    },
    {
      "cell_type": "code",
      "metadata": {
        "id": "78ymbxWJvrA7",
        "colab_type": "code",
        "colab": {
          "base_uri": "https://localhost:8080/",
          "height": 164
        },
        "outputId": "bc585552-c635-4cfa-8f04-33526b5af6a3"
      },
      "source": [
        "df_pop.head()"
      ],
      "execution_count": 128,
      "outputs": [
        {
          "output_type": "error",
          "ename": "NameError",
          "evalue": "ignored",
          "traceback": [
            "\u001b[0;31m---------------------------------------------------------------------------\u001b[0m",
            "\u001b[0;31mNameError\u001b[0m                                 Traceback (most recent call last)",
            "\u001b[0;32m<ipython-input-128-7345cce37c9d>\u001b[0m in \u001b[0;36m<module>\u001b[0;34m()\u001b[0m\n\u001b[0;32m----> 1\u001b[0;31m \u001b[0mdf_pop\u001b[0m\u001b[0;34m.\u001b[0m\u001b[0mhead\u001b[0m\u001b[0;34m(\u001b[0m\u001b[0;34m)\u001b[0m\u001b[0;34m\u001b[0m\u001b[0;34m\u001b[0m\u001b[0m\n\u001b[0m",
            "\u001b[0;31mNameError\u001b[0m: name 'df_pop' is not defined"
          ]
        }
      ]
    },
    {
      "cell_type": "markdown",
      "metadata": {
        "id": "hm_5MBGFvrA8",
        "colab_type": "text"
      },
      "source": [
        "### <font color='blue'> Exercise #3:  </font>\n",
        "1.  Use the column \"labels\" now as index in **exam_data_df**\n",
        "2.  Replace all occurrences of \"yes\" in \"qualify\" column with \"pass\" and \"no\" with \"fail\" in the DataFrame **exam_data_df*\n"
      ]
    },
    {
      "cell_type": "code",
      "metadata": {
        "id": "BZq9lwo84Ox1",
        "colab_type": "code",
        "colab": {}
      },
      "source": [
        "import numpy as np\n",
        "import pandas as pd\n",
        "exam_data = {'name': ['Anastasia', 'Dima', 'Katherine', 'James', 'Emily', 'Michael', 'Matthew', 'Laura', 'Kevin', 'Jonas'], \n",
        "             'score': [12.5, 9, 16.5, 8, 9, 20, 14.5, 8.5, 8, 19], 'attempts': [1, 3, 2, 3, 2, 3, 1, 1, 2, 1], \n",
        "             'qualify': ['pass', 'fail', 'pass', 'fail', 'fail', 'pass', 'pass', 'fail', 'fail', 'pass']}\n",
        "labels = ['a', 'b', 'c', 'd', 'e', 'f', 'g', 'h', 'i', 'j']"
      ],
      "execution_count": 0,
      "outputs": []
    },
    {
      "cell_type": "code",
      "metadata": {
        "id": "E0glDG5t4agl",
        "colab_type": "code",
        "colab": {
          "base_uri": "https://localhost:8080/",
          "height": 204
        },
        "outputId": "91a82ce6-cabb-4ab7-8ed4-b7be7d6bd375"
      },
      "source": [
        "df = pd.DataFrame.from_dict(exam_data)\n",
        "label_dict = dict(zip(index, labels))\n",
        "df.rename(index=label_dict, inplace=True)\n",
        "print(df)"
      ],
      "execution_count": 125,
      "outputs": [
        {
          "output_type": "stream",
          "text": [
            "        name  score  attempts qualify\n",
            "a  Anastasia   12.5         1    pass\n",
            "b       Dima    9.0         3    fail\n",
            "c  Katherine   16.5         2    pass\n",
            "d      James    8.0         3    fail\n",
            "e      Emily    9.0         2    fail\n",
            "f    Michael   20.0         3    pass\n",
            "g    Matthew   14.5         1    pass\n",
            "h      Laura    8.5         1    fail\n",
            "i      Kevin    8.0         2    fail\n",
            "j      Jonas   19.0         1    pass\n"
          ],
          "name": "stdout"
        }
      ]
    },
    {
      "cell_type": "code",
      "metadata": {
        "id": "Y0jbX-aNvrA9",
        "colab_type": "code",
        "colab": {
          "base_uri": "https://localhost:8080/",
          "height": 164
        },
        "outputId": "35f5ed89-e6e7-4ca3-a58a-c3a90289b91f"
      },
      "source": [
        "df_pop.dtypes"
      ],
      "execution_count": 127,
      "outputs": [
        {
          "output_type": "error",
          "ename": "NameError",
          "evalue": "ignored",
          "traceback": [
            "\u001b[0;31m---------------------------------------------------------------------------\u001b[0m",
            "\u001b[0;31mNameError\u001b[0m                                 Traceback (most recent call last)",
            "\u001b[0;32m<ipython-input-127-ff2753486d09>\u001b[0m in \u001b[0;36m<module>\u001b[0;34m()\u001b[0m\n\u001b[0;32m----> 1\u001b[0;31m \u001b[0mdf_pop\u001b[0m\u001b[0;34m.\u001b[0m\u001b[0mdtypes\u001b[0m\u001b[0;34m\u001b[0m\u001b[0;34m\u001b[0m\u001b[0m\n\u001b[0m",
            "\u001b[0;31mNameError\u001b[0m: name 'df_pop' is not defined"
          ]
        }
      ]
    },
    {
      "cell_type": "code",
      "metadata": {
        "id": "mbB-y7lNvrBA",
        "colab_type": "code",
        "colab": {}
      },
      "source": [
        "df_pop2 = df_pop.set_index(\"City\")"
      ],
      "execution_count": 0,
      "outputs": []
    },
    {
      "cell_type": "code",
      "metadata": {
        "id": "Ia5VQTiLvrBB",
        "colab_type": "code",
        "colab": {
          "base_uri": "https://localhost:8080/",
          "height": 164
        },
        "outputId": "845db0e3-d282-4d77-957f-1fdf21afa6e8"
      },
      "source": [
        "df_pop2 = df_pop2.sort_index()"
      ],
      "execution_count": 126,
      "outputs": [
        {
          "output_type": "error",
          "ename": "NameError",
          "evalue": "ignored",
          "traceback": [
            "\u001b[0;31m---------------------------------------------------------------------------\u001b[0m",
            "\u001b[0;31mNameError\u001b[0m                                 Traceback (most recent call last)",
            "\u001b[0;32m<ipython-input-126-5f9fbcd16384>\u001b[0m in \u001b[0;36m<module>\u001b[0;34m()\u001b[0m\n\u001b[0;32m----> 1\u001b[0;31m \u001b[0mdf_pop2\u001b[0m \u001b[0;34m=\u001b[0m \u001b[0mdf_pop2\u001b[0m\u001b[0;34m.\u001b[0m\u001b[0msort_index\u001b[0m\u001b[0;34m(\u001b[0m\u001b[0;34m)\u001b[0m\u001b[0;34m\u001b[0m\u001b[0;34m\u001b[0m\u001b[0m\n\u001b[0m",
            "\u001b[0;31mNameError\u001b[0m: name 'df_pop2' is not defined"
          ]
        }
      ]
    },
    {
      "cell_type": "code",
      "metadata": {
        "id": "uSh9ELpRvrBC",
        "colab_type": "code",
        "colab": {},
        "outputId": "074f7c89-91fd-46e7-b7e4-852bd060e2ef"
      },
      "source": [
        "df_pop2.head()"
      ],
      "execution_count": 0,
      "outputs": [
        {
          "output_type": "execute_result",
          "data": {
            "text/html": [
              "<div>\n",
              "<style scoped>\n",
              "    .dataframe tbody tr th:only-of-type {\n",
              "        vertical-align: middle;\n",
              "    }\n",
              "\n",
              "    .dataframe tbody tr th {\n",
              "        vertical-align: top;\n",
              "    }\n",
              "\n",
              "    .dataframe thead th {\n",
              "        text-align: right;\n",
              "    }\n",
              "</style>\n",
              "<table border=\"1\" class=\"dataframe\">\n",
              "  <thead>\n",
              "    <tr style=\"text-align: right;\">\n",
              "      <th></th>\n",
              "      <th>Rank</th>\n",
              "      <th>State</th>\n",
              "      <th>Population</th>\n",
              "      <th>Date of census/estimate</th>\n",
              "      <th>NumericPopulation</th>\n",
              "    </tr>\n",
              "    <tr>\n",
              "      <th>City</th>\n",
              "      <th></th>\n",
              "      <th></th>\n",
              "      <th></th>\n",
              "      <th></th>\n",
              "      <th></th>\n",
              "    </tr>\n",
              "  </thead>\n",
              "  <tbody>\n",
              "    <tr>\n",
              "      <th>?¢d?</th>\n",
              "      <td>28</td>\n",
              "      <td>Poland</td>\n",
              "      <td>709,757</td>\n",
              "      <td>31 March 2014</td>\n",
              "      <td>709757</td>\n",
              "    </tr>\n",
              "    <tr>\n",
              "      <th>Aarhus</th>\n",
              "      <td>92</td>\n",
              "      <td>Denmark</td>\n",
              "      <td>326,676</td>\n",
              "      <td>1 October 2014</td>\n",
              "      <td>326676</td>\n",
              "    </tr>\n",
              "    <tr>\n",
              "      <th>Alicante</th>\n",
              "      <td>86</td>\n",
              "      <td>Spain</td>\n",
              "      <td>334,678</td>\n",
              "      <td>1 January 2012</td>\n",
              "      <td>334678</td>\n",
              "    </tr>\n",
              "    <tr>\n",
              "      <th>Amsterdam</th>\n",
              "      <td>23</td>\n",
              "      <td>Netherlands</td>\n",
              "      <td>813,562</td>\n",
              "      <td>31 May 2014</td>\n",
              "      <td>813562</td>\n",
              "    </tr>\n",
              "    <tr>\n",
              "      <th>Antwerp</th>\n",
              "      <td>59</td>\n",
              "      <td>Belgium</td>\n",
              "      <td>510,610</td>\n",
              "      <td>1 January 2014</td>\n",
              "      <td>510610</td>\n",
              "    </tr>\n",
              "  </tbody>\n",
              "</table>\n",
              "</div>"
            ],
            "text/plain": [
              "           Rank        State Population Date of census/estimate  \\\n",
              "City                                                              \n",
              "?¢d?         28       Poland    709,757           31 March 2014   \n",
              "Aarhus       92      Denmark    326,676          1 October 2014   \n",
              "Alicante     86        Spain    334,678          1 January 2012   \n",
              "Amsterdam    23  Netherlands    813,562             31 May 2014   \n",
              "Antwerp      59      Belgium    510,610          1 January 2014   \n",
              "\n",
              "           NumericPopulation  \n",
              "City                          \n",
              "?¢d?                  709757  \n",
              "Aarhus                326676  \n",
              "Alicante              334678  \n",
              "Amsterdam             813562  \n",
              "Antwerp               510610  "
            ]
          },
          "metadata": {
            "tags": []
          },
          "execution_count": 65
        }
      ]
    },
    {
      "cell_type": "code",
      "metadata": {
        "id": "RY60P303vrBF",
        "colab_type": "code",
        "colab": {},
        "outputId": "a782b9a6-5fb5-409c-cbae-c872baf983ee"
      },
      "source": [
        "df_pop2.head()"
      ],
      "execution_count": 0,
      "outputs": [
        {
          "output_type": "execute_result",
          "data": {
            "text/html": [
              "<div>\n",
              "<style scoped>\n",
              "    .dataframe tbody tr th:only-of-type {\n",
              "        vertical-align: middle;\n",
              "    }\n",
              "\n",
              "    .dataframe tbody tr th {\n",
              "        vertical-align: top;\n",
              "    }\n",
              "\n",
              "    .dataframe thead th {\n",
              "        text-align: right;\n",
              "    }\n",
              "</style>\n",
              "<table border=\"1\" class=\"dataframe\">\n",
              "  <thead>\n",
              "    <tr style=\"text-align: right;\">\n",
              "      <th></th>\n",
              "      <th>Rank</th>\n",
              "      <th>State</th>\n",
              "      <th>Population</th>\n",
              "      <th>Date of census/estimate</th>\n",
              "      <th>NumericPopulation</th>\n",
              "    </tr>\n",
              "    <tr>\n",
              "      <th>City</th>\n",
              "      <th></th>\n",
              "      <th></th>\n",
              "      <th></th>\n",
              "      <th></th>\n",
              "      <th></th>\n",
              "    </tr>\n",
              "  </thead>\n",
              "  <tbody>\n",
              "    <tr>\n",
              "      <th>?¢d?</th>\n",
              "      <td>28</td>\n",
              "      <td>Poland</td>\n",
              "      <td>709,757</td>\n",
              "      <td>31 March 2014</td>\n",
              "      <td>709757</td>\n",
              "    </tr>\n",
              "    <tr>\n",
              "      <th>Aarhus</th>\n",
              "      <td>92</td>\n",
              "      <td>Denmark</td>\n",
              "      <td>326,676</td>\n",
              "      <td>1 October 2014</td>\n",
              "      <td>326676</td>\n",
              "    </tr>\n",
              "    <tr>\n",
              "      <th>Alicante</th>\n",
              "      <td>86</td>\n",
              "      <td>Spain</td>\n",
              "      <td>334,678</td>\n",
              "      <td>1 January 2012</td>\n",
              "      <td>334678</td>\n",
              "    </tr>\n",
              "    <tr>\n",
              "      <th>Amsterdam</th>\n",
              "      <td>23</td>\n",
              "      <td>Netherlands</td>\n",
              "      <td>813,562</td>\n",
              "      <td>31 May 2014</td>\n",
              "      <td>813562</td>\n",
              "    </tr>\n",
              "    <tr>\n",
              "      <th>Antwerp</th>\n",
              "      <td>59</td>\n",
              "      <td>Belgium</td>\n",
              "      <td>510,610</td>\n",
              "      <td>1 January 2014</td>\n",
              "      <td>510610</td>\n",
              "    </tr>\n",
              "  </tbody>\n",
              "</table>\n",
              "</div>"
            ],
            "text/plain": [
              "           Rank        State Population Date of census/estimate  \\\n",
              "City                                                              \n",
              "?¢d?         28       Poland    709,757           31 March 2014   \n",
              "Aarhus       92      Denmark    326,676          1 October 2014   \n",
              "Alicante     86        Spain    334,678          1 January 2012   \n",
              "Amsterdam    23  Netherlands    813,562             31 May 2014   \n",
              "Antwerp      59      Belgium    510,610          1 January 2014   \n",
              "\n",
              "           NumericPopulation  \n",
              "City                          \n",
              "?¢d?                  709757  \n",
              "Aarhus                326676  \n",
              "Alicante              334678  \n",
              "Amsterdam             813562  \n",
              "Antwerp               510610  "
            ]
          },
          "metadata": {
            "tags": []
          },
          "execution_count": 66
        }
      ]
    },
    {
      "cell_type": "code",
      "metadata": {
        "scrolled": false,
        "id": "IgTziFT-vrBG",
        "colab_type": "code",
        "colab": {}
      },
      "source": [
        "df_pop3 = df_pop.set_index([\"State\", \"City\"])"
      ],
      "execution_count": 0,
      "outputs": []
    },
    {
      "cell_type": "code",
      "metadata": {
        "id": "oXmhYU-9vrBI",
        "colab_type": "code",
        "colab": {},
        "outputId": "e55a17b8-314e-4aa5-cdb6-3cdd315d73f5"
      },
      "source": [
        "df_pop3.head(7)"
      ],
      "execution_count": 0,
      "outputs": [
        {
          "output_type": "execute_result",
          "data": {
            "text/html": [
              "<div>\n",
              "<style scoped>\n",
              "    .dataframe tbody tr th:only-of-type {\n",
              "        vertical-align: middle;\n",
              "    }\n",
              "\n",
              "    .dataframe tbody tr th {\n",
              "        vertical-align: top;\n",
              "    }\n",
              "\n",
              "    .dataframe thead th {\n",
              "        text-align: right;\n",
              "    }\n",
              "</style>\n",
              "<table border=\"1\" class=\"dataframe\">\n",
              "  <thead>\n",
              "    <tr style=\"text-align: right;\">\n",
              "      <th></th>\n",
              "      <th></th>\n",
              "      <th>Rank</th>\n",
              "      <th>Population</th>\n",
              "      <th>Date of census/estimate</th>\n",
              "      <th>NumericPopulation</th>\n",
              "    </tr>\n",
              "    <tr>\n",
              "      <th>State</th>\n",
              "      <th>City</th>\n",
              "      <th></th>\n",
              "      <th></th>\n",
              "      <th></th>\n",
              "      <th></th>\n",
              "    </tr>\n",
              "  </thead>\n",
              "  <tbody>\n",
              "    <tr>\n",
              "      <th>United Kingdom</th>\n",
              "      <th>London[2]</th>\n",
              "      <td>1</td>\n",
              "      <td>8,615,246</td>\n",
              "      <td>1 June 2014</td>\n",
              "      <td>8615246</td>\n",
              "    </tr>\n",
              "    <tr>\n",
              "      <th>Germany</th>\n",
              "      <th>Berlin</th>\n",
              "      <td>2</td>\n",
              "      <td>3,437,916</td>\n",
              "      <td>31 May 2014</td>\n",
              "      <td>3437916</td>\n",
              "    </tr>\n",
              "    <tr>\n",
              "      <th>Spain</th>\n",
              "      <th>Madrid</th>\n",
              "      <td>3</td>\n",
              "      <td>3,165,235</td>\n",
              "      <td>1 January 2014</td>\n",
              "      <td>3165235</td>\n",
              "    </tr>\n",
              "    <tr>\n",
              "      <th>Italy</th>\n",
              "      <th>Rome</th>\n",
              "      <td>4</td>\n",
              "      <td>2,872,086</td>\n",
              "      <td>30 September 2014</td>\n",
              "      <td>2872086</td>\n",
              "    </tr>\n",
              "    <tr>\n",
              "      <th>France</th>\n",
              "      <th>Paris</th>\n",
              "      <td>5</td>\n",
              "      <td>2,273,305</td>\n",
              "      <td>1 January 2013</td>\n",
              "      <td>2273305</td>\n",
              "    </tr>\n",
              "    <tr>\n",
              "      <th>Romania</th>\n",
              "      <th>Bucharest</th>\n",
              "      <td>6</td>\n",
              "      <td>1,883,425</td>\n",
              "      <td>20 October 2011</td>\n",
              "      <td>1883425</td>\n",
              "    </tr>\n",
              "    <tr>\n",
              "      <th>Austria</th>\n",
              "      <th>Vienna</th>\n",
              "      <td>7</td>\n",
              "      <td>1,794,770</td>\n",
              "      <td>1 January 2015</td>\n",
              "      <td>1794770</td>\n",
              "    </tr>\n",
              "  </tbody>\n",
              "</table>\n",
              "</div>"
            ],
            "text/plain": [
              "                          Rank Population Date of census/estimate  \\\n",
              "State          City                                                 \n",
              "United Kingdom London[2]     1  8,615,246             1 June 2014   \n",
              "Germany        Berlin        2  3,437,916             31 May 2014   \n",
              "Spain          Madrid        3  3,165,235          1 January 2014   \n",
              "Italy          Rome          4  2,872,086       30 September 2014   \n",
              "France         Paris         5  2,273,305          1 January 2013   \n",
              "Romania        Bucharest     6  1,883,425         20 October 2011   \n",
              "Austria        Vienna        7  1,794,770          1 January 2015   \n",
              "\n",
              "                          NumericPopulation  \n",
              "State          City                          \n",
              "United Kingdom London[2]            8615246  \n",
              "Germany        Berlin               3437916  \n",
              "Spain          Madrid               3165235  \n",
              "Italy          Rome                 2872086  \n",
              "France         Paris                2273305  \n",
              "Romania        Bucharest            1883425  \n",
              "Austria        Vienna               1794770  "
            ]
          },
          "metadata": {
            "tags": []
          },
          "execution_count": 69
        }
      ]
    },
    {
      "cell_type": "code",
      "metadata": {
        "id": "mMmUgd0tvrBK",
        "colab_type": "code",
        "colab": {},
        "outputId": "ff3785d4-5be4-47b0-afcf-0ecb568f4cb1"
      },
      "source": [
        "df_pop3.loc[\"Sweden\"]"
      ],
      "execution_count": 0,
      "outputs": [
        {
          "output_type": "execute_result",
          "data": {
            "text/html": [
              "<div>\n",
              "<style scoped>\n",
              "    .dataframe tbody tr th:only-of-type {\n",
              "        vertical-align: middle;\n",
              "    }\n",
              "\n",
              "    .dataframe tbody tr th {\n",
              "        vertical-align: top;\n",
              "    }\n",
              "\n",
              "    .dataframe thead th {\n",
              "        text-align: right;\n",
              "    }\n",
              "</style>\n",
              "<table border=\"1\" class=\"dataframe\">\n",
              "  <thead>\n",
              "    <tr style=\"text-align: right;\">\n",
              "      <th></th>\n",
              "      <th>Rank</th>\n",
              "      <th>Population</th>\n",
              "      <th>Date of census/estimate</th>\n",
              "      <th>NumericPopulation</th>\n",
              "    </tr>\n",
              "    <tr>\n",
              "      <th>City</th>\n",
              "      <th></th>\n",
              "      <th></th>\n",
              "      <th></th>\n",
              "      <th></th>\n",
              "    </tr>\n",
              "  </thead>\n",
              "  <tbody>\n",
              "    <tr>\n",
              "      <th>Stockholm</th>\n",
              "      <td>20</td>\n",
              "      <td>909,976</td>\n",
              "      <td>31 January 2014</td>\n",
              "      <td>909976</td>\n",
              "    </tr>\n",
              "    <tr>\n",
              "      <th>Gothenburg</th>\n",
              "      <td>53</td>\n",
              "      <td>528,014</td>\n",
              "      <td>31 March 2013</td>\n",
              "      <td>528014</td>\n",
              "    </tr>\n",
              "    <tr>\n",
              "      <th>Malm</th>\n",
              "      <td>102</td>\n",
              "      <td>309,105</td>\n",
              "      <td>31 March 2013</td>\n",
              "      <td>309105</td>\n",
              "    </tr>\n",
              "  </tbody>\n",
              "</table>\n",
              "</div>"
            ],
            "text/plain": [
              "            Rank Population Date of census/estimate  NumericPopulation\n",
              "City                                                                  \n",
              "Stockholm     20    909,976         31 January 2014             909976\n",
              "Gothenburg    53    528,014           31 March 2013             528014\n",
              "Malm        102    309,105           31 March 2013             309105"
            ]
          },
          "metadata": {
            "tags": []
          },
          "execution_count": 70
        }
      ]
    },
    {
      "cell_type": "code",
      "metadata": {
        "id": "zGv5IEuUvrBL",
        "colab_type": "code",
        "colab": {},
        "outputId": "74bb94c3-8b51-445b-cab6-7fcc5a774d8c"
      },
      "source": [
        "df_pop3.loc[(\"Sweden\", \"Gothenburg\")]"
      ],
      "execution_count": 0,
      "outputs": [
        {
          "output_type": "execute_result",
          "data": {
            "text/plain": [
              "Rank                                  53\n",
              "Population                       528,014\n",
              "Date of census/estimate    31 March 2013\n",
              "NumericPopulation                 528014\n",
              "Name: (Sweden, Gothenburg), dtype: object"
            ]
          },
          "metadata": {
            "tags": []
          },
          "execution_count": 71
        }
      ]
    },
    {
      "cell_type": "code",
      "metadata": {
        "id": "-cPVWvhovrBN",
        "colab_type": "code",
        "colab": {},
        "outputId": "cd76886d-87da-4e80-a879-cf41f5359d10"
      },
      "source": [
        "df_pop.set_index(\"City\").sort_values(by=[\"State\", \"NumericPopulation\"], ascending=[False, True]).head()"
      ],
      "execution_count": 0,
      "outputs": [
        {
          "output_type": "execute_result",
          "data": {
            "text/html": [
              "<div>\n",
              "<style scoped>\n",
              "    .dataframe tbody tr th:only-of-type {\n",
              "        vertical-align: middle;\n",
              "    }\n",
              "\n",
              "    .dataframe tbody tr th {\n",
              "        vertical-align: top;\n",
              "    }\n",
              "\n",
              "    .dataframe thead th {\n",
              "        text-align: right;\n",
              "    }\n",
              "</style>\n",
              "<table border=\"1\" class=\"dataframe\">\n",
              "  <thead>\n",
              "    <tr style=\"text-align: right;\">\n",
              "      <th></th>\n",
              "      <th>Rank</th>\n",
              "      <th>State</th>\n",
              "      <th>Population</th>\n",
              "      <th>Date of census/estimate</th>\n",
              "      <th>NumericPopulation</th>\n",
              "    </tr>\n",
              "    <tr>\n",
              "      <th>City</th>\n",
              "      <th></th>\n",
              "      <th></th>\n",
              "      <th></th>\n",
              "      <th></th>\n",
              "      <th></th>\n",
              "    </tr>\n",
              "  </thead>\n",
              "  <tbody>\n",
              "    <tr>\n",
              "      <th>Nottingham</th>\n",
              "      <td>103</td>\n",
              "      <td>United Kingdom</td>\n",
              "      <td>308,735</td>\n",
              "      <td>30 June 2012</td>\n",
              "      <td>308735</td>\n",
              "    </tr>\n",
              "    <tr>\n",
              "      <th>Wirral</th>\n",
              "      <td>97</td>\n",
              "      <td>United Kingdom</td>\n",
              "      <td>320,229</td>\n",
              "      <td>30 June 2012</td>\n",
              "      <td>320229</td>\n",
              "    </tr>\n",
              "    <tr>\n",
              "      <th>Coventry</th>\n",
              "      <td>94</td>\n",
              "      <td>United Kingdom</td>\n",
              "      <td>323,132</td>\n",
              "      <td>30 June 2012</td>\n",
              "      <td>323132</td>\n",
              "    </tr>\n",
              "    <tr>\n",
              "      <th>Wakefield</th>\n",
              "      <td>91</td>\n",
              "      <td>United Kingdom</td>\n",
              "      <td>327,627</td>\n",
              "      <td>30 June 2012</td>\n",
              "      <td>327627</td>\n",
              "    </tr>\n",
              "    <tr>\n",
              "      <th>Leicester</th>\n",
              "      <td>87</td>\n",
              "      <td>United Kingdom</td>\n",
              "      <td>331,606</td>\n",
              "      <td>30 June 2012</td>\n",
              "      <td>331606</td>\n",
              "    </tr>\n",
              "  </tbody>\n",
              "</table>\n",
              "</div>"
            ],
            "text/plain": [
              "            Rank           State Population Date of census/estimate  \\\n",
              "City                                                                  \n",
              "Nottingham   103  United Kingdom    308,735            30 June 2012   \n",
              "Wirral        97  United Kingdom    320,229            30 June 2012   \n",
              "Coventry      94  United Kingdom    323,132            30 June 2012   \n",
              "Wakefield     91  United Kingdom    327,627            30 June 2012   \n",
              "Leicester     87  United Kingdom    331,606            30 June 2012   \n",
              "\n",
              "            NumericPopulation  \n",
              "City                           \n",
              "Nottingham             308735  \n",
              "Wirral                 320229  \n",
              "Coventry               323132  \n",
              "Wakefield              327627  \n",
              "Leicester              331606  "
            ]
          },
          "metadata": {
            "tags": []
          },
          "execution_count": 74
        }
      ]
    },
    {
      "cell_type": "code",
      "metadata": {
        "id": "I5SdRyOO4NO5",
        "colab_type": "code",
        "colab": {}
      },
      "source": [
        ""
      ],
      "execution_count": 0,
      "outputs": []
    },
    {
      "cell_type": "markdown",
      "metadata": {
        "id": "0amaX8OevrBO",
        "colab_type": "text"
      },
      "source": [
        "### <font color='blue'> Exercise #4:  </font>\n",
        "\n",
        "1. Sort the DataFrame **exam_data_df** decreasing order by \"score\" and \"qualify\""
      ]
    },
    {
      "cell_type": "code",
      "metadata": {
        "id": "7MJgZvva48fr",
        "colab_type": "code",
        "colab": {}
      },
      "source": [
        "import numpy as np\n",
        "import pandas as pd\n",
        "exam_data = {'name': ['Michael', 'Jonas', 'Katherine','Matthew','Anastasia', 'Dima', 'Emily','Laura','James', 'Kevin'], \n",
        "             'score': [20.0,19.0,16.5,14.5,12.5,9.0,9.0,8.5,8.0,8.0], 'attempts': [3,1,2,1,1,3,2,1,3,2], \n",
        "             'qualify': ['yes', 'yes','yes','yes','yes','no', 'no', 'no', 'no', 'no']}\n",
        "labels = ['a', 'b', 'c', 'd', 'e', 'f', 'g', 'h', 'i', 'j']"
      ],
      "execution_count": 0,
      "outputs": []
    },
    {
      "cell_type": "code",
      "metadata": {
        "id": "Q-PqBntm5IMT",
        "colab_type": "code",
        "colab": {
          "base_uri": "https://localhost:8080/",
          "height": 204
        },
        "outputId": "39b6c373-5a9e-4045-8c4b-7c7a3702f835"
      },
      "source": [
        "df = pd.DataFrame.from_dict(exam_data)\n",
        "label_dict = dict(zip(index, labels))\n",
        "df.rename(index=label_dict, inplace=True)\n",
        "print(df)"
      ],
      "execution_count": 150,
      "outputs": [
        {
          "output_type": "stream",
          "text": [
            "        name  score  attempts qualify\n",
            "a    Michael   20.0         3     yes\n",
            "b      Jonas   19.0         1     yes\n",
            "c  Katherine   16.5         2     yes\n",
            "d    Matthew   14.5         1     yes\n",
            "e  Anastasia   12.5         1     yes\n",
            "f       Dima    9.0         3      no\n",
            "g      Emily    9.0         2      no\n",
            "h      Laura    8.5         1      no\n",
            "i      James    8.0         3      no\n",
            "j      Kevin    8.0         2      no\n"
          ],
          "name": "stdout"
        }
      ]
    },
    {
      "cell_type": "code",
      "metadata": {
        "id": "eH9Ne2YRvrBO",
        "colab_type": "code",
        "colab": {
          "base_uri": "https://localhost:8080/",
          "height": 164
        },
        "outputId": "dae713f7-96f9-42c4-eb04-f0e1a5230732"
      },
      "source": [
        "city_counts = df_pop.State.value_counts()"
      ],
      "execution_count": 145,
      "outputs": [
        {
          "output_type": "error",
          "ename": "NameError",
          "evalue": "ignored",
          "traceback": [
            "\u001b[0;31m---------------------------------------------------------------------------\u001b[0m",
            "\u001b[0;31mNameError\u001b[0m                                 Traceback (most recent call last)",
            "\u001b[0;32m<ipython-input-145-e4652c2ec298>\u001b[0m in \u001b[0;36m<module>\u001b[0;34m()\u001b[0m\n\u001b[0;32m----> 1\u001b[0;31m \u001b[0mcity_counts\u001b[0m \u001b[0;34m=\u001b[0m \u001b[0mdf_pop\u001b[0m\u001b[0;34m.\u001b[0m\u001b[0mState\u001b[0m\u001b[0;34m.\u001b[0m\u001b[0mvalue_counts\u001b[0m\u001b[0;34m(\u001b[0m\u001b[0;34m)\u001b[0m\u001b[0;34m\u001b[0m\u001b[0;34m\u001b[0m\u001b[0m\n\u001b[0m",
            "\u001b[0;31mNameError\u001b[0m: name 'df_pop' is not defined"
          ]
        }
      ]
    },
    {
      "cell_type": "code",
      "metadata": {
        "id": "ZWLVU82qvrBR",
        "colab_type": "code",
        "colab": {}
      },
      "source": [
        "city_counts.name = \"# cities in top 105\""
      ],
      "execution_count": 0,
      "outputs": []
    },
    {
      "cell_type": "code",
      "metadata": {
        "id": "8ITdLSc6vrBS",
        "colab_type": "code",
        "colab": {}
      },
      "source": [
        "df_pop3 = df_pop[[\"State\", \"City\", \"NumericPopulation\"]].set_index([\"State\", \"City\"])"
      ],
      "execution_count": 0,
      "outputs": []
    },
    {
      "cell_type": "code",
      "metadata": {
        "id": "Jnb1HKn1vrBT",
        "colab_type": "code",
        "colab": {}
      },
      "source": [
        "df_pop4 = df_pop3.sum(level=\"State\").sort_values(\"NumericPopulation\", ascending=False)"
      ],
      "execution_count": 0,
      "outputs": []
    },
    {
      "cell_type": "code",
      "metadata": {
        "id": "93Ol5MFWvrBW",
        "colab_type": "code",
        "colab": {},
        "outputId": "84429f62-bc2d-4929-c3df-413678252ca8"
      },
      "source": [
        "df_pop4.head()"
      ],
      "execution_count": 0,
      "outputs": [
        {
          "output_type": "execute_result",
          "data": {
            "text/html": [
              "<div>\n",
              "<style scoped>\n",
              "    .dataframe tbody tr th:only-of-type {\n",
              "        vertical-align: middle;\n",
              "    }\n",
              "\n",
              "    .dataframe tbody tr th {\n",
              "        vertical-align: top;\n",
              "    }\n",
              "\n",
              "    .dataframe thead th {\n",
              "        text-align: right;\n",
              "    }\n",
              "</style>\n",
              "<table border=\"1\" class=\"dataframe\">\n",
              "  <thead>\n",
              "    <tr style=\"text-align: right;\">\n",
              "      <th></th>\n",
              "      <th>NumericPopulation</th>\n",
              "    </tr>\n",
              "    <tr>\n",
              "      <th>State</th>\n",
              "      <th></th>\n",
              "    </tr>\n",
              "  </thead>\n",
              "  <tbody>\n",
              "    <tr>\n",
              "      <th>United Kingdom</th>\n",
              "      <td>16011877</td>\n",
              "    </tr>\n",
              "    <tr>\n",
              "      <th>Germany</th>\n",
              "      <td>15119548</td>\n",
              "    </tr>\n",
              "    <tr>\n",
              "      <th>Spain</th>\n",
              "      <td>10041639</td>\n",
              "    </tr>\n",
              "    <tr>\n",
              "      <th>Italy</th>\n",
              "      <td>8764067</td>\n",
              "    </tr>\n",
              "    <tr>\n",
              "      <th>Poland</th>\n",
              "      <td>6267409</td>\n",
              "    </tr>\n",
              "  </tbody>\n",
              "</table>\n",
              "</div>"
            ],
            "text/plain": [
              "                NumericPopulation\n",
              "State                            \n",
              "United Kingdom           16011877\n",
              "Germany                  15119548\n",
              "Spain                    10041639\n",
              "Italy                     8764067\n",
              "Poland                    6267409"
            ]
          },
          "metadata": {
            "tags": []
          },
          "execution_count": 80
        }
      ]
    },
    {
      "cell_type": "code",
      "metadata": {
        "id": "bhOhJPaHvrBY",
        "colab_type": "code",
        "colab": {}
      },
      "source": [
        ""
      ],
      "execution_count": 0,
      "outputs": []
    },
    {
      "cell_type": "code",
      "metadata": {
        "id": "_Vy2cfGKvrBa",
        "colab_type": "code",
        "colab": {}
      },
      "source": [
        "df_pop5 = (df_pop.drop(\"Rank\", axis=1)\n",
        "                 .groupby(\"State\").sum()\n",
        "                 .sort_values(\"NumericPopulation\", ascending=False))"
      ],
      "execution_count": 0,
      "outputs": []
    },
    {
      "cell_type": "code",
      "metadata": {
        "id": "4Gp4k6JyvrBb",
        "colab_type": "code",
        "colab": {},
        "outputId": "e4a3d925-8e34-4429-fa67-59244441da2a"
      },
      "source": [
        "df_pop5.head()"
      ],
      "execution_count": 0,
      "outputs": [
        {
          "output_type": "execute_result",
          "data": {
            "text/html": [
              "<div>\n",
              "<style scoped>\n",
              "    .dataframe tbody tr th:only-of-type {\n",
              "        vertical-align: middle;\n",
              "    }\n",
              "\n",
              "    .dataframe tbody tr th {\n",
              "        vertical-align: top;\n",
              "    }\n",
              "\n",
              "    .dataframe thead th {\n",
              "        text-align: right;\n",
              "    }\n",
              "</style>\n",
              "<table border=\"1\" class=\"dataframe\">\n",
              "  <thead>\n",
              "    <tr style=\"text-align: right;\">\n",
              "      <th></th>\n",
              "      <th>NumericPopulation</th>\n",
              "    </tr>\n",
              "    <tr>\n",
              "      <th>State</th>\n",
              "      <th></th>\n",
              "    </tr>\n",
              "  </thead>\n",
              "  <tbody>\n",
              "    <tr>\n",
              "      <th>United Kingdom</th>\n",
              "      <td>16011877</td>\n",
              "    </tr>\n",
              "    <tr>\n",
              "      <th>Germany</th>\n",
              "      <td>15119548</td>\n",
              "    </tr>\n",
              "    <tr>\n",
              "      <th>Spain</th>\n",
              "      <td>10041639</td>\n",
              "    </tr>\n",
              "    <tr>\n",
              "      <th>Italy</th>\n",
              "      <td>8764067</td>\n",
              "    </tr>\n",
              "    <tr>\n",
              "      <th>Poland</th>\n",
              "      <td>6267409</td>\n",
              "    </tr>\n",
              "  </tbody>\n",
              "</table>\n",
              "</div>"
            ],
            "text/plain": [
              "                NumericPopulation\n",
              "State                            \n",
              "United Kingdom           16011877\n",
              "Germany                  15119548\n",
              "Spain                    10041639\n",
              "Italy                     8764067\n",
              "Poland                    6267409"
            ]
          },
          "metadata": {
            "tags": []
          },
          "execution_count": 82
        }
      ]
    },
    {
      "cell_type": "code",
      "metadata": {
        "id": "v-yIKi1IvrBe",
        "colab_type": "code",
        "colab": {
          "base_uri": "https://localhost:8080/",
          "height": 484
        },
        "outputId": "e448b743-66bb-4edd-edfb-cb58641e0e1f"
      },
      "source": [
        "fig, (ax1, ax2) = plt.subplots(1, 2, figsize=(12, 4))\n",
        "\n",
        "city_counts.plot(kind='barh', ax=ax1)\n",
        "ax1.set_xlabel(\"# cities in top 105\")\n",
        "df_pop5.NumericPopulation.plot(kind='barh', ax=ax2)\n",
        "ax2.set_xlabel(\"Total pop. in top 105 cities\")\n",
        "\n",
        "fig.tight_layout()\n",
        "#fig.savefig(\"state-city-counts-sum.pdf\")"
      ],
      "execution_count": 144,
      "outputs": [
        {
          "output_type": "error",
          "ename": "NameError",
          "evalue": "ignored",
          "traceback": [
            "\u001b[0;31m---------------------------------------------------------------------------\u001b[0m",
            "\u001b[0;31mNameError\u001b[0m                                 Traceback (most recent call last)",
            "\u001b[0;32m<ipython-input-144-7cba418dd5a7>\u001b[0m in \u001b[0;36m<module>\u001b[0;34m()\u001b[0m\n\u001b[1;32m      1\u001b[0m \u001b[0mfig\u001b[0m\u001b[0;34m,\u001b[0m \u001b[0;34m(\u001b[0m\u001b[0max1\u001b[0m\u001b[0;34m,\u001b[0m \u001b[0max2\u001b[0m\u001b[0;34m)\u001b[0m \u001b[0;34m=\u001b[0m \u001b[0mplt\u001b[0m\u001b[0;34m.\u001b[0m\u001b[0msubplots\u001b[0m\u001b[0;34m(\u001b[0m\u001b[0;36m1\u001b[0m\u001b[0;34m,\u001b[0m \u001b[0;36m2\u001b[0m\u001b[0;34m,\u001b[0m \u001b[0mfigsize\u001b[0m\u001b[0;34m=\u001b[0m\u001b[0;34m(\u001b[0m\u001b[0;36m12\u001b[0m\u001b[0;34m,\u001b[0m \u001b[0;36m4\u001b[0m\u001b[0;34m)\u001b[0m\u001b[0;34m)\u001b[0m\u001b[0;34m\u001b[0m\u001b[0;34m\u001b[0m\u001b[0m\n\u001b[1;32m      2\u001b[0m \u001b[0;34m\u001b[0m\u001b[0m\n\u001b[0;32m----> 3\u001b[0;31m \u001b[0mcity_counts\u001b[0m\u001b[0;34m.\u001b[0m\u001b[0mplot\u001b[0m\u001b[0;34m(\u001b[0m\u001b[0mkind\u001b[0m\u001b[0;34m=\u001b[0m\u001b[0;34m'barh'\u001b[0m\u001b[0;34m,\u001b[0m \u001b[0max\u001b[0m\u001b[0;34m=\u001b[0m\u001b[0max1\u001b[0m\u001b[0;34m)\u001b[0m\u001b[0;34m\u001b[0m\u001b[0;34m\u001b[0m\u001b[0m\n\u001b[0m\u001b[1;32m      4\u001b[0m \u001b[0max1\u001b[0m\u001b[0;34m.\u001b[0m\u001b[0mset_xlabel\u001b[0m\u001b[0;34m(\u001b[0m\u001b[0;34m\"# cities in top 105\"\u001b[0m\u001b[0;34m)\u001b[0m\u001b[0;34m\u001b[0m\u001b[0;34m\u001b[0m\u001b[0m\n\u001b[1;32m      5\u001b[0m \u001b[0mdf_pop5\u001b[0m\u001b[0;34m.\u001b[0m\u001b[0mNumericPopulation\u001b[0m\u001b[0;34m.\u001b[0m\u001b[0mplot\u001b[0m\u001b[0;34m(\u001b[0m\u001b[0mkind\u001b[0m\u001b[0;34m=\u001b[0m\u001b[0;34m'barh'\u001b[0m\u001b[0;34m,\u001b[0m \u001b[0max\u001b[0m\u001b[0;34m=\u001b[0m\u001b[0max2\u001b[0m\u001b[0;34m)\u001b[0m\u001b[0;34m\u001b[0m\u001b[0;34m\u001b[0m\u001b[0m\n",
            "\u001b[0;31mNameError\u001b[0m: name 'city_counts' is not defined"
          ]
        },
        {
          "output_type": "display_data",
          "data": {
            "image/png": "[encoded data removed]",
            "text/plain": [
              "<Figure size 864x288 with 2 Axes>"
            ]
          },
          "metadata": {
            "tags": []
          }
        }
      ]
    },
    {
      "cell_type": "code",
      "metadata": {
        "id": "uIyB5Wwl47Gz",
        "colab_type": "code",
        "colab": {}
      },
      "source": [
        ""
      ],
      "execution_count": 0,
      "outputs": []
    },
    {
      "cell_type": "markdown",
      "metadata": {
        "id": "ISbcpNCsvrBh",
        "colab_type": "text"
      },
      "source": [
        "### <font color='blue'> Exercise #5:  </font>\n",
        "\n",
        "Plot a bar graph of the frequencies of \"attempts\" in the **exam_data_df**.  You may first calcualte the frequencies."
      ]
    },
    {
      "cell_type": "code",
      "metadata": {
        "id": "ZWHLJpaW7gz4",
        "colab_type": "code",
        "colab": {}
      },
      "source": [
        "import numpy as np\n",
        "import pandas as pd\n",
        "exam_data = {'name': ['Anastasia', 'Dima', 'Katherine', 'James', 'Emily', 'Michael', 'Matthew', 'Laura', 'Kevin', 'Jonas'], \n",
        "             'score': [12.5, 9, 16.5, 8, 9, 20, 14.5, 8.5, 8, 19], 'attempts': [1, 3, 2, 3, 2, 3, 1, 1, 2, 1], \n",
        "             'qualify': ['yes', 'no', 'yes', 'no', 'no', 'yes', 'yes', 'no', 'no', 'yes']}\n",
        "labels = ['a', 'b', 'c', 'd', 'e', 'f', 'g', 'h', 'i', 'j']"
      ],
      "execution_count": 0,
      "outputs": []
    },
    {
      "cell_type": "code",
      "metadata": {
        "id": "sJMSxH997nAI",
        "colab_type": "code",
        "colab": {
          "base_uri": "https://localhost:8080/",
          "height": 484
        },
        "outputId": "257cc6c0-d0d9-4b74-c547-a83a804bca1d"
      },
      "source": [
        "fig, (ax1, ax2) = plt.subplots(1, 2, figsize=(12, 4))\n",
        "\n",
        "exam_data.plot(kind='barh', ax=ax1)\n",
        "ax1.set_xlabel(\"Name\")\n",
        "exam_data.attempts.plot(kind='barh', ax=ax2)\n",
        "ax2.set_xlabel(\"Attempts\")\n",
        "\n",
        "fig.tight_layout()"
      ],
      "execution_count": 149,
      "outputs": [
        {
          "output_type": "error",
          "ename": "AttributeError",
          "evalue": "ignored",
          "traceback": [
            "\u001b[0;31m---------------------------------------------------------------------------\u001b[0m",
            "\u001b[0;31mAttributeError\u001b[0m                            Traceback (most recent call last)",
            "\u001b[0;32m<ipython-input-149-74ae4ac09dec>\u001b[0m in \u001b[0;36m<module>\u001b[0;34m()\u001b[0m\n\u001b[1;32m      1\u001b[0m \u001b[0mfig\u001b[0m\u001b[0;34m,\u001b[0m \u001b[0;34m(\u001b[0m\u001b[0max1\u001b[0m\u001b[0;34m,\u001b[0m \u001b[0max2\u001b[0m\u001b[0;34m)\u001b[0m \u001b[0;34m=\u001b[0m \u001b[0mplt\u001b[0m\u001b[0;34m.\u001b[0m\u001b[0msubplots\u001b[0m\u001b[0;34m(\u001b[0m\u001b[0;36m1\u001b[0m\u001b[0;34m,\u001b[0m \u001b[0;36m2\u001b[0m\u001b[0;34m,\u001b[0m \u001b[0mfigsize\u001b[0m\u001b[0;34m=\u001b[0m\u001b[0;34m(\u001b[0m\u001b[0;36m12\u001b[0m\u001b[0;34m,\u001b[0m \u001b[0;36m4\u001b[0m\u001b[0;34m)\u001b[0m\u001b[0;34m)\u001b[0m\u001b[0;34m\u001b[0m\u001b[0;34m\u001b[0m\u001b[0m\n\u001b[1;32m      2\u001b[0m \u001b[0;34m\u001b[0m\u001b[0m\n\u001b[0;32m----> 3\u001b[0;31m \u001b[0mexam_data\u001b[0m\u001b[0;34m.\u001b[0m\u001b[0mplot\u001b[0m\u001b[0;34m(\u001b[0m\u001b[0mkind\u001b[0m\u001b[0;34m=\u001b[0m\u001b[0;34m'barh'\u001b[0m\u001b[0;34m,\u001b[0m \u001b[0max\u001b[0m\u001b[0;34m=\u001b[0m\u001b[0max1\u001b[0m\u001b[0;34m)\u001b[0m\u001b[0;34m\u001b[0m\u001b[0;34m\u001b[0m\u001b[0m\n\u001b[0m\u001b[1;32m      4\u001b[0m \u001b[0max1\u001b[0m\u001b[0;34m.\u001b[0m\u001b[0mset_xlabel\u001b[0m\u001b[0;34m(\u001b[0m\u001b[0;34m\"Name\"\u001b[0m\u001b[0;34m)\u001b[0m\u001b[0;34m\u001b[0m\u001b[0;34m\u001b[0m\u001b[0m\n\u001b[1;32m      5\u001b[0m \u001b[0mexam_data\u001b[0m\u001b[0;34m.\u001b[0m\u001b[0mattempts\u001b[0m\u001b[0;34m.\u001b[0m\u001b[0mplot\u001b[0m\u001b[0;34m(\u001b[0m\u001b[0mkind\u001b[0m\u001b[0;34m=\u001b[0m\u001b[0;34m'barh'\u001b[0m\u001b[0;34m,\u001b[0m \u001b[0max\u001b[0m\u001b[0;34m=\u001b[0m\u001b[0max2\u001b[0m\u001b[0;34m)\u001b[0m\u001b[0;34m\u001b[0m\u001b[0;34m\u001b[0m\u001b[0m\n",
            "\u001b[0;31mAttributeError\u001b[0m: 'dict' object has no attribute 'plot'"
          ]
        },
        {
          "output_type": "display_data",
          "data": {
            "image/png": "[encoded data removed]",
            "text/plain": [
              "<Figure size 864x288 with 2 Axes>"
            ]
          },
          "metadata": {
            "tags": []
          }
        }
      ]
    },
    {
      "cell_type": "markdown",
      "metadata": {
        "id": "MndROG7FvrBh",
        "colab_type": "text"
      },
      "source": [
        "### Series object - One column DatFrame"
      ]
    },
    {
      "cell_type": "code",
      "metadata": {
        "id": "N8KRbaj6vrBi",
        "colab_type": "code",
        "colab": {}
      },
      "source": [
        "s = pd.Series([909976, 8615246, 2872086, 2273305])"
      ],
      "execution_count": 0,
      "outputs": []
    },
    {
      "cell_type": "code",
      "metadata": {
        "id": "_ILyAeWGvrBj",
        "colab_type": "code",
        "colab": {},
        "outputId": "ca11a68f-3c12-4987-efc7-62802e78adf8"
      },
      "source": [
        "s"
      ],
      "execution_count": 0,
      "outputs": [
        {
          "output_type": "execute_result",
          "data": {
            "text/plain": [
              "0     909976\n",
              "1    8615246\n",
              "2    2872086\n",
              "3    2273305\n",
              "dtype: int64"
            ]
          },
          "metadata": {
            "tags": []
          },
          "execution_count": 6
        }
      ]
    },
    {
      "cell_type": "code",
      "metadata": {
        "id": "xUwWBS7-vrBl",
        "colab_type": "code",
        "colab": {},
        "outputId": "eeb20233-f8ef-4846-e3ec-1628bf969144"
      },
      "source": [
        "type(s)"
      ],
      "execution_count": 0,
      "outputs": [
        {
          "output_type": "execute_result",
          "data": {
            "text/plain": [
              "pandas.core.series.Series"
            ]
          },
          "metadata": {
            "tags": []
          },
          "execution_count": 7
        }
      ]
    },
    {
      "cell_type": "code",
      "metadata": {
        "id": "CUaZ0BB0vrBo",
        "colab_type": "code",
        "colab": {},
        "outputId": "c1117e10-a563-4b8e-cc7e-e0f704455c52"
      },
      "source": [
        "s.dtype"
      ],
      "execution_count": 0,
      "outputs": [
        {
          "output_type": "execute_result",
          "data": {
            "text/plain": [
              "dtype('int64')"
            ]
          },
          "metadata": {
            "tags": []
          },
          "execution_count": 8
        }
      ]
    },
    {
      "cell_type": "code",
      "metadata": {
        "id": "2oWqjvjyvrBp",
        "colab_type": "code",
        "colab": {},
        "outputId": "d0d9b173-3cce-40e3-dd45-21169634653b"
      },
      "source": [
        "s.index"
      ],
      "execution_count": 0,
      "outputs": [
        {
          "output_type": "execute_result",
          "data": {
            "text/plain": [
              "RangeIndex(start=0, stop=4, step=1)"
            ]
          },
          "metadata": {
            "tags": []
          },
          "execution_count": 9
        }
      ]
    },
    {
      "cell_type": "code",
      "metadata": {
        "id": "K45xkYPovrBq",
        "colab_type": "code",
        "colab": {},
        "outputId": "557896ad-a9ab-4cae-f5ca-4d977d9e530d"
      },
      "source": [
        "s.values"
      ],
      "execution_count": 0,
      "outputs": [
        {
          "output_type": "execute_result",
          "data": {
            "text/plain": [
              "array([ 909976, 8615246, 2872086, 2273305], dtype=int64)"
            ]
          },
          "metadata": {
            "tags": []
          },
          "execution_count": 10
        }
      ]
    },
    {
      "cell_type": "code",
      "metadata": {
        "id": "fqBXokrxvrBs",
        "colab_type": "code",
        "colab": {}
      },
      "source": [
        "s.index = [\"Stockholm\", \"London\", \"Rome\", \"Paris\"]"
      ],
      "execution_count": 0,
      "outputs": []
    },
    {
      "cell_type": "code",
      "metadata": {
        "id": "p8WVBMB2vrBv",
        "colab_type": "code",
        "colab": {}
      },
      "source": [
        "s.name = \"Population\""
      ],
      "execution_count": 0,
      "outputs": []
    },
    {
      "cell_type": "code",
      "metadata": {
        "id": "drgORRaKvrBw",
        "colab_type": "code",
        "colab": {},
        "outputId": "3768f438-781e-47af-edae-f91660e766f1"
      },
      "source": [
        "s"
      ],
      "execution_count": 0,
      "outputs": [
        {
          "output_type": "execute_result",
          "data": {
            "text/plain": [
              "Stockholm     909976\n",
              "London       8615246\n",
              "Rome         2872086\n",
              "Paris        2273305\n",
              "Name: Population, dtype: int64"
            ]
          },
          "metadata": {
            "tags": []
          },
          "execution_count": 13
        }
      ]
    },
    {
      "cell_type": "code",
      "metadata": {
        "id": "NoxHID4ivrBy",
        "colab_type": "code",
        "colab": {}
      },
      "source": [
        "s = pd.Series([909976, 8615246, 2872086, 2273305], \n",
        "              index=[\"Stockholm\", \"London\", \"Rome\", \"Paris\"], name=\"Population\")"
      ],
      "execution_count": 0,
      "outputs": []
    },
    {
      "cell_type": "code",
      "metadata": {
        "id": "P447VrFXvrB1",
        "colab_type": "code",
        "colab": {},
        "outputId": "77ef6daa-ad39-4fa9-cb0c-2dbc9220ffef"
      },
      "source": [
        "s[\"London\"]"
      ],
      "execution_count": 0,
      "outputs": [
        {
          "output_type": "execute_result",
          "data": {
            "text/plain": [
              "8615246"
            ]
          },
          "metadata": {
            "tags": []
          },
          "execution_count": 15
        }
      ]
    },
    {
      "cell_type": "code",
      "metadata": {
        "id": "YysuhSyxvrB3",
        "colab_type": "code",
        "colab": {},
        "outputId": "df4ed6c9-b93a-48ff-ef90-1fa43dd695a7"
      },
      "source": [
        "s.Stockholm"
      ],
      "execution_count": 0,
      "outputs": [
        {
          "output_type": "execute_result",
          "data": {
            "text/plain": [
              "909976"
            ]
          },
          "metadata": {
            "tags": []
          },
          "execution_count": 16
        }
      ]
    },
    {
      "cell_type": "code",
      "metadata": {
        "id": "aoN5ieHQvrB4",
        "colab_type": "code",
        "colab": {},
        "outputId": "a1549cc4-9b84-4128-bd9b-8a01ca3c25c8"
      },
      "source": [
        "s[[\"Paris\", \"Rome\"]]"
      ],
      "execution_count": 0,
      "outputs": [
        {
          "output_type": "execute_result",
          "data": {
            "text/plain": [
              "Paris    2273305\n",
              "Rome     2872086\n",
              "Name: Population, dtype: int64"
            ]
          },
          "metadata": {
            "tags": []
          },
          "execution_count": 17
        }
      ]
    },
    {
      "cell_type": "code",
      "metadata": {
        "id": "B2AvXeelvrB6",
        "colab_type": "code",
        "colab": {},
        "outputId": "c90fe469-79c9-43b5-cb04-82be35ef29bc"
      },
      "source": [
        "s.median(), s.mean(), s.std()"
      ],
      "execution_count": 0,
      "outputs": [
        {
          "output_type": "execute_result",
          "data": {
            "text/plain": [
              "(2572695.5, 3667653.25, 3399048.5005155364)"
            ]
          },
          "metadata": {
            "tags": []
          },
          "execution_count": 18
        }
      ]
    },
    {
      "cell_type": "code",
      "metadata": {
        "id": "5dPC2RNOvrB7",
        "colab_type": "code",
        "colab": {},
        "outputId": "4848537b-7ec7-41d2-cf41-2d088d432508"
      },
      "source": [
        "s.min(), s.max()"
      ],
      "execution_count": 0,
      "outputs": [
        {
          "output_type": "execute_result",
          "data": {
            "text/plain": [
              "(909976, 8615246)"
            ]
          },
          "metadata": {
            "tags": []
          },
          "execution_count": 19
        }
      ]
    },
    {
      "cell_type": "code",
      "metadata": {
        "id": "BNvPYWqXvrB9",
        "colab_type": "code",
        "colab": {},
        "outputId": "d4dbc2da-19d6-4fc7-93f6-0b4f35725045"
      },
      "source": [
        "s.quantile(q=0.25), s.quantile(q=0.5), s.quantile(q=0.75)"
      ],
      "execution_count": 0,
      "outputs": [
        {
          "output_type": "execute_result",
          "data": {
            "text/plain": [
              "(1932472.75, 2572695.5, 4307876.0)"
            ]
          },
          "metadata": {
            "tags": []
          },
          "execution_count": 20
        }
      ]
    },
    {
      "cell_type": "code",
      "metadata": {
        "id": "WnTcZKZhvrB-",
        "colab_type": "code",
        "colab": {},
        "outputId": "c136ee82-3ffe-4de9-89cd-64934c4e9446"
      },
      "source": [
        "s.describe()"
      ],
      "execution_count": 0,
      "outputs": [
        {
          "output_type": "execute_result",
          "data": {
            "text/plain": [
              "count    4.000000e+00\n",
              "mean     3.667653e+06\n",
              "std      3.399049e+06\n",
              "min      9.099760e+05\n",
              "25%      1.932473e+06\n",
              "50%      2.572696e+06\n",
              "75%      4.307876e+06\n",
              "max      8.615246e+06\n",
              "Name: Population, dtype: float64"
            ]
          },
          "metadata": {
            "tags": []
          },
          "execution_count": 21
        }
      ]
    },
    {
      "cell_type": "code",
      "metadata": {
        "id": "t0-VTTe8vrCB",
        "colab_type": "code",
        "colab": {},
        "outputId": "2adbe2e9-7cbb-4539-e716-36b1849bee04"
      },
      "source": [
        "fig, axes = plt.subplots(1, 4, figsize=(12, 3))\n",
        "\n",
        "s.plot(ax=axes[0], kind='line', title=\"line\")\n",
        "s.plot(ax=axes[1], kind='bar', title=\"bar\")\n",
        "s.plot(ax=axes[2], kind='box', title=\"box\")\n",
        "s.plot(ax=axes[3], kind='pie', title=\"pie\")\n",
        "\n",
        "fig.tight_layout()\n",
        "fig.savefig(\"ch12-series-plot.pdf\")\n",
        "fig.savefig(\"ch12-series-plot.png\")"
      ],
      "execution_count": 0,
      "outputs": [
        {
          "output_type": "display_data",
          "data": {
            "image/png": "[encoded data removed]",
            "text/plain": [
              "<matplotlib.figure.Figure at 0x104cc5850>"
            ]
          },
          "metadata": {
            "tags": []
          }
        }
      ]
    }
  ]
}