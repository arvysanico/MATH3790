{
  "nbformat": 4,
  "nbformat_minor": 0,
  "metadata": {
    "kernelspec": {
      "display_name": "Python 3",
      "language": "python",
      "name": "python3"
    },
    "language_info": {
      "codemirror_mode": {
        "name": "ipython",
        "version": 3
      },
      "file_extension": ".py",
      "mimetype": "text/x-python",
      "name": "python",
      "nbconvert_exporter": "python",
      "pygments_lexer": "ipython3",
      "version": "3.7.6"
    },
    "colab": {
      "name": "Copy of assign4_final_20.ipynb",
      "provenance": [],
      "collapsed_sections": [
        "c7HK9p0lk3ki",
        "gTe8an71k3kk",
        "ND8DGcH-k3ko",
        "1rZUNa_nk3kp",
        "MBgTQbY6k3lQ",
        "QzQPqqOMk3lY",
        "9iQC1ZCuk3ll",
        "paPVT_lWk3lp",
        "eSYQIuGlk3ly",
        "JDX-jfe_k3mB",
        "qKmLo2IFk3mE",
        "iFNmLa0yk3mH",
        "9zawryink3mK"
      ]
    }
  },
  "cells": [
    {
      "cell_type": "markdown",
      "metadata": {
        "id": "BCJRqw1Pk3jf",
        "colab_type": "text"
      },
      "source": [
        "### Logistic Regression with Gradient Descent: A Classification Exercise - #4\n",
        "### Due: March 18th, 2020 ###\n",
        "\n",
        "**In this exercise you are going to complete the code necessary for a supervised classification problem**  \n",
        "\n",
        "We start by generating a set of points ($x_1,x_2$) to roughly cover the 2-dimensional plane.  Then we decide on curve that seperates points into two sets: First the inside and outside of the unit circle.  We the create a lable variable y with values 1 and 0 for points inside and outside.  Then we pick 6 features that are variables $1, x_1, x_2, x_1^2, x_2^2, and\\ x_1x_2$ .  Our objective is to use the standard gradient descent method minimize a the cost function for the logistic regression hypothesis function, and have the program figure out the optimal coefficients among the features for the correct boundary.\n",
        "\n",
        "This exercise takes you through 4 basic steps:\n",
        "\n",
        "- Generating a simulated set of data and labels\n",
        "- Constructing a set of features\n",
        "- Writing the Cost function for logistic regression\n",
        "- Gradient Descent for logistic regression\n",
        "\n",
        "You will also apply the packaged logistic regression model from sklearn and compare with our own solution\n",
        "\n",
        "Packages Used:  \n",
        "\n",
        "**pandas** for data frames and easy to read csv files   \n",
        "**numpy** for array and matrix mathematics functions  \n",
        "**matplotlib** for plotting  \n",
        "and **LogisticRegression** from sklearn.linear_model  "
      ]
    },
    {
      "cell_type": "code",
      "metadata": {
        "id": "rGFogE6ak3jh",
        "colab_type": "code",
        "colab": {}
      },
      "source": [
        "import numpy as np\n",
        "import pandas as pd\n",
        "import matplotlib.pyplot as plt\n",
        "\n",
        "%matplotlib inline"
      ],
      "execution_count": 0,
      "outputs": []
    },
    {
      "cell_type": "markdown",
      "metadata": {
        "id": "RFcCqghKk3jk",
        "colab_type": "text"
      },
      "source": [
        "### Let us generate sufficient point to cover the x-y plane"
      ]
    },
    {
      "cell_type": "code",
      "metadata": {
        "id": "Pj7LYBS0k3jl",
        "colab_type": "code",
        "colab": {}
      },
      "source": [
        "np.random.seed(42)\n",
        "m = 50000\n",
        "\n",
        "#Now generate 5,000 points points within square [-3, 3] X [-3, 3]\n",
        "X_data = np.random.uniform([-3,-3],[3,3], size=(m,2))"
      ],
      "execution_count": 0,
      "outputs": []
    },
    {
      "cell_type": "code",
      "metadata": {
        "id": "8fR-t6_Jk3jo",
        "colab_type": "code",
        "outputId": "7094016d-5c49-4ad4-bd9b-2007c29c040e",
        "colab": {
          "base_uri": "https://localhost:8080/",
          "height": 34
        }
      },
      "source": [
        "X_data.shape"
      ],
      "execution_count": 0,
      "outputs": [
        {
          "output_type": "execute_result",
          "data": {
            "text/plain": [
              "(50000, 2)"
            ]
          },
          "metadata": {
            "tags": []
          },
          "execution_count": 3
        }
      ]
    },
    {
      "cell_type": "code",
      "metadata": {
        "id": "-U6IQVZmk3jt",
        "colab_type": "code",
        "outputId": "85eda3d1-b2fb-4450-bca0-6a17745f2fef",
        "colab": {
          "base_uri": "https://localhost:8080/",
          "height": 625
        }
      },
      "source": [
        "#Let's plot this simulated points on the plane\n",
        "fig = plt.figure(figsize=(10,10))\n",
        "plt.scatter(X_data[:,0], X_data[:,1])\n",
        "plt.title('The canvas: 5,000 points in the [-3,3]X[-3,3] range')\n",
        "plt.xlabel('x1', fontsize = 14)\n",
        "plt.ylabel('x2', fontsize = 14)\n",
        "plt.show()"
      ],
      "execution_count": 0,
      "outputs": [
        {
          "output_type": "display_data",
          "data": {
            "image/png": "[encoded data removed]",
            "text/plain": [
              "<Figure size 720x720 with 1 Axes>"
            ]
          },
          "metadata": {
            "tags": []
          }
        }
      ]
    },
    {
      "cell_type": "markdown",
      "metadata": {
        "id": "sUnQ8FQZk3jw",
        "colab_type": "text"
      },
      "source": [
        "### The features are: $$ 1, x_1, x_2, x_1^2, x_2^2, x_1*x_2$$"
      ]
    },
    {
      "cell_type": "code",
      "metadata": {
        "id": "FRQsd4Rok3jx",
        "colab_type": "code",
        "colab": {}
      },
      "source": [
        "#Now we will create and stack the variables: the bias term - all ones, x1, x2, x2^2, and x2^2 into a feature matrix\n",
        "features_2 = np.vstack((np.ones(len(X_data)), X_data[:,0], X_data[:,1], X_data[:,0]*X_data[:,0], \n",
        "                      X_data[:,1]*X_data[:,1],  X_data[:,0]*X_data[:,1])).astype(np.float32)"
      ],
      "execution_count": 0,
      "outputs": []
    },
    {
      "cell_type": "code",
      "metadata": {
        "id": "pETkdZ-Hk3j1",
        "colab_type": "code",
        "colab": {}
      },
      "source": [
        "#As is standard, our features now will be made into columns and for convenience we call the matrix X\n",
        "X = features_2.T.copy()"
      ],
      "execution_count": 0,
      "outputs": []
    },
    {
      "cell_type": "code",
      "metadata": {
        "id": "AnJKqKRZk3j4",
        "colab_type": "code",
        "outputId": "da93ebca-3b82-4125-d36a-c9f1cc6537d3",
        "colab": {
          "base_uri": "https://localhost:8080/",
          "height": 34
        }
      },
      "source": [
        "#Check to see we have the correct dimensions\n",
        "X.shape"
      ],
      "execution_count": 0,
      "outputs": [
        {
          "output_type": "execute_result",
          "data": {
            "text/plain": [
              "(50000, 6)"
            ]
          },
          "metadata": {
            "tags": []
          },
          "execution_count": 7
        }
      ]
    },
    {
      "cell_type": "code",
      "metadata": {
        "id": "O1mQveMVk3j7",
        "colab_type": "code",
        "colab": {}
      },
      "source": [
        "#Now create a empty label vector y\n",
        "y = np.zeros(X.shape[0])"
      ],
      "execution_count": 0,
      "outputs": []
    },
    {
      "cell_type": "markdown",
      "metadata": {
        "id": "tODpqH3Rk3kB",
        "colab_type": "text"
      },
      "source": [
        "#### Now let us separate the points $x^2 + y^2 < 1$ from the rest"
      ]
    },
    {
      "cell_type": "code",
      "metadata": {
        "id": "DMi_58w1k3kC",
        "colab_type": "code",
        "colab": {}
      },
      "source": [
        "#The points are seperated by a circle.  Does this make sense?\n",
        "y = (X[:,3] + X[:,4]) < 1"
      ],
      "execution_count": 0,
      "outputs": []
    },
    {
      "cell_type": "code",
      "metadata": {
        "id": "Y5mYt5O_k3kE",
        "colab_type": "code",
        "colab": {}
      },
      "source": [
        "#y is a boolean vector of True and False, let's turn it into labels of 1 and 0\n",
        "labels = y*1"
      ],
      "execution_count": 0,
      "outputs": []
    },
    {
      "cell_type": "code",
      "metadata": {
        "id": "Qbv0FnpNk3kJ",
        "colab_type": "code",
        "outputId": "94b368fa-adff-42fc-b822-9d9744126a34",
        "colab": {
          "base_uri": "https://localhost:8080/",
          "height": 34
        }
      },
      "source": [
        "#take a look at the labels\n",
        "labels"
      ],
      "execution_count": 0,
      "outputs": [
        {
          "output_type": "execute_result",
          "data": {
            "text/plain": [
              "array([0, 0, 0, ..., 0, 0, 1])"
            ]
          },
          "metadata": {
            "tags": []
          },
          "execution_count": 11
        }
      ]
    },
    {
      "cell_type": "code",
      "metadata": {
        "id": "SSe16-Huk3kM",
        "colab_type": "code",
        "outputId": "f83ef411-7d03-4bab-ab40-8bfeb8dcf6c1",
        "colab": {
          "base_uri": "https://localhost:8080/",
          "height": 333
        }
      },
      "source": [
        "#Don't see anything?  Try this!\n",
        "plt.hist(labels)"
      ],
      "execution_count": 0,
      "outputs": [
        {
          "output_type": "execute_result",
          "data": {
            "text/plain": [
              "(array([45664.,     0.,     0.,     0.,     0.,     0.,     0.,     0.,\n",
              "            0.,  4336.]),\n",
              " array([0. , 0.1, 0.2, 0.3, 0.4, 0.5, 0.6, 0.7, 0.8, 0.9, 1. ]),\n",
              " <a list of 10 Patch objects>)"
            ]
          },
          "metadata": {
            "tags": []
          },
          "execution_count": 12
        },
        {
          "output_type": "display_data",
          "data": {
            "image/png": "[encoded data removed]",
            "text/plain": [
              "<Figure size 432x288 with 1 Axes>"
            ]
          },
          "metadata": {
            "tags": []
          }
        }
      ]
    },
    {
      "cell_type": "code",
      "metadata": {
        "id": "9bg_EqJIk3kP",
        "colab_type": "code",
        "outputId": "8468df4a-8dc8-4aca-e887-4b9a763d56dc",
        "colab": {
          "base_uri": "https://localhost:8080/",
          "height": 483
        }
      },
      "source": [
        "# Visualize the data:\n",
        "fig = plt.figure(figsize=(8,8))\n",
        "plt.scatter(X[:,1], X[:,2], c=y, s=40, cmap=plt.cm.Spectral);"
      ],
      "execution_count": 0,
      "outputs": [
        {
          "output_type": "display_data",
          "data": {
            "image/png": "[encoded data removed]",
            "text/plain": [
              "<Figure size 576x576 with 1 Axes>"
            ]
          },
          "metadata": {
            "tags": []
          }
        }
      ]
    },
    {
      "cell_type": "markdown",
      "metadata": {
        "id": "RLaqEsEVk3kR",
        "colab_type": "text"
      },
      "source": [
        "### Now you going to start coding to develop the logistic regression model that seperates this data.  In other words, identify the boundary curve "
      ]
    },
    {
      "cell_type": "markdown",
      "metadata": {
        "id": "JAHHsGwYk3kS",
        "colab_type": "text"
      },
      "source": [
        "#### <font color='blue'> Exercise #1: </font> Complete the code for sigmoid function"
      ]
    },
    {
      "cell_type": "code",
      "metadata": {
        "id": "mC6DbbGEk3kT",
        "colab_type": "code",
        "colab": {}
      },
      "source": [
        "#The function is the basic sigmoid function:  You can compelete in a single line of code\n",
        "def sigmoid(scores):\n",
        "    '''This function calculates the sigmoid of the input vector \"scores\"\n",
        "    and returns the vector \"logits\" '''\n",
        "    \n",
        "    #### insert your code here ~ one line\n",
        "    logits= 1/(1 + math.exp(-scores))\n",
        "    scores = None\n",
        "    \n",
        "    return logits\n",
        "    ######"
      ],
      "execution_count": 0,
      "outputs": []
    },
    {
      "cell_type": "markdown",
      "metadata": {
        "id": "z-JvoGE0k3kX",
        "colab_type": "text"
      },
      "source": [
        "#### <font color='blue'> Exercise #2: </font> The cost function for logistic regression"
      ]
    },
    {
      "cell_type": "code",
      "metadata": {
        "id": "eHCpRObbk3kX",
        "colab_type": "code",
        "colab": {}
      },
      "source": [
        "##Now you will have to complete the code for costFunction: 3 -4 lines of code\n",
        "def costFunction(features,labels,weights):\n",
        "    '''This function calculates the cost'''\n",
        "    m = len(features)\n",
        "    ##### insert your code here ~ two to three lines: use cost function for logistic regression#####\n",
        "    x = sigmoid(np.dot(labels,weights))\n",
        "    loss_y_hat = np.sum((features*np.log(x)) + ((1-features)*np.log(1-x)))\n",
        "    \n",
        "    ############\n",
        "    cost = (-loss_y_hat)/m\n",
        "    return cost"
      ],
      "execution_count": 0,
      "outputs": []
    },
    {
      "cell_type": "markdown",
      "metadata": {
        "id": "gd4ZuYjwk3ka",
        "colab_type": "text"
      },
      "source": [
        "#### <font color='blue'> Exercise #3 </font> Complete the code for gradient descent for logistic regression"
      ]
    },
    {
      "cell_type": "code",
      "metadata": {
        "id": "Cubv8s48k3ka",
        "colab_type": "code",
        "colab": {}
      },
      "source": [
        "#This is the most interesting part of the assignment:  The gradient descent\n",
        "# to calculate the optimal parameters\n",
        "\n",
        "def log_reg(features, labels, num_steps, learning_rate):\n",
        "    \n",
        "    '''This function uses the sigmoid and costFunction and\n",
        "    implement gradient descent and calculate the costs at every\n",
        "    10,000 steps'''\n",
        "        \n",
        "    weights = np.zeros(features.shape[1])\n",
        "    m = features.shape[0]\n",
        "    \n",
        "    for step in range(num_steps):\n",
        "        scores = np.dot(features, weights)\n",
        "        predictions = sigmoid(scores)\n",
        "\n",
        "        # Update weights with gradient\n",
        "        ####### insert your code here ~ two to three lines #########\n",
        "        grad= costFunction(weights, features, labels)\n",
        "        weights = weights -(learning_rate* grad)\n",
        "        \n",
        "        #######\n",
        "        # Print log-likelihood every so often\n",
        "        if step % 10000 == 0:\n",
        "            print(costFunction(features,labels,weights))\n",
        "        \n",
        "    return weights"
      ],
      "execution_count": 0,
      "outputs": []
    },
    {
      "cell_type": "markdown",
      "metadata": {
        "id": "6Tu1xJETk3kc",
        "colab_type": "text"
      },
      "source": [
        "#### Scaling is important to keep the iterative process in check"
      ]
    },
    {
      "cell_type": "code",
      "metadata": {
        "id": "hluRYXsck3kd",
        "colab_type": "code",
        "colab": {}
      },
      "source": [
        "from sklearn.preprocessing import MinMaxScaler  #we may need this if the square is larger"
      ],
      "execution_count": 0,
      "outputs": []
    },
    {
      "cell_type": "code",
      "metadata": {
        "id": "nzzHZopGk3kf",
        "colab_type": "code",
        "colab": {}
      },
      "source": [
        "x_scaler = MinMaxScaler()\n",
        "X_scaled = x_scaler.fit_transform(X)"
      ],
      "execution_count": 0,
      "outputs": []
    },
    {
      "cell_type": "markdown",
      "metadata": {
        "id": "c7HK9p0lk3ki",
        "colab_type": "text"
      },
      "source": [
        "#### Call up the log_reg function that does gradient descent on the cost function, to render optimal values of $\\hat\\Theta$"
      ]
    },
    {
      "cell_type": "code",
      "metadata": {
        "id": "ebfGygeCk3ki",
        "colab_type": "code",
        "outputId": "77dae1b7-f127-4b40-eeef-63f16dfa1a06",
        "colab": {
          "base_uri": "https://localhost:8080/",
          "height": 307
        }
      },
      "source": [
        "##Let us now use our function to come up with the optimal parameters\n",
        "Theta_hat = log_reg(X, labels,num_steps = 30000, learning_rate = 0.01)"
      ],
      "execution_count": 0,
      "outputs": [
        {
          "output_type": "error",
          "ename": "TypeError",
          "evalue": "ignored",
          "traceback": [
            "\u001b[0;31m---------------------------------------------------------------------------\u001b[0m",
            "\u001b[0;31mTypeError\u001b[0m                                 Traceback (most recent call last)",
            "\u001b[0;32m<ipython-input-106-7351839cec06>\u001b[0m in \u001b[0;36m<module>\u001b[0;34m()\u001b[0m\n\u001b[0;32m----> 1\u001b[0;31m \u001b[0mTheta_hat\u001b[0m \u001b[0;34m=\u001b[0m \u001b[0mlog_reg\u001b[0m\u001b[0;34m(\u001b[0m\u001b[0mX\u001b[0m\u001b[0;34m,\u001b[0m \u001b[0mlabels\u001b[0m\u001b[0;34m,\u001b[0m\u001b[0mnum_steps\u001b[0m \u001b[0;34m=\u001b[0m \u001b[0;36m30000\u001b[0m\u001b[0;34m,\u001b[0m \u001b[0mlearning_rate\u001b[0m \u001b[0;34m=\u001b[0m \u001b[0;36m0.01\u001b[0m\u001b[0;34m)\u001b[0m\u001b[0;34m\u001b[0m\u001b[0;34m\u001b[0m\u001b[0m\n\u001b[0m",
            "\u001b[0;32m<ipython-input-103-4f7794c066fb>\u001b[0m in \u001b[0;36mlog_reg\u001b[0;34m(features, labels, num_steps, learning_rate)\u001b[0m\n\u001b[1;32m     11\u001b[0m     \u001b[0;32mfor\u001b[0m \u001b[0mstep\u001b[0m \u001b[0;32min\u001b[0m \u001b[0mrange\u001b[0m\u001b[0;34m(\u001b[0m\u001b[0mnum_steps\u001b[0m\u001b[0;34m)\u001b[0m\u001b[0;34m:\u001b[0m\u001b[0;34m\u001b[0m\u001b[0;34m\u001b[0m\u001b[0m\n\u001b[1;32m     12\u001b[0m         \u001b[0mscores\u001b[0m \u001b[0;34m=\u001b[0m \u001b[0mnp\u001b[0m\u001b[0;34m.\u001b[0m\u001b[0mdot\u001b[0m\u001b[0;34m(\u001b[0m\u001b[0mfeatures\u001b[0m\u001b[0;34m,\u001b[0m \u001b[0mweights\u001b[0m\u001b[0;34m)\u001b[0m\u001b[0;34m\u001b[0m\u001b[0;34m\u001b[0m\u001b[0m\n\u001b[0;32m---> 13\u001b[0;31m         \u001b[0mpredictions\u001b[0m \u001b[0;34m=\u001b[0m \u001b[0msigmoid\u001b[0m\u001b[0;34m(\u001b[0m\u001b[0mscores\u001b[0m\u001b[0;34m)\u001b[0m\u001b[0;34m\u001b[0m\u001b[0;34m\u001b[0m\u001b[0m\n\u001b[0m\u001b[1;32m     14\u001b[0m \u001b[0;34m\u001b[0m\u001b[0m\n\u001b[1;32m     15\u001b[0m         \u001b[0;31m# Update weights with gradient\u001b[0m\u001b[0;34m\u001b[0m\u001b[0;34m\u001b[0m\u001b[0;34m\u001b[0m\u001b[0m\n",
            "\u001b[0;32m<ipython-input-101-bc404acb0660>\u001b[0m in \u001b[0;36msigmoid\u001b[0;34m(scores)\u001b[0m\n\u001b[1;32m      4\u001b[0m \u001b[0;34m\u001b[0m\u001b[0m\n\u001b[1;32m      5\u001b[0m     \u001b[0;31m#### insert your code here ~ one line\u001b[0m\u001b[0;34m\u001b[0m\u001b[0;34m\u001b[0m\u001b[0;34m\u001b[0m\u001b[0m\n\u001b[0;32m----> 6\u001b[0;31m     \u001b[0mlogits\u001b[0m\u001b[0;34m=\u001b[0m \u001b[0;36m1\u001b[0m\u001b[0;34m/\u001b[0m\u001b[0;34m(\u001b[0m\u001b[0;36m1\u001b[0m \u001b[0;34m+\u001b[0m \u001b[0mmath\u001b[0m\u001b[0;34m.\u001b[0m\u001b[0mexp\u001b[0m\u001b[0;34m(\u001b[0m\u001b[0;34m-\u001b[0m\u001b[0mscores\u001b[0m\u001b[0;34m)\u001b[0m\u001b[0;34m)\u001b[0m\u001b[0;34m\u001b[0m\u001b[0;34m\u001b[0m\u001b[0m\n\u001b[0m\u001b[1;32m      7\u001b[0m     \u001b[0mscores\u001b[0m \u001b[0;34m=\u001b[0m \u001b[0;32mNone\u001b[0m\u001b[0;34m\u001b[0m\u001b[0;34m\u001b[0m\u001b[0m\n\u001b[1;32m      8\u001b[0m \u001b[0;34m\u001b[0m\u001b[0m\n",
            "\u001b[0;31mTypeError\u001b[0m: only size-1 arrays can be converted to Python scalars"
          ]
        }
      ]
    },
    {
      "cell_type": "markdown",
      "metadata": {
        "id": "gTe8an71k3kk",
        "colab_type": "text"
      },
      "source": [
        "#### You would see numbers like these:\n",
        "\n",
        "0.649746365538\n",
        "0.0713032927782\n",
        "0.0549840373037"
      ]
    },
    {
      "cell_type": "code",
      "metadata": {
        "id": "fxELaVi5k3kl",
        "colab_type": "code",
        "colab": {}
      },
      "source": [
        "## Take a look at the parameter set\n",
        "Theta_hat"
      ],
      "execution_count": 0,
      "outputs": []
    },
    {
      "cell_type": "markdown",
      "metadata": {
        "id": "ND8DGcH-k3ko",
        "colab_type": "text"
      },
      "source": [
        "#### You ought to see these or numbers proportional to these\n",
        "\n",
        "array([array([2.80780773, -0.01209348,  0.01057021, -3.06387661, -3.04460327, 0.0072521])])"
      ]
    },
    {
      "cell_type": "markdown",
      "metadata": {
        "id": "1rZUNa_nk3kp",
        "colab_type": "text"
      },
      "source": [
        "#### Let us think about this: out of the all the coefficients of $\\theta_0, \\theta_1, \\theta_2, \\theta_3, \\theta_4,\\theta_5$ we know the nonzero labels correspond to the circle: $\\theta_0,\\theta_3,\\theta_4$ and our procedure finds basically those and eliminates $\\theta_1,\\theta_2, and \\theta_5$\n",
        "\n",
        "#### In fact the actual parameter set:  Theta = np.array([1,0,0,-1,-1,0]) that corresponds to:\n",
        "$$ 1 + 0x_1 + 0x_2 - x_1^2 - x_2^2 + 0x_1x_2$$"
      ]
    },
    {
      "cell_type": "code",
      "metadata": {
        "id": "uSHePAluk3kq",
        "colab_type": "code",
        "colab": {}
      },
      "source": [
        "##Use our model parameters Theta_hat to predict the labels:  y_pred\n",
        "y_pred = np.dot(X,Theta_hat)"
      ],
      "execution_count": 0,
      "outputs": []
    },
    {
      "cell_type": "code",
      "metadata": {
        "id": "EyllTLBgk3ks",
        "colab_type": "code",
        "outputId": "c89231e1-cec2-4bcb-a2a3-f87edaf7ae00",
        "colab": {}
      },
      "source": [
        "##Make sure we are getting the correct shape: an array size (5000,)\n",
        "y_pred.shape"
      ],
      "execution_count": 0,
      "outputs": [
        {
          "output_type": "execute_result",
          "data": {
            "text/plain": [
              "(5000,)"
            ]
          },
          "metadata": {
            "tags": []
          },
          "execution_count": 22
        }
      ]
    },
    {
      "cell_type": "code",
      "metadata": {
        "id": "WloEM3azk3ku",
        "colab_type": "code",
        "colab": {}
      },
      "source": [
        "## Now turn all output values greater than 0.5 to one class and others to second\n",
        "y_hat = (y_pred >= 0.5).astype(int)"
      ],
      "execution_count": 0,
      "outputs": []
    },
    {
      "cell_type": "code",
      "metadata": {
        "id": "Bo2epB8zk3kx",
        "colab_type": "code",
        "outputId": "939ac48a-6653-4c8d-b257-d58b78a96fb4",
        "colab": {}
      },
      "source": [
        "## Take a look:  array([0, 1, 1, ..., 1, 0, 1])?\n",
        "y_hat"
      ],
      "execution_count": 0,
      "outputs": [
        {
          "output_type": "execute_result",
          "data": {
            "text/plain": [
              "array([0, 0, 0, ..., 0, 0, 0])"
            ]
          },
          "metadata": {
            "tags": []
          },
          "execution_count": 24
        }
      ]
    },
    {
      "cell_type": "code",
      "metadata": {
        "id": "MRabXV5pk3kz",
        "colab_type": "code",
        "outputId": "c72389f3-bccc-41a7-92ff-e8b48290677e",
        "colab": {}
      },
      "source": [
        "#Let us look at it another way\n",
        "plt.hist(y_hat)\n",
        "plt.show()\n"
      ],
      "execution_count": 0,
      "outputs": [
        {
          "output_type": "display_data",
          "data": {
            "image/png": "[encoded data removed]",
            "text/plain": [
              "<matplotlib.figure.Figure at 0x26253634048>"
            ]
          },
          "metadata": {
            "tags": []
          }
        }
      ]
    },
    {
      "cell_type": "code",
      "metadata": {
        "id": "PoTi2VBik3k1",
        "colab_type": "code",
        "outputId": "62f84f0a-1559-49f1-cdd2-05ab0cea73ce",
        "colab": {}
      },
      "source": [
        "# Visualize the data what our classification did: If done correctly it out to look like the graph below:\n",
        "fig = plt.figure(figsize=(10,10))\n",
        "plt.scatter(X[:,1], X[:,2], c=y_hat, s=40, cmap=plt.cm.Spectral);"
      ],
      "execution_count": 0,
      "outputs": [
        {
          "output_type": "display_data",
          "data": {
            "text/plain": [
              "<matplotlib.figure.Figure at 0x17648df8dd8>"
            ]
          },
          "metadata": {
            "tags": []
          }
        }
      ]
    },
    {
      "cell_type": "code",
      "metadata": {
        "id": "1lO2J3ipk3k5",
        "colab_type": "code",
        "outputId": "83d198c2-4afc-4349-efa9-0ed158c46f7b",
        "colab": {}
      },
      "source": [
        "#Let us see how our modeling is doing\n",
        "sum(np.abs(y_hat-labels))/len(X)"
      ],
      "execution_count": 0,
      "outputs": [
        {
          "output_type": "execute_result",
          "data": {
            "text/plain": [
              "0.021399999999999999"
            ]
          },
          "metadata": {
            "tags": []
          },
          "execution_count": 27
        }
      ]
    },
    {
      "cell_type": "markdown",
      "metadata": {
        "id": "kiXCUonKk3k7",
        "colab_type": "text"
      },
      "source": [
        "### You should see something like:\n",
        "\n",
        "0.0128"
      ]
    },
    {
      "cell_type": "markdown",
      "metadata": {
        "id": "eePTKuf7k3k8",
        "colab_type": "text"
      },
      "source": [
        "#### Now let us explore this a bit further: A mixed term $x_1^3 + x_2^3$ added on for labels"
      ]
    },
    {
      "cell_type": "code",
      "metadata": {
        "id": "WX4DjaULk3k9",
        "colab_type": "code",
        "colab": {}
      },
      "source": [
        "#y_3 = (X[:,2]*X[:,4]+X[:,1]*X[:,1]*X[:,1]) < 1\n",
        "y_3 = (X[:,1]*X[:,1]*X[:,1] + X[:,2]*X[:,2]*X[:,2]) < 1"
      ],
      "execution_count": 0,
      "outputs": []
    },
    {
      "cell_type": "code",
      "metadata": {
        "id": "FTsW8AMQk3lB",
        "colab_type": "code",
        "outputId": "6b10d512-74c5-4f98-a596-8c6974ec35ca",
        "colab": {}
      },
      "source": [
        "X[:,1]"
      ],
      "execution_count": 0,
      "outputs": [
        {
          "output_type": "execute_result",
          "data": {
            "text/plain": [
              "array([-0.75275928,  1.3919636 , -2.06388807, ...,  2.06351852,\n",
              "        1.67551732, -0.00331653], dtype=float32)"
            ]
          },
          "metadata": {
            "tags": []
          },
          "execution_count": 29
        }
      ]
    },
    {
      "cell_type": "code",
      "metadata": {
        "id": "hU4ODMyYk3lD",
        "colab_type": "code",
        "colab": {}
      },
      "source": [
        "#Again we turn the labels to 0/1\n",
        "labels_3 = y_3*1"
      ],
      "execution_count": 0,
      "outputs": []
    },
    {
      "cell_type": "code",
      "metadata": {
        "id": "4i9p5CVXk3lI",
        "colab_type": "code",
        "outputId": "7d4955b8-55ed-4195-cf4d-494e26f026d9",
        "colab": {}
      },
      "source": [
        "# Visualize the data what is labled\n",
        "fig = plt.figure(figsize=(8,8))\n",
        "plt.scatter(X[:,1], X[:,2], c=labels_3, s=40, cmap=plt.cm.Spectral);"
      ],
      "execution_count": 0,
      "outputs": [
        {
          "output_type": "display_data",
          "data": {
            "image/png": "[encoded data removed]",
            "text/plain": [
              "<matplotlib.figure.Figure at 0x1764a8690b8>"
            ]
          },
          "metadata": {
            "tags": []
          }
        }
      ]
    },
    {
      "cell_type": "markdown",
      "metadata": {
        "id": "MBgTQbY6k3lQ",
        "colab_type": "text"
      },
      "source": [
        "#### Now we will use the sklearn package to effciently model the data, but use the original X"
      ]
    },
    {
      "cell_type": "code",
      "metadata": {
        "id": "AA9n_zsrk3lR",
        "colab_type": "code",
        "colab": {}
      },
      "source": [
        "#Now we will use the sklearn package to effciently model the data, \n",
        "# but use the original X\n",
        "from sklearn.linear_model import LogisticRegression\n",
        "log_reg = LogisticRegression(random_state=42)\n",
        "model = log_reg.fit(X, labels_3)"
      ],
      "execution_count": 0,
      "outputs": []
    },
    {
      "cell_type": "code",
      "metadata": {
        "id": "rrCf_2qMk3lS",
        "colab_type": "code",
        "colab": {}
      },
      "source": [
        "#Get the prediction from the model\n",
        "y3_hat = model.predict(X)"
      ],
      "execution_count": 0,
      "outputs": []
    },
    {
      "cell_type": "code",
      "metadata": {
        "id": "0efyrhJ2k3lV",
        "colab_type": "code",
        "colab": {}
      },
      "source": [
        "#Turn the labels from boolean to binary\n",
        "y3_hat = y3_hat*1"
      ],
      "execution_count": 0,
      "outputs": []
    },
    {
      "cell_type": "markdown",
      "metadata": {
        "id": "QzQPqqOMk3lY",
        "colab_type": "text"
      },
      "source": [
        "#### Your graph should like like the following:"
      ]
    },
    {
      "cell_type": "code",
      "metadata": {
        "id": "pHfAaClxk3lc",
        "colab_type": "code",
        "outputId": "f6b66861-9812-4146-8dd7-7eabda38839f",
        "colab": {}
      },
      "source": [
        "# Now let us take a look how the model is doing:\n",
        "fig,axes = plt.subplots(1,2, figsize=(10,5), sharey = True)\n",
        "# Visualize the data what is originally labled:\n",
        "axes[0].scatter(X[:,1], X[:,2], c=labels_3, s=40, cmap=plt.cm.Spectral);\n",
        "axes[0].set_title('Original Dataset')\n",
        "# Now plot what the model classified:\n",
        "axes[1].scatter(X[:,1], X[:,2], c=y3_hat, s=40, cmap=plt.cm.Spectral);\n",
        "axes[1].set_title('Classified by Model')\n",
        "plt.show()"
      ],
      "execution_count": 0,
      "outputs": [
        {
          "output_type": "display_data",
          "data": {
            "image/png": "[encoded data removed]",
            "text/plain": [
              "<matplotlib.figure.Figure at 0x1764ad51780>"
            ]
          },
          "metadata": {
            "tags": []
          }
        }
      ]
    },
    {
      "cell_type": "markdown",
      "metadata": {
        "id": "9iQC1ZCuk3ll",
        "colab_type": "text"
      },
      "source": [
        "#### Obviously our prediction is pretty poor!  It is becuase the terms we have allowed on goes only up to quadratics.  We need to include cubics."
      ]
    },
    {
      "cell_type": "code",
      "metadata": {
        "id": "0CZEX-z8k3lm",
        "colab_type": "code",
        "outputId": "f258f1df-7195-4fb4-9038-6be6099faf78",
        "colab": {}
      },
      "source": [
        "#Let us see how our modeling is doing\n",
        "sum(np.abs(y3_hat-labels_3))/len(y3_hat)"
      ],
      "execution_count": 0,
      "outputs": [
        {
          "output_type": "execute_result",
          "data": {
            "text/plain": [
              "0.043279999999999999"
            ]
          },
          "metadata": {
            "tags": []
          },
          "execution_count": 56
        }
      ]
    },
    {
      "cell_type": "markdown",
      "metadata": {
        "id": "paPVT_lWk3lp",
        "colab_type": "text"
      },
      "source": [
        "#### You ought to see an accuray of 0.0512.  Not bad!  However the picture is not quite matching.  Can we do better?"
      ]
    },
    {
      "cell_type": "markdown",
      "metadata": {
        "id": "3rVPXfeek3lq",
        "colab_type": "text"
      },
      "source": [
        "#### <font color='blue'> Exercise #4:  </font> Now you add all terms up to and including 3rd degree terms such as $1, x_1, x_2, x_1^2, x_2^2, x_1x_2, x_1^3, x_2^3, x_1^2x_2, x_1x_2^2$  in to the feature list so our model is better"
      ]
    },
    {
      "cell_type": "code",
      "metadata": {
        "id": "cj1RfvXfk3lq",
        "colab_type": "code",
        "colab": {}
      },
      "source": [
        "#####Construct the feature vector set.  Remember to include all the terms\n",
        "##### including mixed terms that goes up to and including 3rd degree\n",
        "\n",
        "####### insert your code here ~ one-two line #########\n",
        "\n",
        "features_3 = (1 + X[:,1] + X[:,2] + X[:,3] + X[:,1]*X[:,1] + X[:,2]*X[:,2] + X[:,3]*X[:,3] + X[:,1]*X[:,2]*X[:,3] \n",
        "              + X[:,1]*X[:,1]*X[:,1] + X[:,2]*X[:,2]*X[:,2] + X[:,3]*X[:,3]*X[:,3] + X[:,1]*X[:,1]*X[:,2]*X[:,3] \n",
        "              + X[:,1]*X[:,2]*X[:,2]*X[:,3] + X[:,1]*X[:,2]*X[:,3]*X[:,3])\n",
        "\n",
        "######"
      ],
      "execution_count": 0,
      "outputs": []
    },
    {
      "cell_type": "code",
      "metadata": {
        "id": "OOCxK-_ek3lw",
        "colab_type": "code",
        "colab": {}
      },
      "source": [
        "X3 = features_3.T.copy()"
      ],
      "execution_count": 0,
      "outputs": []
    },
    {
      "cell_type": "markdown",
      "metadata": {
        "id": "eSYQIuGlk3ly",
        "colab_type": "text"
      },
      "source": [
        "#### Now we will use the optimized sklearn package (instead of our implementation) to model the data, but use the X3 involving at most cubics"
      ]
    },
    {
      "cell_type": "code",
      "metadata": {
        "id": "pSmW9UCNk3lz",
        "colab_type": "code",
        "colab": {}
      },
      "source": [
        "from sklearn.linear_model import LogisticRegression\n",
        "log_reg = LogisticRegression(random_state=42)\n",
        "model = log_reg.fit(X3, labels_3)"
      ],
      "execution_count": 0,
      "outputs": []
    },
    {
      "cell_type": "code",
      "metadata": {
        "id": "dSjJHHtFk3l1",
        "colab_type": "code",
        "outputId": "8d40c363-770b-4502-df29-fca627a07ee1",
        "colab": {}
      },
      "source": [
        "model.coef_"
      ],
      "execution_count": 0,
      "outputs": [
        {
          "output_type": "execute_result",
          "data": {
            "text/plain": [
              "array([[  5.44071898e+00,  -3.42409989e-01,  -3.20882036e-01,\n",
              "          9.58219089e-03,  -1.17171146e-01,  -1.04876275e+01,\n",
              "         -1.04915225e+01]])"
            ]
          },
          "metadata": {
            "tags": []
          },
          "execution_count": 60
        }
      ]
    },
    {
      "cell_type": "code",
      "metadata": {
        "id": "oatUinWOk3l3",
        "colab_type": "code",
        "colab": {}
      },
      "source": [
        "y3_hat = model.predict(X3)"
      ],
      "execution_count": 0,
      "outputs": []
    },
    {
      "cell_type": "code",
      "metadata": {
        "id": "xDeQHdH2k3l_",
        "colab_type": "code",
        "colab": {}
      },
      "source": [
        "y3_hat = y3_hat*1"
      ],
      "execution_count": 0,
      "outputs": []
    },
    {
      "cell_type": "markdown",
      "metadata": {
        "id": "JDX-jfe_k3mB",
        "colab_type": "text"
      },
      "source": [
        "### Your graphs should look like the following"
      ]
    },
    {
      "cell_type": "code",
      "metadata": {
        "id": "zcW7WaTRk3mB",
        "colab_type": "code",
        "outputId": "388bbf2c-a651-41ab-c1ab-5c31b069550c",
        "colab": {}
      },
      "source": [
        "# Now let us take a look how the model is doing: If done correctly you ought to see the graphs below\n",
        "fig,axes = plt.subplots(1,2, figsize=(10,5), sharey = True)\n",
        "# Visualize the data what is originally labled:\n",
        "axes[0].scatter(X[:,1], X[:,2], c=labels_3, s=40, cmap=plt.cm.Spectral);\n",
        "axes[0].set_title('Original Dataset')\n",
        "# Now plot what the model classified:\n",
        "axes[1].scatter(X[:,1], X[:,2], c=y3_hat, s=40, cmap=plt.cm.Spectral);\n",
        "axes[1].set_title('Classified by Model')\n",
        "plt.show()"
      ],
      "execution_count": 0,
      "outputs": [
        {
          "output_type": "display_data",
          "data": {
            "image/png": "[encoded data removed]",
            "text/plain": [
              "<matplotlib.figure.Figure at 0x1764c555ac8>"
            ]
          },
          "metadata": {
            "tags": []
          }
        }
      ]
    },
    {
      "cell_type": "markdown",
      "metadata": {
        "id": "qKmLo2IFk3mE",
        "colab_type": "text"
      },
      "source": [
        "### Pretty close!"
      ]
    },
    {
      "cell_type": "code",
      "metadata": {
        "id": "8I8f2yCEk3mF",
        "colab_type": "code",
        "outputId": "d1380021-1ce0-4988-d22b-e8c49f8150ad",
        "colab": {}
      },
      "source": [
        "#Let us see how our modeling is doing\n",
        "sum(np.abs(y3_hat-labels_3))/len(y3_hat)"
      ],
      "execution_count": 0,
      "outputs": [
        {
          "output_type": "execute_result",
          "data": {
            "text/plain": [
              "0.00029999999999999997"
            ]
          },
          "metadata": {
            "tags": []
          },
          "execution_count": 65
        }
      ]
    },
    {
      "cell_type": "markdown",
      "metadata": {
        "id": "iFNmLa0yk3mH",
        "colab_type": "text"
      },
      "source": [
        "#### You ought to see the percent of misclassified point to be around\n",
        "0.0002\n",
        "\n",
        "#### Much better than previous one"
      ]
    },
    {
      "cell_type": "code",
      "metadata": {
        "id": "a5MumeChk3mH",
        "colab_type": "code",
        "outputId": "f85f5772-bfcf-48fc-e74a-edc6e476960d",
        "colab": {}
      },
      "source": [
        "model.coef_"
      ],
      "execution_count": 0,
      "outputs": [
        {
          "output_type": "execute_result",
          "data": {
            "text/plain": [
              "array([[  5.44071898e+00,  -3.42409989e-01,  -3.20882036e-01,\n",
              "          9.58219089e-03,  -1.17171146e-01,  -1.04876275e+01,\n",
              "         -1.04915225e+01]])"
            ]
          },
          "metadata": {
            "tags": []
          },
          "execution_count": 66
        }
      ]
    },
    {
      "cell_type": "markdown",
      "metadata": {
        "id": "9zawryink3mK",
        "colab_type": "text"
      },
      "source": [
        "#### Is this what you expected? Notice the coefficients that remains and the one that are depressed, i.e. close to 0"
      ]
    },
    {
      "cell_type": "markdown",
      "metadata": {
        "id": "WoQsN7mDk3mK",
        "colab_type": "text"
      },
      "source": [
        "#### Congratulations! This concludes our third assignment"
      ]
    },
    {
      "cell_type": "code",
      "metadata": {
        "id": "uXSSe8AVk3mL",
        "colab_type": "code",
        "colab": {}
      },
      "source": [
        ""
      ],
      "execution_count": 0,
      "outputs": []
    }
  ]
}