{
  "nbformat": 4,
  "nbformat_minor": 0,
  "metadata": {
    "kernelspec": {
      "display_name": "Python 3",
      "language": "python",
      "name": "python3"
    },
    "language_info": {
      "codemirror_mode": {
        "name": "ipython",
        "version": 3
      },
      "file_extension": ".py",
      "mimetype": "text/x-python",
      "name": "python",
      "nbconvert_exporter": "python",
      "pygments_lexer": "ipython3",
      "version": "3.7.6"
    },
    "colab": {
      "name": "Assignment2.1 - Lists-Arrays-Matrices-Slicing-Operations_S2020.ipynb",
      "provenance": []
    }
  },
  "cells": [
    {
      "cell_type": "markdown",
      "metadata": {
        "id": "x2PKDyqyp4rp",
        "colab_type": "text"
      },
      "source": [
        "## Assignment 2.1:  Vectors, matrices and multidimensional arrays (Due: 2/19/20)"
      ]
    },
    {
      "cell_type": "markdown",
      "metadata": {
        "id": "BjAWEBNNp4rp",
        "colab_type": "text"
      },
      "source": [
        "Adapted from Robert Johansson: Source code listings for [Numerical Python - A Practical Techniques Approach for Industry](http://www.apress.com/9781484205549) (ISBN 978-1-484205-54-9).\n",
        "\n",
        "The source code listings can be downloaded from http://www.apress.com/9781484205549"
      ]
    },
    {
      "cell_type": "code",
      "metadata": {
        "id": "n4YCTS0Zp4rq",
        "colab_type": "code",
        "colab": {}
      },
      "source": [
        "import numpy as np"
      ],
      "execution_count": 0,
      "outputs": []
    },
    {
      "cell_type": "markdown",
      "metadata": {
        "id": "opAeKlXDp4rr",
        "colab_type": "text"
      },
      "source": [
        "### The NumPy array object"
      ]
    },
    {
      "cell_type": "code",
      "metadata": {
        "id": "Hh-C23jrp4rs",
        "colab_type": "code",
        "colab": {}
      },
      "source": [
        "data = np.array([[1, 2], [3, 4], [5, 6]])"
      ],
      "execution_count": 0,
      "outputs": []
    },
    {
      "cell_type": "code",
      "metadata": {
        "id": "CFhPy1q0p4ru",
        "colab_type": "code",
        "colab": {
          "base_uri": "https://localhost:8080/",
          "height": 34
        },
        "outputId": "6d757595-c13c-4e0b-9482-34dad9eaf17b"
      },
      "source": [
        "type(data)"
      ],
      "execution_count": 63,
      "outputs": [
        {
          "output_type": "execute_result",
          "data": {
            "text/plain": [
              "numpy.ndarray"
            ]
          },
          "metadata": {
            "tags": []
          },
          "execution_count": 63
        }
      ]
    },
    {
      "cell_type": "code",
      "metadata": {
        "id": "tWjR7jxop4rv",
        "colab_type": "code",
        "colab": {
          "base_uri": "https://localhost:8080/",
          "height": 68
        },
        "outputId": "d6735e42-c2f6-457f-dd12-aa9e6a7c4b5b"
      },
      "source": [
        "data"
      ],
      "execution_count": 64,
      "outputs": [
        {
          "output_type": "execute_result",
          "data": {
            "text/plain": [
              "array([[1, 2],\n",
              "       [3, 4],\n",
              "       [5, 6]])"
            ]
          },
          "metadata": {
            "tags": []
          },
          "execution_count": 64
        }
      ]
    },
    {
      "cell_type": "code",
      "metadata": {
        "id": "gdna0akNp4rx",
        "colab_type": "code",
        "colab": {
          "base_uri": "https://localhost:8080/",
          "height": 34
        },
        "outputId": "6cf1df96-807a-4e2b-9042-bf158edbb572"
      },
      "source": [
        "data.ndim"
      ],
      "execution_count": 65,
      "outputs": [
        {
          "output_type": "execute_result",
          "data": {
            "text/plain": [
              "2"
            ]
          },
          "metadata": {
            "tags": []
          },
          "execution_count": 65
        }
      ]
    },
    {
      "cell_type": "code",
      "metadata": {
        "id": "vyL8OJs-p4rz",
        "colab_type": "code",
        "colab": {
          "base_uri": "https://localhost:8080/",
          "height": 34
        },
        "outputId": "ce06ca14-bcef-45c6-f8b6-6cbec4285062"
      },
      "source": [
        "data.shape"
      ],
      "execution_count": 66,
      "outputs": [
        {
          "output_type": "execute_result",
          "data": {
            "text/plain": [
              "(3, 2)"
            ]
          },
          "metadata": {
            "tags": []
          },
          "execution_count": 66
        }
      ]
    },
    {
      "cell_type": "code",
      "metadata": {
        "id": "Du2I2zkgp4r1",
        "colab_type": "code",
        "colab": {
          "base_uri": "https://localhost:8080/",
          "height": 34
        },
        "outputId": "d2932091-6402-41f7-b1c5-0879b9e50dad"
      },
      "source": [
        "data.size"
      ],
      "execution_count": 67,
      "outputs": [
        {
          "output_type": "execute_result",
          "data": {
            "text/plain": [
              "6"
            ]
          },
          "metadata": {
            "tags": []
          },
          "execution_count": 67
        }
      ]
    },
    {
      "cell_type": "code",
      "metadata": {
        "id": "XIbggk5lp4r3",
        "colab_type": "code",
        "colab": {
          "base_uri": "https://localhost:8080/",
          "height": 34
        },
        "outputId": "c8f2f122-7127-4284-cee1-c7d7392dbd35"
      },
      "source": [
        "data.dtype"
      ],
      "execution_count": 68,
      "outputs": [
        {
          "output_type": "execute_result",
          "data": {
            "text/plain": [
              "dtype('int64')"
            ]
          },
          "metadata": {
            "tags": []
          },
          "execution_count": 68
        }
      ]
    },
    {
      "cell_type": "code",
      "metadata": {
        "id": "tNE5ebq8p4r4",
        "colab_type": "code",
        "colab": {
          "base_uri": "https://localhost:8080/",
          "height": 34
        },
        "outputId": "0f9864a4-90d0-4039-f999-a4f07413f3cf"
      },
      "source": [
        "data.nbytes"
      ],
      "execution_count": 69,
      "outputs": [
        {
          "output_type": "execute_result",
          "data": {
            "text/plain": [
              "48"
            ]
          },
          "metadata": {
            "tags": []
          },
          "execution_count": 69
        }
      ]
    },
    {
      "cell_type": "markdown",
      "metadata": {
        "id": "ifSkDEXqp4r5",
        "colab_type": "text"
      },
      "source": [
        "### <font color = 'blue'> Exercise #1: </font> \n",
        "1. Create a 3-dimensional array of integers\n",
        "2. Find all 3 of its dimensions, print them out one per line"
      ]
    },
    {
      "cell_type": "code",
      "metadata": {
        "id": "SYxfNFx1p6yx",
        "colab_type": "code",
        "colab": {}
      },
      "source": [
        "n = 3\n",
        "a = []\n",
        "for x in range(n):\n",
        "    a1 = []\n",
        "    for y in range(n):\n",
        "        a2 = []\n",
        "        for z in range(n):\n",
        "            a2.append(str(x)+str(y)+str(z))\n",
        "        a1.append(a2)\n",
        "    a.append(a1)"
      ],
      "execution_count": 0,
      "outputs": []
    },
    {
      "cell_type": "code",
      "metadata": {
        "id": "4IH7eUVhsSiD",
        "colab_type": "code",
        "colab": {
          "base_uri": "https://localhost:8080/",
          "height": 68
        },
        "outputId": "fc892747-cb24-4b18-a910-e82f22ad091a"
      },
      "source": [
        "for x in a:\n",
        "    print(x)"
      ],
      "execution_count": 54,
      "outputs": [
        {
          "output_type": "stream",
          "text": [
            "[['000', '001', '002'], ['010', '011', '012'], ['020', '021', '022']]\n",
            "[['100', '101', '102'], ['110', '111', '112'], ['120', '121', '122']]\n",
            "[['200', '201', '202'], ['210', '211', '212'], ['220', '221', '222']]\n"
          ],
          "name": "stdout"
        }
      ]
    },
    {
      "cell_type": "code",
      "metadata": {
        "id": "0AoOQ9Bwp4r6",
        "colab_type": "code",
        "colab": {}
      },
      "source": [
        "threed_array = np.random.randint(-10,10, size=(5,3,4))"
      ],
      "execution_count": 0,
      "outputs": []
    },
    {
      "cell_type": "code",
      "metadata": {
        "id": "vggzoBPPp4r8",
        "colab_type": "code",
        "colab": {},
        "outputId": "2a3de7ff-0232-45a4-a5a6-d5b7a4b153f8"
      },
      "source": [
        "threed_array.shape"
      ],
      "execution_count": 0,
      "outputs": [
        {
          "output_type": "execute_result",
          "data": {
            "text/plain": [
              "(5, 3, 4)"
            ]
          },
          "metadata": {
            "tags": []
          },
          "execution_count": 10
        }
      ]
    },
    {
      "cell_type": "code",
      "metadata": {
        "id": "Eped_hEMp4r-",
        "colab_type": "code",
        "colab": {},
        "outputId": "93157646-7d13-484e-b1bb-d6be4c1ff5c6"
      },
      "source": [
        "for x in threed_array.shape:\n",
        "    print(x)"
      ],
      "execution_count": 0,
      "outputs": [
        {
          "output_type": "stream",
          "text": [
            "5\n",
            "3\n",
            "4\n"
          ],
          "name": "stdout"
        }
      ]
    },
    {
      "cell_type": "markdown",
      "metadata": {
        "id": "WTj1Wxyrp4sA",
        "colab_type": "text"
      },
      "source": [
        "## Data types"
      ]
    },
    {
      "cell_type": "code",
      "metadata": {
        "id": "UvQOa7Pop4sB",
        "colab_type": "code",
        "colab": {
          "base_uri": "https://localhost:8080/",
          "height": 34
        },
        "outputId": "aecd5713-1166-4df4-ebe8-62592bdd6537"
      },
      "source": [
        "np.array([1, 2, 3], dtype=np.int)"
      ],
      "execution_count": 70,
      "outputs": [
        {
          "output_type": "execute_result",
          "data": {
            "text/plain": [
              "array([1, 2, 3])"
            ]
          },
          "metadata": {
            "tags": []
          },
          "execution_count": 70
        }
      ]
    },
    {
      "cell_type": "code",
      "metadata": {
        "id": "5wSYcLd3p4sD",
        "colab_type": "code",
        "colab": {
          "base_uri": "https://localhost:8080/",
          "height": 34
        },
        "outputId": "e67f2c04-7b74-42c1-e7dd-88d5c7954cb8"
      },
      "source": [
        "np.array([1, 2, 3], dtype=np.float)"
      ],
      "execution_count": 71,
      "outputs": [
        {
          "output_type": "execute_result",
          "data": {
            "text/plain": [
              "array([1., 2., 3.])"
            ]
          },
          "metadata": {
            "tags": []
          },
          "execution_count": 71
        }
      ]
    },
    {
      "cell_type": "code",
      "metadata": {
        "id": "v-6L2vxlp4sG",
        "colab_type": "code",
        "colab": {
          "base_uri": "https://localhost:8080/",
          "height": 34
        },
        "outputId": "8af65042-c7ca-4ade-c864-d5004f2b8a71"
      },
      "source": [
        "np.array([1, 2, 3], dtype=np.complex)"
      ],
      "execution_count": 72,
      "outputs": [
        {
          "output_type": "execute_result",
          "data": {
            "text/plain": [
              "array([1.+0.j, 2.+0.j, 3.+0.j])"
            ]
          },
          "metadata": {
            "tags": []
          },
          "execution_count": 72
        }
      ]
    },
    {
      "cell_type": "code",
      "metadata": {
        "id": "JFhKIHsgp4sH",
        "colab_type": "code",
        "colab": {}
      },
      "source": [
        "data = np.array([1, 2, 3], dtype=np.float)"
      ],
      "execution_count": 0,
      "outputs": []
    },
    {
      "cell_type": "code",
      "metadata": {
        "id": "URY_59sPp4sJ",
        "colab_type": "code",
        "colab": {
          "base_uri": "https://localhost:8080/",
          "height": 34
        },
        "outputId": "74a2a7ea-8a3c-406a-c7ac-e8416f26248b"
      },
      "source": [
        "data"
      ],
      "execution_count": 75,
      "outputs": [
        {
          "output_type": "execute_result",
          "data": {
            "text/plain": [
              "array([1., 2., 3.])"
            ]
          },
          "metadata": {
            "tags": []
          },
          "execution_count": 75
        }
      ]
    },
    {
      "cell_type": "code",
      "metadata": {
        "id": "J5a00ca-p4sK",
        "colab_type": "code",
        "colab": {
          "base_uri": "https://localhost:8080/",
          "height": 34
        },
        "outputId": "8d9a29fa-af26-4df1-9c8f-0793909c9c24"
      },
      "source": [
        "data.dtype"
      ],
      "execution_count": 76,
      "outputs": [
        {
          "output_type": "execute_result",
          "data": {
            "text/plain": [
              "dtype('float64')"
            ]
          },
          "metadata": {
            "tags": []
          },
          "execution_count": 76
        }
      ]
    },
    {
      "cell_type": "code",
      "metadata": {
        "id": "TyzSJuhup4sL",
        "colab_type": "code",
        "colab": {}
      },
      "source": [
        "data = np.array([1, 2, 3], dtype=np.int)"
      ],
      "execution_count": 0,
      "outputs": []
    },
    {
      "cell_type": "code",
      "metadata": {
        "id": "SDF_B5ZUp4sN",
        "colab_type": "code",
        "colab": {
          "base_uri": "https://localhost:8080/",
          "height": 34
        },
        "outputId": "2e5dca30-f2e2-4c53-f381-20601c0e0944"
      },
      "source": [
        "data.dtype"
      ],
      "execution_count": 78,
      "outputs": [
        {
          "output_type": "execute_result",
          "data": {
            "text/plain": [
              "dtype('int64')"
            ]
          },
          "metadata": {
            "tags": []
          },
          "execution_count": 78
        }
      ]
    },
    {
      "cell_type": "code",
      "metadata": {
        "id": "wJk7uxUEp4sO",
        "colab_type": "code",
        "colab": {},
        "outputId": "6c53f6a4-d5c7-439c-81b9-b7e89b11c36b"
      },
      "source": [
        "data"
      ],
      "execution_count": 0,
      "outputs": [
        {
          "output_type": "execute_result",
          "data": {
            "text/plain": [
              "array([1, 2, 3])"
            ]
          },
          "metadata": {
            "tags": []
          },
          "execution_count": 18
        }
      ]
    },
    {
      "cell_type": "code",
      "metadata": {
        "id": "yRNV2q1bp4sS",
        "colab_type": "code",
        "colab": {}
      },
      "source": [
        "data = np.array([1, 2, 3], dtype=np.float)"
      ],
      "execution_count": 0,
      "outputs": []
    },
    {
      "cell_type": "code",
      "metadata": {
        "id": "hj3tHWKop4sT",
        "colab_type": "code",
        "colab": {},
        "outputId": "2d95b410-2d9b-4e32-f819-da58a39f0f82"
      },
      "source": [
        "data"
      ],
      "execution_count": 0,
      "outputs": [
        {
          "output_type": "execute_result",
          "data": {
            "text/plain": [
              "array([ 1.,  2.,  3.])"
            ]
          },
          "metadata": {
            "tags": []
          },
          "execution_count": 20
        }
      ]
    },
    {
      "cell_type": "code",
      "metadata": {
        "id": "qnwqD3g4p4sW",
        "colab_type": "code",
        "colab": {},
        "outputId": "825b1e39-ede0-4fa3-adc5-2dbcd99d1447"
      },
      "source": [
        "data.astype(np.int)"
      ],
      "execution_count": 0,
      "outputs": [
        {
          "output_type": "execute_result",
          "data": {
            "text/plain": [
              "array([1, 2, 3])"
            ]
          },
          "metadata": {
            "tags": []
          },
          "execution_count": 21
        }
      ]
    },
    {
      "cell_type": "code",
      "metadata": {
        "id": "GrjoBIZ-p4sX",
        "colab_type": "code",
        "colab": {}
      },
      "source": [
        "d1 = np.array([1, 2, 3], dtype=float)"
      ],
      "execution_count": 0,
      "outputs": []
    },
    {
      "cell_type": "code",
      "metadata": {
        "id": "n_grl7BTp4sY",
        "colab_type": "code",
        "colab": {}
      },
      "source": [
        "d2 = np.array([1, 2, 3], dtype=complex)"
      ],
      "execution_count": 0,
      "outputs": []
    },
    {
      "cell_type": "code",
      "metadata": {
        "id": "gprQezFwp4sZ",
        "colab_type": "code",
        "colab": {},
        "outputId": "66da2ec3-8fe7-4bc6-e2a8-a203ccd1e488"
      },
      "source": [
        "d1 + d2"
      ],
      "execution_count": 0,
      "outputs": [
        {
          "output_type": "execute_result",
          "data": {
            "text/plain": [
              "array([ 2.+0.j,  4.+0.j,  6.+0.j])"
            ]
          },
          "metadata": {
            "tags": []
          },
          "execution_count": 24
        }
      ]
    },
    {
      "cell_type": "code",
      "metadata": {
        "id": "YCoAFv90p4sk",
        "colab_type": "code",
        "colab": {},
        "outputId": "58ef89d7-b69d-4c38-d99f-ee30fb864435"
      },
      "source": [
        "(d1 + d2).dtype"
      ],
      "execution_count": 0,
      "outputs": [
        {
          "output_type": "execute_result",
          "data": {
            "text/plain": [
              "dtype('complex128')"
            ]
          },
          "metadata": {
            "tags": []
          },
          "execution_count": 25
        }
      ]
    },
    {
      "cell_type": "code",
      "metadata": {
        "id": "uebi5vK2p4sm",
        "colab_type": "code",
        "colab": {},
        "outputId": "11f1c74d-c95c-4463-d648-31aa5cccd6c5"
      },
      "source": [
        "np.sqrt(np.array([-1, 0, 1]))"
      ],
      "execution_count": 0,
      "outputs": [
        {
          "output_type": "stream",
          "text": [
            "C:\\ProgramData\\Anaconda3\\lib\\site-packages\\ipykernel_launcher.py:1: RuntimeWarning: invalid value encountered in sqrt\n",
            "  \"\"\"Entry point for launching an IPython kernel.\n"
          ],
          "name": "stderr"
        },
        {
          "output_type": "execute_result",
          "data": {
            "text/plain": [
              "array([ nan,   0.,   1.])"
            ]
          },
          "metadata": {
            "tags": []
          },
          "execution_count": 26
        }
      ]
    },
    {
      "cell_type": "code",
      "metadata": {
        "id": "UcElWn7Zp4so",
        "colab_type": "code",
        "colab": {},
        "outputId": "e2dde09a-19a8-489d-cc3d-802cbf0cdc51"
      },
      "source": [
        "np.sqrt(np.array([-1, 0, 1], dtype=complex))"
      ],
      "execution_count": 0,
      "outputs": [
        {
          "output_type": "execute_result",
          "data": {
            "text/plain": [
              "array([ 0.+1.j,  0.+0.j,  1.+0.j])"
            ]
          },
          "metadata": {
            "tags": []
          },
          "execution_count": 27
        }
      ]
    },
    {
      "cell_type": "markdown",
      "metadata": {
        "id": "142PpcCLp4sq",
        "colab_type": "text"
      },
      "source": [
        "### <font color = 'blue'> Exercise #2: </font>\n",
        "1. Create a 2-dimensional numpy array of type float32\n",
        "2. Add it to another of same dimensions but of type float64\n",
        "3. Guess what type the entries of the sum array would be, and check your guess by carrying out the addition."
      ]
    },
    {
      "cell_type": "code",
      "metadata": {
        "id": "rQJLng-xumac",
        "colab_type": "code",
        "colab": {
          "base_uri": "https://localhost:8080/",
          "height": 68
        },
        "outputId": "35ee4800-cf47-4464-f9e2-2eca85655470"
      },
      "source": [
        "np.array([[1, 2],[2, 2],[3, 2]], dtype=np.float32)"
      ],
      "execution_count": 83,
      "outputs": [
        {
          "output_type": "execute_result",
          "data": {
            "text/plain": [
              "array([[1., 2.],\n",
              "       [2., 2.],\n",
              "       [3., 2.]], dtype=float32)"
            ]
          },
          "metadata": {
            "tags": []
          },
          "execution_count": 83
        }
      ]
    },
    {
      "cell_type": "code",
      "metadata": {
        "id": "BeIV2U9qD-qh",
        "colab_type": "code",
        "colab": {
          "base_uri": "https://localhost:8080/",
          "height": 68
        },
        "outputId": "973e3823-9a41-48f1-8e53-17570e4eb8ae"
      },
      "source": [
        "np.array([[1, 2],[2, 2],[3, 2]], dtype=np.float64)"
      ],
      "execution_count": 84,
      "outputs": [
        {
          "output_type": "execute_result",
          "data": {
            "text/plain": [
              "array([[1., 2.],\n",
              "       [2., 2.],\n",
              "       [3., 2.]])"
            ]
          },
          "metadata": {
            "tags": []
          },
          "execution_count": 84
        }
      ]
    },
    {
      "cell_type": "markdown",
      "metadata": {
        "id": "w1CrXBM5p4sr",
        "colab_type": "text"
      },
      "source": [
        "### Real and imaginary parts"
      ]
    },
    {
      "cell_type": "code",
      "metadata": {
        "id": "HmomiMP2p4ss",
        "colab_type": "code",
        "colab": {}
      },
      "source": [
        "data = np.array([1, 2, 3], dtype=complex)"
      ],
      "execution_count": 0,
      "outputs": []
    },
    {
      "cell_type": "code",
      "metadata": {
        "id": "ymcYCCPxp4st",
        "colab_type": "code",
        "colab": {},
        "outputId": "5f157b2c-48a1-40e1-e622-afb2977df3f1"
      },
      "source": [
        "data"
      ],
      "execution_count": 0,
      "outputs": [
        {
          "output_type": "execute_result",
          "data": {
            "text/plain": [
              "array([ 1.+0.j,  2.+0.j,  3.+0.j])"
            ]
          },
          "metadata": {
            "tags": []
          },
          "execution_count": 29
        }
      ]
    },
    {
      "cell_type": "code",
      "metadata": {
        "id": "YuPrJAtop4su",
        "colab_type": "code",
        "colab": {},
        "outputId": "fc9e5061-7825-456b-ce92-69473e5c82fc"
      },
      "source": [
        "data.real"
      ],
      "execution_count": 0,
      "outputs": [
        {
          "output_type": "execute_result",
          "data": {
            "text/plain": [
              "array([ 1.,  2.,  3.])"
            ]
          },
          "metadata": {
            "tags": []
          },
          "execution_count": 30
        }
      ]
    },
    {
      "cell_type": "code",
      "metadata": {
        "id": "mw4JxS0Rp4sw",
        "colab_type": "code",
        "colab": {},
        "outputId": "71a23246-8c96-4b62-99b9-563b5cd272c0"
      },
      "source": [
        "data.imag"
      ],
      "execution_count": 0,
      "outputs": [
        {
          "output_type": "execute_result",
          "data": {
            "text/plain": [
              "array([ 0.,  0.,  0.])"
            ]
          },
          "metadata": {
            "tags": []
          },
          "execution_count": 31
        }
      ]
    },
    {
      "cell_type": "markdown",
      "metadata": {
        "id": "MawQLPV_p4sx",
        "colab_type": "text"
      },
      "source": [
        "## Creating arrays"
      ]
    },
    {
      "cell_type": "markdown",
      "metadata": {
        "id": "K4fIa7CDp4sy",
        "colab_type": "text"
      },
      "source": [
        "### Arrays created from lists and other array-like objects"
      ]
    },
    {
      "cell_type": "code",
      "metadata": {
        "id": "2pGgREDlp4sy",
        "colab_type": "code",
        "colab": {}
      },
      "source": [
        "data = np.array(np.arange(16))"
      ],
      "execution_count": 0,
      "outputs": []
    },
    {
      "cell_type": "code",
      "metadata": {
        "id": "730Y_SEop4sz",
        "colab_type": "code",
        "colab": {},
        "outputId": "765f1149-7d74-4e5d-da3b-93b7843e2a44"
      },
      "source": [
        "data"
      ],
      "execution_count": 0,
      "outputs": [
        {
          "output_type": "execute_result",
          "data": {
            "text/plain": [
              "array([ 0,  1,  2,  3,  4,  5,  6,  7,  8,  9, 10, 11, 12, 13, 14, 15])"
            ]
          },
          "metadata": {
            "tags": []
          },
          "execution_count": 26
        }
      ]
    },
    {
      "cell_type": "code",
      "metadata": {
        "id": "SlsHJWFUp4s0",
        "colab_type": "code",
        "colab": {},
        "outputId": "655f6c28-f64c-4670-e2cb-551958925416"
      },
      "source": [
        "data.reshape(-1,4)"
      ],
      "execution_count": 0,
      "outputs": [
        {
          "output_type": "execute_result",
          "data": {
            "text/plain": [
              "array([[ 0,  1,  2,  3],\n",
              "       [ 4,  5,  6,  7],\n",
              "       [ 8,  9, 10, 11],\n",
              "       [12, 13, 14, 15]])"
            ]
          },
          "metadata": {
            "tags": []
          },
          "execution_count": 31
        }
      ]
    },
    {
      "cell_type": "code",
      "metadata": {
        "id": "vAztRe-dp4s1",
        "colab_type": "code",
        "colab": {}
      },
      "source": [
        "data = np.array([[1, 2], [3, 4]])"
      ],
      "execution_count": 0,
      "outputs": []
    },
    {
      "cell_type": "code",
      "metadata": {
        "id": "XLUzC34Dp4s3",
        "colab_type": "code",
        "colab": {},
        "outputId": "bbfab778-60eb-41dd-90df-7e0fa069af23"
      },
      "source": [
        "data.ndim"
      ],
      "execution_count": 0,
      "outputs": [
        {
          "output_type": "execute_result",
          "data": {
            "text/plain": [
              "2"
            ]
          },
          "metadata": {
            "tags": []
          },
          "execution_count": 19
        }
      ]
    },
    {
      "cell_type": "code",
      "metadata": {
        "id": "3YUMvciap4s4",
        "colab_type": "code",
        "colab": {},
        "outputId": "292d2edf-95f8-43bb-dd61-57750df0175d"
      },
      "source": [
        "data.shape"
      ],
      "execution_count": 0,
      "outputs": [
        {
          "output_type": "execute_result",
          "data": {
            "text/plain": [
              "(2, 2)"
            ]
          },
          "metadata": {
            "tags": []
          },
          "execution_count": 20
        }
      ]
    },
    {
      "cell_type": "markdown",
      "metadata": {
        "id": "TvTl155Ep4s8",
        "colab_type": "text"
      },
      "source": [
        "### Arrays filled with special constant values"
      ]
    },
    {
      "cell_type": "code",
      "metadata": {
        "id": "dOuekVLBp4s8",
        "colab_type": "code",
        "colab": {},
        "outputId": "b35d5b79-bc84-450a-92f9-17ae50564c71"
      },
      "source": [
        "np.zeros((2, 3))"
      ],
      "execution_count": 0,
      "outputs": [
        {
          "output_type": "execute_result",
          "data": {
            "text/plain": [
              "array([[0., 0., 0.],\n",
              "       [0., 0., 0.]])"
            ]
          },
          "metadata": {
            "tags": []
          },
          "execution_count": 21
        }
      ]
    },
    {
      "cell_type": "code",
      "metadata": {
        "id": "MgfIjdCsp4tA",
        "colab_type": "code",
        "colab": {},
        "outputId": "a68279a9-8df3-45cc-a6a2-04704c9fc92e"
      },
      "source": [
        "np.ones(4)"
      ],
      "execution_count": 0,
      "outputs": [
        {
          "output_type": "execute_result",
          "data": {
            "text/plain": [
              "array([1., 1., 1., 1.])"
            ]
          },
          "metadata": {
            "tags": []
          },
          "execution_count": 22
        }
      ]
    },
    {
      "cell_type": "code",
      "metadata": {
        "id": "k7Oup3Uep4tB",
        "colab_type": "code",
        "colab": {}
      },
      "source": [
        "data = np.ones(4)"
      ],
      "execution_count": 0,
      "outputs": []
    },
    {
      "cell_type": "code",
      "metadata": {
        "id": "V3PJfG8Lp4tD",
        "colab_type": "code",
        "colab": {},
        "outputId": "34321a27-f356-4a1f-e1dd-d4a4ad130c85"
      },
      "source": [
        "data.dtype"
      ],
      "execution_count": 0,
      "outputs": [
        {
          "output_type": "execute_result",
          "data": {
            "text/plain": [
              "dtype('float64')"
            ]
          },
          "metadata": {
            "tags": []
          },
          "execution_count": 24
        }
      ]
    },
    {
      "cell_type": "code",
      "metadata": {
        "id": "CTlHooPlp4tG",
        "colab_type": "code",
        "colab": {}
      },
      "source": [
        "data = np.ones(4, dtype=np.int64)"
      ],
      "execution_count": 0,
      "outputs": []
    },
    {
      "cell_type": "code",
      "metadata": {
        "id": "JehwMUnnp4tH",
        "colab_type": "code",
        "colab": {},
        "outputId": "ed84dce8-e4d5-4b45-9e4a-c3e36889c939"
      },
      "source": [
        "data.dtype"
      ],
      "execution_count": 0,
      "outputs": [
        {
          "output_type": "execute_result",
          "data": {
            "text/plain": [
              "dtype('int64')"
            ]
          },
          "metadata": {
            "tags": []
          },
          "execution_count": 26
        }
      ]
    },
    {
      "cell_type": "code",
      "metadata": {
        "id": "AjKXg-Y4p4tK",
        "colab_type": "code",
        "colab": {}
      },
      "source": [
        "x1 = 5.4 * np.ones(10)"
      ],
      "execution_count": 0,
      "outputs": []
    },
    {
      "cell_type": "code",
      "metadata": {
        "id": "MF43S8Qup4tO",
        "colab_type": "code",
        "colab": {}
      },
      "source": [
        "x2 = np.full(10, 5.4)"
      ],
      "execution_count": 0,
      "outputs": []
    },
    {
      "cell_type": "code",
      "metadata": {
        "id": "qRxBJfPEp4tR",
        "colab_type": "code",
        "colab": {},
        "outputId": "c713ef6c-68bd-4a1c-90d8-9dca906fc5dc"
      },
      "source": [
        "x2"
      ],
      "execution_count": 0,
      "outputs": [
        {
          "output_type": "execute_result",
          "data": {
            "text/plain": [
              "array([5.4, 5.4, 5.4, 5.4, 5.4, 5.4, 5.4, 5.4, 5.4, 5.4])"
            ]
          },
          "metadata": {
            "tags": []
          },
          "execution_count": 33
        }
      ]
    },
    {
      "cell_type": "code",
      "metadata": {
        "id": "6AHis87zp4tT",
        "colab_type": "code",
        "colab": {}
      },
      "source": [
        "x1 = np.empty(5)"
      ],
      "execution_count": 0,
      "outputs": []
    },
    {
      "cell_type": "code",
      "metadata": {
        "id": "XMsSxHt6p4tW",
        "colab_type": "code",
        "colab": {}
      },
      "source": [
        "x1.fill(3.0)"
      ],
      "execution_count": 0,
      "outputs": []
    },
    {
      "cell_type": "code",
      "metadata": {
        "id": "3zGR1xwQp4tX",
        "colab_type": "code",
        "colab": {},
        "outputId": "70ca4308-5678-407f-a491-1d048a4650ad"
      },
      "source": [
        "x1"
      ],
      "execution_count": 0,
      "outputs": [
        {
          "output_type": "execute_result",
          "data": {
            "text/plain": [
              "array([3., 3., 3., 3., 3.])"
            ]
          },
          "metadata": {
            "tags": []
          },
          "execution_count": 31
        }
      ]
    },
    {
      "cell_type": "code",
      "metadata": {
        "id": "oepT37jBp4tc",
        "colab_type": "code",
        "colab": {}
      },
      "source": [
        "x2 = np.full(5, 3.0)"
      ],
      "execution_count": 0,
      "outputs": []
    },
    {
      "cell_type": "code",
      "metadata": {
        "id": "WBWEEGKAp4tf",
        "colab_type": "code",
        "colab": {},
        "outputId": "9258e138-e92c-48c7-a906-43df50dab620"
      },
      "source": [
        "x2"
      ],
      "execution_count": 0,
      "outputs": [
        {
          "output_type": "execute_result",
          "data": {
            "text/plain": [
              "array([3., 3., 3., 3., 3.])"
            ]
          },
          "metadata": {
            "tags": []
          },
          "execution_count": 33
        }
      ]
    },
    {
      "cell_type": "markdown",
      "metadata": {
        "id": "Q7vyqojmp4tg",
        "colab_type": "text"
      },
      "source": [
        "### Arrays filled with incremental sequences"
      ]
    },
    {
      "cell_type": "code",
      "metadata": {
        "id": "TC-Z1ZFEp4tg",
        "colab_type": "code",
        "colab": {},
        "outputId": "1efe0ed0-74c1-4c7e-832e-2bc6f6c2b6b7"
      },
      "source": [
        "np.arange(0.0, 10, 1)"
      ],
      "execution_count": 0,
      "outputs": [
        {
          "output_type": "execute_result",
          "data": {
            "text/plain": [
              "array([0., 1., 2., 3., 4., 5., 6., 7., 8., 9.])"
            ]
          },
          "metadata": {
            "tags": []
          },
          "execution_count": 34
        }
      ]
    },
    {
      "cell_type": "code",
      "metadata": {
        "id": "7QBbOGr5p4ti",
        "colab_type": "code",
        "colab": {},
        "outputId": "fe60bc1e-7b10-4b8e-9940-b2976f9260bb"
      },
      "source": [
        "np.linspace(0, 10, 11)"
      ],
      "execution_count": 0,
      "outputs": [
        {
          "output_type": "execute_result",
          "data": {
            "text/plain": [
              "array([ 0.,  1.,  2.,  3.,  4.,  5.,  6.,  7.,  8.,  9., 10.])"
            ]
          },
          "metadata": {
            "tags": []
          },
          "execution_count": 35
        }
      ]
    },
    {
      "cell_type": "markdown",
      "metadata": {
        "id": "tyRvlNz-p4tj",
        "colab_type": "text"
      },
      "source": [
        "### Arrays filled with logarithmic sequences"
      ]
    },
    {
      "cell_type": "code",
      "metadata": {
        "id": "zpvTv8zep4tj",
        "colab_type": "code",
        "colab": {},
        "outputId": "fb3007ba-4398-443e-8292-5c1ede95475c"
      },
      "source": [
        "np.logspace(0, 2, 5)  # 5 data points between 10**0=1 to 10**2=100"
      ],
      "execution_count": 0,
      "outputs": [
        {
          "output_type": "execute_result",
          "data": {
            "text/plain": [
              "array([  1.        ,   3.16227766,  10.        ,  31.6227766 ,\n",
              "       100.        ])"
            ]
          },
          "metadata": {
            "tags": []
          },
          "execution_count": 36
        }
      ]
    },
    {
      "cell_type": "markdown",
      "metadata": {
        "id": "9uVofjTgp4tl",
        "colab_type": "text"
      },
      "source": [
        "### Mesh-grid arrays"
      ]
    },
    {
      "cell_type": "code",
      "metadata": {
        "id": "W1oYMLD0p4tl",
        "colab_type": "code",
        "colab": {}
      },
      "source": [
        "x = np.array([-1, 0, 1])"
      ],
      "execution_count": 0,
      "outputs": []
    },
    {
      "cell_type": "code",
      "metadata": {
        "id": "2Y43cPrSp4tm",
        "colab_type": "code",
        "colab": {}
      },
      "source": [
        "y = np.array([-2, 0, 2])"
      ],
      "execution_count": 0,
      "outputs": []
    },
    {
      "cell_type": "code",
      "metadata": {
        "id": "hJQtNrqZp4tq",
        "colab_type": "code",
        "colab": {}
      },
      "source": [
        "X, Y = np.meshgrid(x, y)"
      ],
      "execution_count": 0,
      "outputs": []
    },
    {
      "cell_type": "code",
      "metadata": {
        "id": "rS35kEXkp4tr",
        "colab_type": "code",
        "colab": {},
        "outputId": "28c73cf6-2858-4a77-a9aa-f770d83e70a4"
      },
      "source": [
        "X"
      ],
      "execution_count": 0,
      "outputs": [
        {
          "output_type": "execute_result",
          "data": {
            "text/plain": [
              "array([[-1,  0,  1],\n",
              "       [-1,  0,  1],\n",
              "       [-1,  0,  1]])"
            ]
          },
          "metadata": {
            "tags": []
          },
          "execution_count": 40
        }
      ]
    },
    {
      "cell_type": "code",
      "metadata": {
        "id": "zC00zB5np4ts",
        "colab_type": "code",
        "colab": {},
        "outputId": "be1c02bc-317b-4323-d004-05a3e55d0472"
      },
      "source": [
        "Y"
      ],
      "execution_count": 0,
      "outputs": [
        {
          "output_type": "execute_result",
          "data": {
            "text/plain": [
              "array([[-2, -2, -2],\n",
              "       [ 0,  0,  0],\n",
              "       [ 2,  2,  2]])"
            ]
          },
          "metadata": {
            "tags": []
          },
          "execution_count": 41
        }
      ]
    },
    {
      "cell_type": "markdown",
      "metadata": {
        "id": "N4_d459bp4tu",
        "colab_type": "text"
      },
      "source": [
        "### <font color = 'blue'> Exercise #3: </font> Meshgrid produces the Cartesian product of the arrays, except that the x-values and y-values are kept seperate\n",
        "\n",
        "1. Generate a meshgrid X,Y of x = a sequence of integers 1...5 and y of -1,0,1\n",
        "2. How many entries will X have? Y?"
      ]
    },
    {
      "cell_type": "code",
      "metadata": {
        "id": "l2E72fQTp4tu",
        "colab_type": "code",
        "colab": {}
      },
      "source": [
        "Z = (X + Y) ** 2"
      ],
      "execution_count": 0,
      "outputs": []
    },
    {
      "cell_type": "code",
      "metadata": {
        "id": "VgBSRvlyp4tv",
        "colab_type": "code",
        "colab": {},
        "outputId": "e077be6b-cd88-4c2e-da54-b863da9e33e8"
      },
      "source": [
        "Z"
      ],
      "execution_count": 0,
      "outputs": [
        {
          "output_type": "execute_result",
          "data": {
            "text/plain": [
              "array([[9, 4, 1],\n",
              "       [1, 0, 1],\n",
              "       [1, 4, 9]], dtype=int32)"
            ]
          },
          "metadata": {
            "tags": []
          },
          "execution_count": 43
        }
      ]
    },
    {
      "cell_type": "code",
      "metadata": {
        "id": "uul9BRZeEDpM",
        "colab_type": "code",
        "colab": {}
      },
      "source": [
        "x = np.array([1, 2, 3, 4, 5])"
      ],
      "execution_count": 0,
      "outputs": []
    },
    {
      "cell_type": "code",
      "metadata": {
        "id": "TKW3Ic7GGC8x",
        "colab_type": "code",
        "colab": {}
      },
      "source": [
        "y = np.array([-1, 0, 1])"
      ],
      "execution_count": 0,
      "outputs": []
    },
    {
      "cell_type": "code",
      "metadata": {
        "id": "YAEmws7nGPbV",
        "colab_type": "code",
        "colab": {}
      },
      "source": [
        "X, Y = np.meshgrid(x, y)"
      ],
      "execution_count": 0,
      "outputs": []
    },
    {
      "cell_type": "code",
      "metadata": {
        "id": "ZzFvfDSIGSgl",
        "colab_type": "code",
        "colab": {
          "base_uri": "https://localhost:8080/",
          "height": 68
        },
        "outputId": "5ecff525-6bf9-455f-fec0-3af3a278e340"
      },
      "source": [
        "X"
      ],
      "execution_count": 88,
      "outputs": [
        {
          "output_type": "execute_result",
          "data": {
            "text/plain": [
              "array([[1, 2, 3, 4, 5],\n",
              "       [1, 2, 3, 4, 5],\n",
              "       [1, 2, 3, 4, 5]])"
            ]
          },
          "metadata": {
            "tags": []
          },
          "execution_count": 88
        }
      ]
    },
    {
      "cell_type": "code",
      "metadata": {
        "id": "VL20_C_mGTw3",
        "colab_type": "code",
        "colab": {
          "base_uri": "https://localhost:8080/",
          "height": 68
        },
        "outputId": "6ffd0920-c9ff-4796-f3ef-e86233ff6eee"
      },
      "source": [
        "Y"
      ],
      "execution_count": 89,
      "outputs": [
        {
          "output_type": "execute_result",
          "data": {
            "text/plain": [
              "array([[-1, -1, -1, -1, -1],\n",
              "       [ 0,  0,  0,  0,  0],\n",
              "       [ 1,  1,  1,  1,  1]])"
            ]
          },
          "metadata": {
            "tags": []
          },
          "execution_count": 89
        }
      ]
    },
    {
      "cell_type": "markdown",
      "metadata": {
        "id": "RitCaiTjp4tw",
        "colab_type": "text"
      },
      "source": [
        "### Creating uninitialized arrays"
      ]
    },
    {
      "cell_type": "code",
      "metadata": {
        "id": "ejn46qIxp4tw",
        "colab_type": "code",
        "colab": {},
        "outputId": "d835a24e-f87a-4a1c-eac6-9c391320aa72"
      },
      "source": [
        "np.empty(3, dtype=np.float)"
      ],
      "execution_count": 0,
      "outputs": [
        {
          "output_type": "execute_result",
          "data": {
            "text/plain": [
              "array([8.15931808e-312, 0.00000000e+000, 6.95229481e-310])"
            ]
          },
          "metadata": {
            "tags": []
          },
          "execution_count": 44
        }
      ]
    },
    {
      "cell_type": "markdown",
      "metadata": {
        "id": "7XN3nJZ3p4tx",
        "colab_type": "text"
      },
      "source": [
        "### Creating arrays with properties of other arrays"
      ]
    },
    {
      "cell_type": "code",
      "metadata": {
        "id": "QJV_NbDxp4ty",
        "colab_type": "code",
        "colab": {}
      },
      "source": [
        "def f(x):\n",
        "    y = np.ones_like(x)\n",
        "    # compute with x and y\n",
        "    return y"
      ],
      "execution_count": 0,
      "outputs": []
    },
    {
      "cell_type": "markdown",
      "metadata": {
        "id": "suj8JsoXp4t3",
        "colab_type": "text"
      },
      "source": [
        "### Creating special matrix arrays"
      ]
    },
    {
      "cell_type": "code",
      "metadata": {
        "id": "9lZxNOwkp4t3",
        "colab_type": "code",
        "colab": {},
        "outputId": "5703769e-f625-4662-cb30-0d7e57d07335"
      },
      "source": [
        "np.identity(4)"
      ],
      "execution_count": 0,
      "outputs": [
        {
          "output_type": "execute_result",
          "data": {
            "text/plain": [
              "array([[1., 0., 0., 0.],\n",
              "       [0., 1., 0., 0.],\n",
              "       [0., 0., 1., 0.],\n",
              "       [0., 0., 0., 1.]])"
            ]
          },
          "metadata": {
            "tags": []
          },
          "execution_count": 46
        }
      ]
    },
    {
      "cell_type": "code",
      "metadata": {
        "id": "lPAf_U6Zp4t4",
        "colab_type": "code",
        "colab": {},
        "outputId": "e8cdbd4d-b9b6-475d-bd00-94ec4fe8569e"
      },
      "source": [
        "np.eye(3, k=1)"
      ],
      "execution_count": 0,
      "outputs": [
        {
          "output_type": "execute_result",
          "data": {
            "text/plain": [
              "array([[0., 1., 0.],\n",
              "       [0., 0., 1.],\n",
              "       [0., 0., 0.]])"
            ]
          },
          "metadata": {
            "tags": []
          },
          "execution_count": 47
        }
      ]
    },
    {
      "cell_type": "code",
      "metadata": {
        "id": "dj7rN-5pp4t6",
        "colab_type": "code",
        "colab": {},
        "outputId": "787cf6bf-7032-41fc-af28-fdd0b447ed18"
      },
      "source": [
        "np.eye(3, k=-1)"
      ],
      "execution_count": 0,
      "outputs": [
        {
          "output_type": "execute_result",
          "data": {
            "text/plain": [
              "array([[0., 0., 0.],\n",
              "       [1., 0., 0.],\n",
              "       [0., 1., 0.]])"
            ]
          },
          "metadata": {
            "tags": []
          },
          "execution_count": 48
        }
      ]
    },
    {
      "cell_type": "code",
      "metadata": {
        "id": "xuzZCOCip4t7",
        "colab_type": "code",
        "colab": {},
        "outputId": "f0b02f07-ab55-48ad-f9c6-37108c3c63bd"
      },
      "source": [
        "np.diag(np.arange(0, 20, 5))"
      ],
      "execution_count": 0,
      "outputs": [
        {
          "output_type": "execute_result",
          "data": {
            "text/plain": [
              "array([[ 0,  0,  0,  0],\n",
              "       [ 0,  5,  0,  0],\n",
              "       [ 0,  0, 10,  0],\n",
              "       [ 0,  0,  0, 15]])"
            ]
          },
          "metadata": {
            "tags": []
          },
          "execution_count": 49
        }
      ]
    },
    {
      "cell_type": "markdown",
      "metadata": {
        "id": "LIdKh1Fop4t8",
        "colab_type": "text"
      },
      "source": [
        "## Index and slicing"
      ]
    },
    {
      "cell_type": "markdown",
      "metadata": {
        "id": "lFOlKnHGp4t9",
        "colab_type": "text"
      },
      "source": [
        "### One-dimensional arrays"
      ]
    },
    {
      "cell_type": "code",
      "metadata": {
        "id": "60yzdS9Ep4t9",
        "colab_type": "code",
        "colab": {}
      },
      "source": [
        "a = np.arange(0, 11)"
      ],
      "execution_count": 0,
      "outputs": []
    },
    {
      "cell_type": "code",
      "metadata": {
        "id": "CFypjjTzp4t-",
        "colab_type": "code",
        "colab": {},
        "outputId": "b745ae0a-c6f5-413f-c6aa-8a679fcbda91"
      },
      "source": [
        "a"
      ],
      "execution_count": 0,
      "outputs": [
        {
          "output_type": "execute_result",
          "data": {
            "text/plain": [
              "array([ 0,  1,  2,  3,  4,  5,  6,  7,  8,  9, 10])"
            ]
          },
          "metadata": {
            "tags": []
          },
          "execution_count": 51
        }
      ]
    },
    {
      "cell_type": "code",
      "metadata": {
        "id": "LQ14yiEsp4uA",
        "colab_type": "code",
        "colab": {},
        "outputId": "f311ccea-c7a0-4759-cc89-273b85443e4a"
      },
      "source": [
        "a[0]  # the first element"
      ],
      "execution_count": 0,
      "outputs": [
        {
          "output_type": "execute_result",
          "data": {
            "text/plain": [
              "0"
            ]
          },
          "metadata": {
            "tags": []
          },
          "execution_count": 52
        }
      ]
    },
    {
      "cell_type": "code",
      "metadata": {
        "id": "OGJaqmV2p4uD",
        "colab_type": "code",
        "colab": {},
        "outputId": "9f9cf0aa-6792-4f56-ce7f-4814132eadaa"
      },
      "source": [
        "a[-1] # the last element"
      ],
      "execution_count": 0,
      "outputs": [
        {
          "output_type": "execute_result",
          "data": {
            "text/plain": [
              "10"
            ]
          },
          "metadata": {
            "tags": []
          },
          "execution_count": 53
        }
      ]
    },
    {
      "cell_type": "code",
      "metadata": {
        "id": "Ipkj9KE_p4uE",
        "colab_type": "code",
        "colab": {},
        "outputId": "348868aa-dc05-407e-b751-387912a5583a"
      },
      "source": [
        "a[4]  # the fifth element, at index 4"
      ],
      "execution_count": 0,
      "outputs": [
        {
          "output_type": "execute_result",
          "data": {
            "text/plain": [
              "4"
            ]
          },
          "metadata": {
            "tags": []
          },
          "execution_count": 54
        }
      ]
    },
    {
      "cell_type": "code",
      "metadata": {
        "id": "YHt2wpucp4uF",
        "colab_type": "code",
        "colab": {},
        "outputId": "96ffe9e0-fcfa-4a2a-fe5a-aa3284e10b4f"
      },
      "source": [
        "a[1:-1]"
      ],
      "execution_count": 0,
      "outputs": [
        {
          "output_type": "execute_result",
          "data": {
            "text/plain": [
              "array([1, 2, 3, 4, 5, 6, 7, 8, 9])"
            ]
          },
          "metadata": {
            "tags": []
          },
          "execution_count": 55
        }
      ]
    },
    {
      "cell_type": "code",
      "metadata": {
        "id": "LtoMLX9sp4uI",
        "colab_type": "code",
        "colab": {},
        "outputId": "7ab31eb6-3c1a-49c9-82a7-cef7e54e6e95"
      },
      "source": [
        "a[1:-1:2]"
      ],
      "execution_count": 0,
      "outputs": [
        {
          "output_type": "execute_result",
          "data": {
            "text/plain": [
              "array([1, 3, 5, 7, 9])"
            ]
          },
          "metadata": {
            "tags": []
          },
          "execution_count": 56
        }
      ]
    },
    {
      "cell_type": "code",
      "metadata": {
        "id": "0Fo0jraYp4uJ",
        "colab_type": "code",
        "colab": {},
        "outputId": "4cda3624-5418-4d53-eb5a-70cb61f93306"
      },
      "source": [
        "a[:5]"
      ],
      "execution_count": 0,
      "outputs": [
        {
          "output_type": "execute_result",
          "data": {
            "text/plain": [
              "array([0, 1, 2, 3, 4])"
            ]
          },
          "metadata": {
            "tags": []
          },
          "execution_count": 57
        }
      ]
    },
    {
      "cell_type": "code",
      "metadata": {
        "id": "xaqHdf0Sp4uK",
        "colab_type": "code",
        "colab": {},
        "outputId": "930b3ea9-088f-4435-b433-1badbcb7f8f4"
      },
      "source": [
        "a[-5:]"
      ],
      "execution_count": 0,
      "outputs": [
        {
          "output_type": "execute_result",
          "data": {
            "text/plain": [
              "array([ 6,  7,  8,  9, 10])"
            ]
          },
          "metadata": {
            "tags": []
          },
          "execution_count": 58
        }
      ]
    },
    {
      "cell_type": "code",
      "metadata": {
        "id": "rbgMRfBCp4uR",
        "colab_type": "code",
        "colab": {},
        "outputId": "24adb66c-889b-4241-aeb8-ca8499ee851f"
      },
      "source": [
        "a[::-2]\n"
      ],
      "execution_count": 0,
      "outputs": [
        {
          "output_type": "execute_result",
          "data": {
            "text/plain": [
              "array([10,  8,  6,  4,  2,  0])"
            ]
          },
          "metadata": {
            "tags": []
          },
          "execution_count": 59
        }
      ]
    },
    {
      "cell_type": "markdown",
      "metadata": {
        "id": "NGl2haOCp4uS",
        "colab_type": "text"
      },
      "source": [
        "## Multidimensional arrays"
      ]
    },
    {
      "cell_type": "code",
      "metadata": {
        "id": "ZdZZjk28p4uS",
        "colab_type": "code",
        "colab": {},
        "outputId": "11cf2a82-7595-4cd0-a3ce-2469cddefbac"
      },
      "source": [
        "#The f is special function that takes two arguments m and n\n",
        "f = lambda m, n: n + 10 * m\n",
        "#The function is called with m=6, n = 6 to create a matrix (2-dim array)\n",
        "A = np.fromfunction(f, (6, 6), dtype=int)\n",
        "#prints it our\n",
        "A"
      ],
      "execution_count": 0,
      "outputs": [
        {
          "output_type": "execute_result",
          "data": {
            "text/plain": [
              "array([[ 0,  1,  2,  3,  4,  5],\n",
              "       [10, 11, 12, 13, 14, 15],\n",
              "       [20, 21, 22, 23, 24, 25],\n",
              "       [30, 31, 32, 33, 34, 35],\n",
              "       [40, 41, 42, 43, 44, 45],\n",
              "       [50, 51, 52, 53, 54, 55]])"
            ]
          },
          "metadata": {
            "tags": []
          },
          "execution_count": 64
        }
      ]
    },
    {
      "cell_type": "code",
      "metadata": {
        "id": "DIj23n6tp4uU",
        "colab_type": "code",
        "colab": {},
        "outputId": "8d8bb659-55fb-46f5-b6be-504f6fc44c76"
      },
      "source": [
        "A[:, 1]  # the second column"
      ],
      "execution_count": 0,
      "outputs": [
        {
          "output_type": "execute_result",
          "data": {
            "text/plain": [
              "array([ 1, 11, 21, 31, 41, 51])"
            ]
          },
          "metadata": {
            "tags": []
          },
          "execution_count": 65
        }
      ]
    },
    {
      "cell_type": "code",
      "metadata": {
        "id": "4gKuNCJbp4uW",
        "colab_type": "code",
        "colab": {},
        "outputId": "019edd19-3dee-4120-aa8a-d2a3c74cefc3"
      },
      "source": [
        "A[1, :]  # the second row"
      ],
      "execution_count": 0,
      "outputs": [
        {
          "output_type": "execute_result",
          "data": {
            "text/plain": [
              "array([10, 11, 12, 13, 14, 15])"
            ]
          },
          "metadata": {
            "tags": []
          },
          "execution_count": 66
        }
      ]
    },
    {
      "cell_type": "code",
      "metadata": {
        "id": "FYukXpbjp4uW",
        "colab_type": "code",
        "colab": {},
        "outputId": "c15180e4-cc6b-4a07-9159-915e1118f8c3"
      },
      "source": [
        "A[:3, :3]  # upper half diagonal block matrix"
      ],
      "execution_count": 0,
      "outputs": [
        {
          "output_type": "execute_result",
          "data": {
            "text/plain": [
              "array([[ 0,  1,  2],\n",
              "       [10, 11, 12],\n",
              "       [20, 21, 22]])"
            ]
          },
          "metadata": {
            "tags": []
          },
          "execution_count": 67
        }
      ]
    },
    {
      "cell_type": "code",
      "metadata": {
        "id": "AKk9Fpehp4uX",
        "colab_type": "code",
        "colab": {},
        "outputId": "f51c5d31-cd52-4567-c1c9-19366198c242"
      },
      "source": [
        "A[3:, :3]  # lower left off-diagonal block matrix"
      ],
      "execution_count": 0,
      "outputs": [
        {
          "output_type": "execute_result",
          "data": {
            "text/plain": [
              "array([[30, 31, 32],\n",
              "       [40, 41, 42],\n",
              "       [50, 51, 52]])"
            ]
          },
          "metadata": {
            "tags": []
          },
          "execution_count": 68
        }
      ]
    },
    {
      "cell_type": "code",
      "metadata": {
        "id": "kiBeJgkXp4uY",
        "colab_type": "code",
        "colab": {},
        "outputId": "f6c15392-2851-410e-d404-03bbfac8f37c"
      },
      "source": [
        "A[::2, ::2]  # every second element starting from 0, 0"
      ],
      "execution_count": 0,
      "outputs": [
        {
          "output_type": "execute_result",
          "data": {
            "text/plain": [
              "array([[ 0,  2,  4],\n",
              "       [20, 22, 24],\n",
              "       [40, 42, 44]])"
            ]
          },
          "metadata": {
            "tags": []
          },
          "execution_count": 69
        }
      ]
    },
    {
      "cell_type": "code",
      "metadata": {
        "id": "E6CKrCx6p4ua",
        "colab_type": "code",
        "colab": {},
        "outputId": "b0f39613-83cd-4aea-e4f6-aaf365f9c8f3"
      },
      "source": [
        "A[1::2, 1::3]  # every second element starting from 1, 1"
      ],
      "execution_count": 0,
      "outputs": [
        {
          "output_type": "execute_result",
          "data": {
            "text/plain": [
              "array([[11, 14],\n",
              "       [31, 34],\n",
              "       [51, 54]])"
            ]
          },
          "metadata": {
            "tags": []
          },
          "execution_count": 70
        }
      ]
    },
    {
      "cell_type": "markdown",
      "metadata": {
        "id": "fPTxiLXrp4uc",
        "colab_type": "text"
      },
      "source": [
        "### Views"
      ]
    },
    {
      "cell_type": "code",
      "metadata": {
        "id": "HvtwIuAmp4uc",
        "colab_type": "code",
        "colab": {}
      },
      "source": [
        "B = A[1:5, 1:5]"
      ],
      "execution_count": 0,
      "outputs": []
    },
    {
      "cell_type": "code",
      "metadata": {
        "id": "IS9c7nfFp4ud",
        "colab_type": "code",
        "colab": {},
        "outputId": "7eed6ff1-86d0-40a2-e65f-51b5b6054f30"
      },
      "source": [
        "B"
      ],
      "execution_count": 0,
      "outputs": [
        {
          "output_type": "execute_result",
          "data": {
            "text/plain": [
              "array([[11, 12, 13, 14],\n",
              "       [21, 22, 23, 24],\n",
              "       [31, 32, 33, 34],\n",
              "       [41, 42, 43, 44]])"
            ]
          },
          "metadata": {
            "tags": []
          },
          "execution_count": 72
        }
      ]
    },
    {
      "cell_type": "code",
      "metadata": {
        "id": "jIHXuqXtp4uf",
        "colab_type": "code",
        "colab": {}
      },
      "source": [
        "#Be extremely careful here: we are not setting B to zeros, but also changing A[1:5, 1:5] also to zeros!!!\n",
        "B[:, :] = 0"
      ],
      "execution_count": 0,
      "outputs": []
    },
    {
      "cell_type": "code",
      "metadata": {
        "id": "H4VjOJ1np4ug",
        "colab_type": "code",
        "colab": {},
        "outputId": "0207b9d5-ab3a-4587-e244-b34b806e1864"
      },
      "source": [
        "#As expected\n",
        "B"
      ],
      "execution_count": 0,
      "outputs": [
        {
          "output_type": "execute_result",
          "data": {
            "text/plain": [
              "array([[0, 0, 0, 0],\n",
              "       [0, 0, 0, 0],\n",
              "       [0, 0, 0, 0],\n",
              "       [0, 0, 0, 0]])"
            ]
          },
          "metadata": {
            "tags": []
          },
          "execution_count": 76
        }
      ]
    },
    {
      "cell_type": "code",
      "metadata": {
        "id": "5Bnld_6Fp4ui",
        "colab_type": "code",
        "colab": {},
        "outputId": "689762f8-20a9-4c0b-ca47-ffaf4640ee56"
      },
      "source": [
        "#But is this expected?\n",
        "A"
      ],
      "execution_count": 0,
      "outputs": [
        {
          "output_type": "execute_result",
          "data": {
            "text/plain": [
              "array([[ 0,  1,  2,  3,  4,  5],\n",
              "       [10,  0,  0,  0,  0, 15],\n",
              "       [20,  0,  0,  0,  0, 25],\n",
              "       [30,  0,  0,  0,  0, 35],\n",
              "       [40,  0,  0,  0,  0, 45],\n",
              "       [50, 51, 52, 53, 54, 55]])"
            ]
          },
          "metadata": {
            "tags": []
          },
          "execution_count": 77
        }
      ]
    },
    {
      "cell_type": "code",
      "metadata": {
        "id": "5ohrTgAKp4uk",
        "colab_type": "code",
        "colab": {}
      },
      "source": [
        "#If we don't want to change the original matrix use .copy() function of the array object\n",
        "C = B[1:3, 1:3].copy()"
      ],
      "execution_count": 0,
      "outputs": []
    },
    {
      "cell_type": "code",
      "metadata": {
        "id": "Rb9PWiPtp4uo",
        "colab_type": "code",
        "colab": {},
        "outputId": "422aeff5-e2e3-4c21-b360-a616e0ec932d"
      },
      "source": [
        "C"
      ],
      "execution_count": 0,
      "outputs": [
        {
          "output_type": "execute_result",
          "data": {
            "text/plain": [
              "array([[0, 0],\n",
              "       [0, 0]])"
            ]
          },
          "metadata": {
            "tags": []
          },
          "execution_count": 79
        }
      ]
    },
    {
      "cell_type": "code",
      "metadata": {
        "id": "9L-HidFMp4up",
        "colab_type": "code",
        "colab": {}
      },
      "source": [
        "C[:, :] = 1  # this does not affect B since C is a copy of the view B[1:3, 1:3]"
      ],
      "execution_count": 0,
      "outputs": []
    },
    {
      "cell_type": "code",
      "metadata": {
        "id": "b2znni74p4us",
        "colab_type": "code",
        "colab": {},
        "outputId": "61f062b7-cc8a-47cf-8d81-2958a952f965"
      },
      "source": [
        "C"
      ],
      "execution_count": 0,
      "outputs": [
        {
          "output_type": "execute_result",
          "data": {
            "text/plain": [
              "array([[1, 1],\n",
              "       [1, 1]])"
            ]
          },
          "metadata": {
            "tags": []
          },
          "execution_count": 81
        }
      ]
    },
    {
      "cell_type": "code",
      "metadata": {
        "id": "9VRmupF3p4uu",
        "colab_type": "code",
        "colab": {},
        "outputId": "4c9c17ad-d9f2-4522-8885-f383a8c99e7b"
      },
      "source": [
        "#Chaing C contents does not affect B!\n",
        "B"
      ],
      "execution_count": 0,
      "outputs": [
        {
          "output_type": "execute_result",
          "data": {
            "text/plain": [
              "array([[0, 0, 0, 0],\n",
              "       [0, 0, 0, 0],\n",
              "       [0, 0, 0, 0],\n",
              "       [0, 0, 0, 0]])"
            ]
          },
          "metadata": {
            "tags": []
          },
          "execution_count": 83
        }
      ]
    },
    {
      "cell_type": "markdown",
      "metadata": {
        "id": "hGjuo-knp4ux",
        "colab_type": "text"
      },
      "source": [
        "### <font color = 'blue'> Exercise #4 </font>:\n",
        "1. Create an 2-dimensional numpy array of type int16\n",
        "2. Add it to another of same dimensions but of type float64\n",
        "3. Guess what type the entries of the sum array would be, and check your guess by carrying out the addition."
      ]
    },
    {
      "cell_type": "code",
      "metadata": {
        "id": "vg_pqSsIGf8t",
        "colab_type": "code",
        "colab": {
          "base_uri": "https://localhost:8080/",
          "height": 68
        },
        "outputId": "d1dc4307-a8aa-4dd8-b4ad-1660b4320a2f"
      },
      "source": [
        "np.array([[1, 2],[2, 2],[3, 2]], dtype=np.int16)"
      ],
      "execution_count": 94,
      "outputs": [
        {
          "output_type": "execute_result",
          "data": {
            "text/plain": [
              "array([[1, 2],\n",
              "       [2, 2],\n",
              "       [3, 2]], dtype=int16)"
            ]
          },
          "metadata": {
            "tags": []
          },
          "execution_count": 94
        }
      ]
    },
    {
      "cell_type": "code",
      "metadata": {
        "id": "DiY-v2vHG1Wf",
        "colab_type": "code",
        "colab": {
          "base_uri": "https://localhost:8080/",
          "height": 68
        },
        "outputId": "3ad010b6-1814-4e62-d359-0c94c6870509"
      },
      "source": [
        "np.array([[1, 2],[2, 2],[3, 2]], dtype=np.float64)"
      ],
      "execution_count": 95,
      "outputs": [
        {
          "output_type": "execute_result",
          "data": {
            "text/plain": [
              "array([[1., 2.],\n",
              "       [2., 2.],\n",
              "       [3., 2.]])"
            ]
          },
          "metadata": {
            "tags": []
          },
          "execution_count": 95
        }
      ]
    },
    {
      "cell_type": "markdown",
      "metadata": {
        "id": "b4LyfsCrp4ux",
        "colab_type": "text"
      },
      "source": [
        "### Fancy indexing and Boolean-valued indexing"
      ]
    },
    {
      "cell_type": "code",
      "metadata": {
        "id": "S3hZlqZWp4ux",
        "colab_type": "code",
        "colab": {}
      },
      "source": [
        "A = np.linspace(0, 1, 11)"
      ],
      "execution_count": 0,
      "outputs": []
    },
    {
      "cell_type": "code",
      "metadata": {
        "id": "EQ8SYRv_p4uy",
        "colab_type": "code",
        "colab": {},
        "outputId": "7461f25a-fb5d-4115-d5ff-babef35ec05e"
      },
      "source": [
        "A[np.array([0, 2, 4])]"
      ],
      "execution_count": 0,
      "outputs": [
        {
          "output_type": "execute_result",
          "data": {
            "text/plain": [
              "array([ 0. ,  0.2,  0.4])"
            ]
          },
          "metadata": {
            "tags": []
          },
          "execution_count": 96
        }
      ]
    },
    {
      "cell_type": "code",
      "metadata": {
        "id": "xjE6MsS6p4uz",
        "colab_type": "code",
        "colab": {},
        "outputId": "dbbe042b-267d-4dfc-9ae7-05d968e658a9"
      },
      "source": [
        "A[[0, 2, 4]]"
      ],
      "execution_count": 0,
      "outputs": [
        {
          "output_type": "execute_result",
          "data": {
            "text/plain": [
              "array([ 0. ,  0.2,  0.4])"
            ]
          },
          "metadata": {
            "tags": []
          },
          "execution_count": 97
        }
      ]
    },
    {
      "cell_type": "code",
      "metadata": {
        "id": "0fxERP4Zp4u0",
        "colab_type": "code",
        "colab": {},
        "outputId": "b06e709a-0001-48f8-e9b6-238c671d93c6"
      },
      "source": [
        "A > 0.5 "
      ],
      "execution_count": 0,
      "outputs": [
        {
          "output_type": "execute_result",
          "data": {
            "text/plain": [
              "array([False, False, False, False, False, False,  True,  True,  True,\n",
              "        True,  True], dtype=bool)"
            ]
          },
          "metadata": {
            "tags": []
          },
          "execution_count": 98
        }
      ]
    },
    {
      "cell_type": "code",
      "metadata": {
        "id": "ODTQwiuAp4u1",
        "colab_type": "code",
        "colab": {},
        "outputId": "5aed51de-915b-44c2-84ca-76fd293784fe"
      },
      "source": [
        "A[A > 0.5]"
      ],
      "execution_count": 0,
      "outputs": [
        {
          "output_type": "execute_result",
          "data": {
            "text/plain": [
              "array([ 0.6,  0.7,  0.8,  0.9,  1. ])"
            ]
          },
          "metadata": {
            "tags": []
          },
          "execution_count": 99
        }
      ]
    },
    {
      "cell_type": "code",
      "metadata": {
        "id": "gTeN0SRWp4u3",
        "colab_type": "code",
        "colab": {}
      },
      "source": [
        "A = np.arange(10)"
      ],
      "execution_count": 0,
      "outputs": []
    },
    {
      "cell_type": "code",
      "metadata": {
        "id": "yOktrA3Bp4u4",
        "colab_type": "code",
        "colab": {},
        "outputId": "67e50a70-9244-4146-b25e-4eff61178943"
      },
      "source": [
        "A"
      ],
      "execution_count": 0,
      "outputs": [
        {
          "output_type": "execute_result",
          "data": {
            "text/plain": [
              "array([0, 1, 2, 3, 4, 5, 6, 7, 8, 9])"
            ]
          },
          "metadata": {
            "tags": []
          },
          "execution_count": 101
        }
      ]
    },
    {
      "cell_type": "code",
      "metadata": {
        "id": "72CjwuYTp4u5",
        "colab_type": "code",
        "colab": {}
      },
      "source": [
        "indices = [2, 4, 6]"
      ],
      "execution_count": 0,
      "outputs": []
    },
    {
      "cell_type": "code",
      "metadata": {
        "id": "6IuxT-RBp4u5",
        "colab_type": "code",
        "colab": {}
      },
      "source": [
        "B = A[indices]"
      ],
      "execution_count": 0,
      "outputs": []
    },
    {
      "cell_type": "code",
      "metadata": {
        "id": "RmWgbC5Hp4u8",
        "colab_type": "code",
        "colab": {}
      },
      "source": [
        "B[0] = -1  # this does not affect A"
      ],
      "execution_count": 0,
      "outputs": []
    },
    {
      "cell_type": "code",
      "metadata": {
        "id": "kptDDAIXp4vA",
        "colab_type": "code",
        "colab": {},
        "outputId": "07bfbeed-9466-4ec0-a348-be8dad0a2764"
      },
      "source": [
        "A"
      ],
      "execution_count": 0,
      "outputs": [
        {
          "output_type": "execute_result",
          "data": {
            "text/plain": [
              "array([0, 1, 2, 3, 4, 5, 6, 7, 8, 9])"
            ]
          },
          "metadata": {
            "tags": []
          },
          "execution_count": 105
        }
      ]
    },
    {
      "cell_type": "code",
      "metadata": {
        "id": "gdSAn744p4vB",
        "colab_type": "code",
        "colab": {}
      },
      "source": [
        "A[indices] = -1"
      ],
      "execution_count": 0,
      "outputs": []
    },
    {
      "cell_type": "code",
      "metadata": {
        "id": "xLyrMJrRp4vC",
        "colab_type": "code",
        "colab": {},
        "outputId": "a9d0db24-64ba-4c91-baeb-258633ea225f"
      },
      "source": [
        "A"
      ],
      "execution_count": 0,
      "outputs": [
        {
          "output_type": "execute_result",
          "data": {
            "text/plain": [
              "array([ 0,  1, -1,  3, -1,  5, -1,  7,  8,  9])"
            ]
          },
          "metadata": {
            "tags": []
          },
          "execution_count": 107
        }
      ]
    },
    {
      "cell_type": "code",
      "metadata": {
        "id": "tJTZmRrgp4vD",
        "colab_type": "code",
        "colab": {}
      },
      "source": [
        "A = np.arange(10)"
      ],
      "execution_count": 0,
      "outputs": []
    },
    {
      "cell_type": "code",
      "metadata": {
        "id": "XAhcOghop4vE",
        "colab_type": "code",
        "colab": {}
      },
      "source": [
        "B = A[A > 5]"
      ],
      "execution_count": 0,
      "outputs": []
    },
    {
      "cell_type": "code",
      "metadata": {
        "id": "vIjlbCkcp4vF",
        "colab_type": "code",
        "colab": {}
      },
      "source": [
        "B[0] = -1  # this does not affect A"
      ],
      "execution_count": 0,
      "outputs": []
    },
    {
      "cell_type": "code",
      "metadata": {
        "id": "hoxt1V3Kp4vG",
        "colab_type": "code",
        "colab": {},
        "outputId": "97ab5a06-b1b9-4164-abc2-b37f30a8b791"
      },
      "source": [
        "A"
      ],
      "execution_count": 0,
      "outputs": [
        {
          "output_type": "execute_result",
          "data": {
            "text/plain": [
              "array([0, 1, 2, 3, 4, 5, 6, 7, 8, 9])"
            ]
          },
          "metadata": {
            "tags": []
          },
          "execution_count": 111
        }
      ]
    },
    {
      "cell_type": "code",
      "metadata": {
        "id": "MJK6pJO6p4vH",
        "colab_type": "code",
        "colab": {}
      },
      "source": [
        "A[A > 5] = -1"
      ],
      "execution_count": 0,
      "outputs": []
    },
    {
      "cell_type": "code",
      "metadata": {
        "id": "wHOE5SoXp4vH",
        "colab_type": "code",
        "colab": {},
        "outputId": "1c7bc3c6-d6ed-4ed8-894d-e611af3f825d"
      },
      "source": [
        "A"
      ],
      "execution_count": 0,
      "outputs": [
        {
          "output_type": "execute_result",
          "data": {
            "text/plain": [
              "array([ 0,  1,  2,  3,  4,  5, -1, -1, -1, -1])"
            ]
          },
          "metadata": {
            "tags": []
          },
          "execution_count": 113
        }
      ]
    },
    {
      "cell_type": "markdown",
      "metadata": {
        "id": "oet0zwryp4vI",
        "colab_type": "text"
      },
      "source": [
        "## Reshaping and resizing"
      ]
    },
    {
      "cell_type": "code",
      "metadata": {
        "id": "Tokw7EMUp4vI",
        "colab_type": "code",
        "colab": {}
      },
      "source": [
        "data = np.array([[1, 2], [3, 4]])"
      ],
      "execution_count": 0,
      "outputs": []
    },
    {
      "cell_type": "code",
      "metadata": {
        "id": "Wo_Vrer-p4vJ",
        "colab_type": "code",
        "colab": {},
        "outputId": "b6bfdd57-ed5a-4edf-8804-5e20f9c18958"
      },
      "source": [
        "np.reshape(data, (1, 4))"
      ],
      "execution_count": 0,
      "outputs": [
        {
          "output_type": "execute_result",
          "data": {
            "text/plain": [
              "array([[1, 2, 3, 4]])"
            ]
          },
          "metadata": {
            "tags": []
          },
          "execution_count": 115
        }
      ]
    },
    {
      "cell_type": "code",
      "metadata": {
        "id": "PXycHLCTp4vK",
        "colab_type": "code",
        "colab": {},
        "outputId": "6c85df1a-6bc7-4297-c7b7-501a79a22ade"
      },
      "source": [
        "data.reshape(4)"
      ],
      "execution_count": 0,
      "outputs": [
        {
          "output_type": "execute_result",
          "data": {
            "text/plain": [
              "array([1, 2, 3, 4])"
            ]
          },
          "metadata": {
            "tags": []
          },
          "execution_count": 116
        }
      ]
    },
    {
      "cell_type": "code",
      "metadata": {
        "id": "64oBViWNp4vL",
        "colab_type": "code",
        "colab": {}
      },
      "source": [
        "data = np.array([[1, 2], [3, 4]])"
      ],
      "execution_count": 0,
      "outputs": []
    },
    {
      "cell_type": "code",
      "metadata": {
        "id": "gdS2TAj2p4vM",
        "colab_type": "code",
        "colab": {},
        "outputId": "d34dd3c3-32cf-440f-c76d-5a06bc5ba40d"
      },
      "source": [
        "data"
      ],
      "execution_count": 0,
      "outputs": [
        {
          "output_type": "execute_result",
          "data": {
            "text/plain": [
              "array([[1, 2],\n",
              "       [3, 4]])"
            ]
          },
          "metadata": {
            "tags": []
          },
          "execution_count": 118
        }
      ]
    },
    {
      "cell_type": "code",
      "metadata": {
        "id": "4mRVV0aZp4vN",
        "colab_type": "code",
        "colab": {
          "base_uri": "https://localhost:8080/",
          "height": 34
        },
        "outputId": "00e80046-7eaa-4494-822c-bf17d5460482"
      },
      "source": [
        "data.flatten()"
      ],
      "execution_count": 109,
      "outputs": [
        {
          "output_type": "execute_result",
          "data": {
            "text/plain": [
              "array([1., 2., 2., 2., 3., 2.], dtype=float32)"
            ]
          },
          "metadata": {
            "tags": []
          },
          "execution_count": 109
        }
      ]
    },
    {
      "cell_type": "code",
      "metadata": {
        "id": "osVlsgqyp4vO",
        "colab_type": "code",
        "colab": {},
        "outputId": "882af1d8-dc31-4491-e952-552fb55cce24"
      },
      "source": [
        "data.flatten().shape"
      ],
      "execution_count": 0,
      "outputs": [
        {
          "output_type": "execute_result",
          "data": {
            "text/plain": [
              "(4,)"
            ]
          },
          "metadata": {
            "tags": []
          },
          "execution_count": 120
        }
      ]
    },
    {
      "cell_type": "code",
      "metadata": {
        "id": "bS3FQPlFp4vP",
        "colab_type": "code",
        "colab": {}
      },
      "source": [
        "data = np.arange(0, 5)"
      ],
      "execution_count": 0,
      "outputs": []
    },
    {
      "cell_type": "code",
      "metadata": {
        "id": "4tR3RJZHp4vP",
        "colab_type": "code",
        "colab": {}
      },
      "source": [
        "column = data[:, np.newaxis]"
      ],
      "execution_count": 0,
      "outputs": []
    },
    {
      "cell_type": "code",
      "metadata": {
        "id": "sDCBwSs5p4vQ",
        "colab_type": "code",
        "colab": {},
        "outputId": "8cf2a030-1280-4a83-e224-4325aa94b030"
      },
      "source": [
        "column"
      ],
      "execution_count": 0,
      "outputs": [
        {
          "output_type": "execute_result",
          "data": {
            "text/plain": [
              "array([[0],\n",
              "       [1],\n",
              "       [2],\n",
              "       [3],\n",
              "       [4]])"
            ]
          },
          "metadata": {
            "tags": []
          },
          "execution_count": 123
        }
      ]
    },
    {
      "cell_type": "code",
      "metadata": {
        "id": "-1ihB86cp4vR",
        "colab_type": "code",
        "colab": {}
      },
      "source": [
        "row = data[np.newaxis, :]"
      ],
      "execution_count": 0,
      "outputs": []
    },
    {
      "cell_type": "code",
      "metadata": {
        "id": "LtFvDFLYp4vS",
        "colab_type": "code",
        "colab": {},
        "outputId": "edcf21b2-b00f-4784-e85f-a31e46d749a4"
      },
      "source": [
        "row"
      ],
      "execution_count": 0,
      "outputs": [
        {
          "output_type": "execute_result",
          "data": {
            "text/plain": [
              "array([[0, 1, 2, 3, 4]])"
            ]
          },
          "metadata": {
            "tags": []
          },
          "execution_count": 125
        }
      ]
    },
    {
      "cell_type": "code",
      "metadata": {
        "id": "xyBrN1sjp4vV",
        "colab_type": "code",
        "colab": {}
      },
      "source": [
        "data = np.arange(5)"
      ],
      "execution_count": 0,
      "outputs": []
    },
    {
      "cell_type": "code",
      "metadata": {
        "id": "Es8bqBX9p4vY",
        "colab_type": "code",
        "colab": {},
        "outputId": "8e5ce1c1-4353-4a89-f827-43c43d2e2cb4"
      },
      "source": [
        "data"
      ],
      "execution_count": 0,
      "outputs": [
        {
          "output_type": "execute_result",
          "data": {
            "text/plain": [
              "array([0, 1, 2, 3, 4])"
            ]
          },
          "metadata": {
            "tags": []
          },
          "execution_count": 127
        }
      ]
    },
    {
      "cell_type": "code",
      "metadata": {
        "id": "vyc9JuvCp4vZ",
        "colab_type": "code",
        "colab": {},
        "outputId": "709fccfb-89bb-4f84-f689-5581d8acc4ab"
      },
      "source": [
        "data = np.arange(9)\n",
        "data"
      ],
      "execution_count": 0,
      "outputs": [
        {
          "output_type": "execute_result",
          "data": {
            "text/plain": [
              "array([0, 1, 2, 3, 4, 5, 6, 7, 8])"
            ]
          },
          "metadata": {
            "tags": []
          },
          "execution_count": 4
        }
      ]
    },
    {
      "cell_type": "code",
      "metadata": {
        "id": "BZ3_k9oFp4vZ",
        "colab_type": "code",
        "colab": {},
        "outputId": "75c929cf-fc0b-4b1e-e8bf-91796015981f"
      },
      "source": [
        "data.reshape(3, 3)"
      ],
      "execution_count": 0,
      "outputs": [
        {
          "output_type": "execute_result",
          "data": {
            "text/plain": [
              "array([[0, 1, 2],\n",
              "       [3, 4, 5],\n",
              "       [6, 7, 8]])"
            ]
          },
          "metadata": {
            "tags": []
          },
          "execution_count": 6
        }
      ]
    },
    {
      "cell_type": "code",
      "metadata": {
        "id": "cxyGj0fSp4vc",
        "colab_type": "code",
        "colab": {},
        "outputId": "5a4d81e9-d30d-4040-e67b-c98fdd30ca6a"
      },
      "source": [
        "np.transpose(data)"
      ],
      "execution_count": 0,
      "outputs": [
        {
          "output_type": "execute_result",
          "data": {
            "text/plain": [
              "array([[0, 3, 6],\n",
              "       [1, 4, 7],\n",
              "       [2, 5, 8]])"
            ]
          },
          "metadata": {
            "tags": []
          },
          "execution_count": 222
        }
      ]
    },
    {
      "cell_type": "code",
      "metadata": {
        "id": "PYRq6hLUp4vd",
        "colab_type": "code",
        "colab": {}
      },
      "source": [
        "data = np.random.randn(4, 3)"
      ],
      "execution_count": 0,
      "outputs": []
    },
    {
      "cell_type": "code",
      "metadata": {
        "id": "uUKNoZ4bp4vf",
        "colab_type": "code",
        "colab": {},
        "outputId": "9be45289-6483-4473-c8c3-34198af1d411"
      },
      "source": [
        "data.shape"
      ],
      "execution_count": 0,
      "outputs": [
        {
          "output_type": "execute_result",
          "data": {
            "text/plain": [
              "(4, 3)"
            ]
          },
          "metadata": {
            "tags": []
          },
          "execution_count": 19
        }
      ]
    },
    {
      "cell_type": "code",
      "metadata": {
        "id": "hPUO90FDp4vg",
        "colab_type": "code",
        "colab": {},
        "outputId": "377452b4-beca-475d-b1d9-68e2c7df0e83"
      },
      "source": [
        "data.T.shape"
      ],
      "execution_count": 0,
      "outputs": [
        {
          "output_type": "execute_result",
          "data": {
            "text/plain": [
              "(3, 4)"
            ]
          },
          "metadata": {
            "tags": []
          },
          "execution_count": 20
        }
      ]
    },
    {
      "cell_type": "code",
      "metadata": {
        "id": "7wy2MJyop4vh",
        "colab_type": "code",
        "colab": {},
        "outputId": "643d1448-7d3b-42e2-ea16-09b116ae85c4"
      },
      "source": [
        "np.vstack((data, data, data)).shape"
      ],
      "execution_count": 0,
      "outputs": [
        {
          "output_type": "execute_result",
          "data": {
            "text/plain": [
              "(12, 3)"
            ]
          },
          "metadata": {
            "tags": []
          },
          "execution_count": 21
        }
      ]
    },
    {
      "cell_type": "code",
      "metadata": {
        "id": "PXYOhhGxp4vi",
        "colab_type": "code",
        "colab": {}
      },
      "source": [
        "data = np.arange(5)"
      ],
      "execution_count": 0,
      "outputs": []
    },
    {
      "cell_type": "code",
      "metadata": {
        "id": "x9pvetpJp4vj",
        "colab_type": "code",
        "colab": {},
        "outputId": "53c62616-dedc-45aa-cef2-45d8d4a0f107"
      },
      "source": [
        "data"
      ],
      "execution_count": 0,
      "outputs": [
        {
          "output_type": "execute_result",
          "data": {
            "text/plain": [
              "array([0, 1, 2, 3, 4])"
            ]
          },
          "metadata": {
            "tags": []
          },
          "execution_count": 130
        }
      ]
    },
    {
      "cell_type": "code",
      "metadata": {
        "id": "SUfUBJ3vp4vk",
        "colab_type": "code",
        "colab": {},
        "outputId": "c98dbedf-d542-4155-b7a6-31e82614227d"
      },
      "source": [
        "np.hstack((data, data, data))"
      ],
      "execution_count": 0,
      "outputs": [
        {
          "output_type": "execute_result",
          "data": {
            "text/plain": [
              "array([0, 1, 2, 3, 4, 0, 1, 2, 3, 4, 0, 1, 2, 3, 4])"
            ]
          },
          "metadata": {
            "tags": []
          },
          "execution_count": 131
        }
      ]
    },
    {
      "cell_type": "code",
      "metadata": {
        "id": "2NzQ605ap4vk",
        "colab_type": "code",
        "colab": {}
      },
      "source": [
        "data = data[:, np.newaxis]"
      ],
      "execution_count": 0,
      "outputs": []
    },
    {
      "cell_type": "code",
      "metadata": {
        "id": "VBk1A6B5p4vl",
        "colab_type": "code",
        "colab": {},
        "outputId": "ab7351e1-705a-44fe-a0a5-5f175d6aea9f"
      },
      "source": [
        "np.hstack((data, data, data))"
      ],
      "execution_count": 0,
      "outputs": [
        {
          "output_type": "execute_result",
          "data": {
            "text/plain": [
              "array([[0, 0, 0],\n",
              "       [1, 1, 1],\n",
              "       [2, 2, 2],\n",
              "       [3, 3, 3],\n",
              "       [4, 4, 4]])"
            ]
          },
          "metadata": {
            "tags": []
          },
          "execution_count": 133
        }
      ]
    },
    {
      "cell_type": "markdown",
      "metadata": {
        "id": "uCzb3zLYp4vm",
        "colab_type": "text"
      },
      "source": [
        "### <font color = 'blue'> Exercise #5 </font>\n",
        "- Create a three dimensional array of size 3 x 3 x 4 of random integers named A\n",
        "- Stack 3 copies of the A vertically and name it B.  Can you guess the dimensions of the resulting array?\n",
        "- Now stack 3 copies of the transpose of A horizontally, and name it C.  Can you guess the dimension of C? Is it same as that of B?\n",
        "- Now use the flatten() method of A, call the result A_flat.  What is the shape of A_flat?\n",
        "- Reconstruct A from A_flat using reshape() method"
      ]
    },
    {
      "cell_type": "code",
      "metadata": {
        "id": "tORPEO_WHNPU",
        "colab_type": "code",
        "colab": {}
      },
      "source": [
        "A=np.array([[0, 0, 0],\n",
        "       [1, 1, 1],\n",
        "       [2, 2, 2],\n",
        "       [3, 3, 3],\n",
        "       [4, 4, 4]])"
      ],
      "execution_count": 0,
      "outputs": []
    },
    {
      "cell_type": "code",
      "metadata": {
        "id": "oO1LdDleHb5V",
        "colab_type": "code",
        "colab": {}
      },
      "source": [
        "B=np.array([[[0, 0, 0],\n",
        "       [1, 1, 1],\n",
        "       [2, 2, 2],\n",
        "       [3, 3, 3],\n",
        "       [4, 4, 4]],\n",
        "       [[0, 0, 0],\n",
        "       [1, 1, 1],\n",
        "       [2, 2, 2],\n",
        "       [3, 3, 3],\n",
        "       [4, 4, 4]],\n",
        "       [[0, 0, 0],\n",
        "       [1, 1, 1],\n",
        "       [2, 2, 2],\n",
        "       [3, 3, 3],\n",
        "       [4, 4, 4]]])"
      ],
      "execution_count": 0,
      "outputs": []
    },
    {
      "cell_type": "code",
      "metadata": {
        "id": "LSpWRAzVH8pT",
        "colab_type": "code",
        "colab": {
          "base_uri": "https://localhost:8080/",
          "height": 34
        },
        "outputId": "1e9af5e6-0d1a-40eb-80c2-4d6a732c05c7"
      },
      "source": [
        "B.ndim"
      ],
      "execution_count": 103,
      "outputs": [
        {
          "output_type": "execute_result",
          "data": {
            "text/plain": [
              "3"
            ]
          },
          "metadata": {
            "tags": []
          },
          "execution_count": 103
        }
      ]
    },
    {
      "cell_type": "code",
      "metadata": {
        "id": "Z7kAE7wdIQcr",
        "colab_type": "code",
        "colab": {}
      },
      "source": [
        "C=np.transpose(B)"
      ],
      "execution_count": 0,
      "outputs": []
    },
    {
      "cell_type": "code",
      "metadata": {
        "id": "BZvOk_e9IYRK",
        "colab_type": "code",
        "colab": {
          "base_uri": "https://localhost:8080/",
          "height": 306
        },
        "outputId": "96dd0ff5-3650-4116-ae01-edc3dfe7c914"
      },
      "source": [
        "C"
      ],
      "execution_count": 105,
      "outputs": [
        {
          "output_type": "execute_result",
          "data": {
            "text/plain": [
              "array([[[0, 0, 0],\n",
              "        [1, 1, 1],\n",
              "        [2, 2, 2],\n",
              "        [3, 3, 3],\n",
              "        [4, 4, 4]],\n",
              "\n",
              "       [[0, 0, 0],\n",
              "        [1, 1, 1],\n",
              "        [2, 2, 2],\n",
              "        [3, 3, 3],\n",
              "        [4, 4, 4]],\n",
              "\n",
              "       [[0, 0, 0],\n",
              "        [1, 1, 1],\n",
              "        [2, 2, 2],\n",
              "        [3, 3, 3],\n",
              "        [4, 4, 4]]])"
            ]
          },
          "metadata": {
            "tags": []
          },
          "execution_count": 105
        }
      ]
    },
    {
      "cell_type": "code",
      "metadata": {
        "id": "GdFIT83vIcoJ",
        "colab_type": "code",
        "colab": {
          "base_uri": "https://localhost:8080/",
          "height": 34
        },
        "outputId": "3c55fa00-cb7d-4472-d43e-756c66f1d2af"
      },
      "source": [
        "C.ndim"
      ],
      "execution_count": 106,
      "outputs": [
        {
          "output_type": "execute_result",
          "data": {
            "text/plain": [
              "3"
            ]
          },
          "metadata": {
            "tags": []
          },
          "execution_count": 106
        }
      ]
    },
    {
      "cell_type": "code",
      "metadata": {
        "id": "-AmV7zWzIgto",
        "colab_type": "code",
        "colab": {}
      },
      "source": [
        "A_flat= A.flatten()"
      ],
      "execution_count": 0,
      "outputs": []
    },
    {
      "cell_type": "code",
      "metadata": {
        "id": "BnHnOtR1I8tn",
        "colab_type": "code",
        "colab": {
          "base_uri": "https://localhost:8080/",
          "height": 34
        },
        "outputId": "a43f169f-9968-4ab4-eb72-99bae58ec5c6"
      },
      "source": [
        "A_flat"
      ],
      "execution_count": 111,
      "outputs": [
        {
          "output_type": "execute_result",
          "data": {
            "text/plain": [
              "array([0, 0, 0, 1, 1, 1, 2, 2, 2, 3, 3, 3, 4, 4, 4])"
            ]
          },
          "metadata": {
            "tags": []
          },
          "execution_count": 111
        }
      ]
    },
    {
      "cell_type": "code",
      "metadata": {
        "id": "KPXRxKkTI-gs",
        "colab_type": "code",
        "colab": {
          "base_uri": "https://localhost:8080/",
          "height": 34
        },
        "outputId": "7f793b58-faba-412b-a27b-cf52849b20e6"
      },
      "source": [
        "A.flatten().shape"
      ],
      "execution_count": 112,
      "outputs": [
        {
          "output_type": "execute_result",
          "data": {
            "text/plain": [
              "(15,)"
            ]
          },
          "metadata": {
            "tags": []
          },
          "execution_count": 112
        }
      ]
    },
    {
      "cell_type": "markdown",
      "metadata": {
        "id": "-iIY1qcfp4vm",
        "colab_type": "text"
      },
      "source": [
        "## Vectorized expressions"
      ]
    },
    {
      "cell_type": "markdown",
      "metadata": {
        "id": "lM7aVMKcp4vm",
        "colab_type": "text"
      },
      "source": [
        "### Arithmetic operations"
      ]
    },
    {
      "cell_type": "code",
      "metadata": {
        "collapsed": true,
        "id": "EMqpDQkDp4vm",
        "colab_type": "code",
        "colab": {}
      },
      "source": [
        "x = np.array([[1, 2], [3, 4]]) "
      ],
      "execution_count": 0,
      "outputs": []
    },
    {
      "cell_type": "code",
      "metadata": {
        "collapsed": true,
        "id": "0DvzoFcap4vp",
        "colab_type": "code",
        "colab": {}
      },
      "source": [
        "y = np.array([[5, 6], [7, 8]])"
      ],
      "execution_count": 0,
      "outputs": []
    },
    {
      "cell_type": "code",
      "metadata": {
        "id": "ci29WQL8p4vq",
        "colab_type": "code",
        "colab": {},
        "outputId": "189d107c-2343-4458-f6fa-c7d4a413e860"
      },
      "source": [
        "x + y"
      ],
      "execution_count": 0,
      "outputs": [
        {
          "output_type": "execute_result",
          "data": {
            "text/plain": [
              "array([[ 6,  8],\n",
              "       [10, 12]])"
            ]
          },
          "metadata": {
            "tags": []
          },
          "execution_count": 136
        }
      ]
    },
    {
      "cell_type": "code",
      "metadata": {
        "id": "wQAjvmKHp4vq",
        "colab_type": "code",
        "colab": {},
        "outputId": "0ede7951-7aeb-4ef4-b561-ed20f35cd618"
      },
      "source": [
        "y - x"
      ],
      "execution_count": 0,
      "outputs": [
        {
          "output_type": "execute_result",
          "data": {
            "text/plain": [
              "array([[4, 4],\n",
              "       [4, 4]])"
            ]
          },
          "metadata": {
            "tags": []
          },
          "execution_count": 137
        }
      ]
    },
    {
      "cell_type": "code",
      "metadata": {
        "id": "7ZLXSHcup4vr",
        "colab_type": "code",
        "colab": {},
        "outputId": "c6ee53cd-0620-42d6-931b-277880b18dc8"
      },
      "source": [
        "x * y"
      ],
      "execution_count": 0,
      "outputs": [
        {
          "output_type": "execute_result",
          "data": {
            "text/plain": [
              "array([[ 5, 12],\n",
              "       [21, 32]])"
            ]
          },
          "metadata": {
            "tags": []
          },
          "execution_count": 138
        }
      ]
    },
    {
      "cell_type": "code",
      "metadata": {
        "id": "gr0lHPKop4vs",
        "colab_type": "code",
        "colab": {},
        "outputId": "85042590-69b6-4483-ac09-8f81f32660b3"
      },
      "source": [
        "y / x"
      ],
      "execution_count": 0,
      "outputs": [
        {
          "output_type": "execute_result",
          "data": {
            "text/plain": [
              "array([[ 5.        ,  3.        ],\n",
              "       [ 2.33333333,  2.        ]])"
            ]
          },
          "metadata": {
            "tags": []
          },
          "execution_count": 139
        }
      ]
    },
    {
      "cell_type": "code",
      "metadata": {
        "id": "RAHMYIAgp4vv",
        "colab_type": "code",
        "colab": {},
        "outputId": "9edd1dc9-50b9-4d69-9aac-be290dc4d9a4"
      },
      "source": [
        "x * 2"
      ],
      "execution_count": 0,
      "outputs": [
        {
          "output_type": "execute_result",
          "data": {
            "text/plain": [
              "array([[2, 4],\n",
              "       [6, 8]])"
            ]
          },
          "metadata": {
            "tags": []
          },
          "execution_count": 140
        }
      ]
    },
    {
      "cell_type": "code",
      "metadata": {
        "id": "4ps11DZCp4vw",
        "colab_type": "code",
        "colab": {},
        "outputId": "6ffcf72f-82f7-4c95-f345-6147a1daf91b"
      },
      "source": [
        "2 ** x"
      ],
      "execution_count": 0,
      "outputs": [
        {
          "output_type": "execute_result",
          "data": {
            "text/plain": [
              "array([[ 2,  4],\n",
              "       [ 8, 16]], dtype=int32)"
            ]
          },
          "metadata": {
            "tags": []
          },
          "execution_count": 141
        }
      ]
    },
    {
      "cell_type": "code",
      "metadata": {
        "id": "bgYl1_Nop4vx",
        "colab_type": "code",
        "colab": {},
        "outputId": "7cc8d508-bf27-4731-ff0c-3b22a43158ea"
      },
      "source": [
        "y / 2"
      ],
      "execution_count": 0,
      "outputs": [
        {
          "output_type": "execute_result",
          "data": {
            "text/plain": [
              "array([[ 2.5,  3. ],\n",
              "       [ 3.5,  4. ]])"
            ]
          },
          "metadata": {
            "tags": []
          },
          "execution_count": 142
        }
      ]
    },
    {
      "cell_type": "code",
      "metadata": {
        "id": "u0LFtZdGp4vx",
        "colab_type": "code",
        "colab": {},
        "outputId": "fcab1fcb-cefb-4c89-b12a-c1f7cc99aa9b"
      },
      "source": [
        "(y / 2).dtype"
      ],
      "execution_count": 0,
      "outputs": [
        {
          "output_type": "execute_result",
          "data": {
            "text/plain": [
              "dtype('float64')"
            ]
          },
          "metadata": {
            "tags": []
          },
          "execution_count": 143
        }
      ]
    },
    {
      "cell_type": "code",
      "metadata": {
        "collapsed": true,
        "id": "ywkQtPxIp4vy",
        "colab_type": "code",
        "colab": {}
      },
      "source": [
        "x = np.array([1, 2, 3, 4]).reshape(2,2)"
      ],
      "execution_count": 0,
      "outputs": []
    },
    {
      "cell_type": "code",
      "metadata": {
        "collapsed": true,
        "id": "9XdkPXYdp4v1",
        "colab_type": "code",
        "colab": {}
      },
      "source": [
        "z = np.array([1, 2, 3, 4])"
      ],
      "execution_count": 0,
      "outputs": []
    },
    {
      "cell_type": "code",
      "metadata": {
        "id": "YWSv_Z6qp4v1",
        "colab_type": "code",
        "colab": {},
        "outputId": "dca03222-6c3d-468a-adcf-6beaa12706d3"
      },
      "source": [
        "x / z"
      ],
      "execution_count": 0,
      "outputs": [
        {
          "output_type": "error",
          "ename": "ValueError",
          "evalue": "operands could not be broadcast together with shapes (2,2) (4,) ",
          "traceback": [
            "\u001b[1;31m---------------------------------------------------------------------------\u001b[0m",
            "\u001b[1;31mValueError\u001b[0m                                Traceback (most recent call last)",
            "\u001b[1;32m<ipython-input-146-b88ced08eb6a>\u001b[0m in \u001b[0;36m<module>\u001b[1;34m()\u001b[0m\n\u001b[1;32m----> 1\u001b[1;33m \u001b[0mx\u001b[0m \u001b[1;33m/\u001b[0m \u001b[0mz\u001b[0m\u001b[1;33m\u001b[0m\u001b[0m\n\u001b[0m",
            "\u001b[1;31mValueError\u001b[0m: operands could not be broadcast together with shapes (2,2) (4,) "
          ]
        }
      ]
    },
    {
      "cell_type": "code",
      "metadata": {
        "collapsed": true,
        "id": "lzn3agDMp4v2",
        "colab_type": "code",
        "colab": {}
      },
      "source": [
        "z = np.array([[2, 4]])"
      ],
      "execution_count": 0,
      "outputs": []
    },
    {
      "cell_type": "code",
      "metadata": {
        "id": "XmwqYDq7p4v3",
        "colab_type": "code",
        "colab": {},
        "outputId": "ac1b6a96-d446-4d0d-ca15-b174eaa5d4cf"
      },
      "source": [
        "z"
      ],
      "execution_count": 0,
      "outputs": [
        {
          "output_type": "execute_result",
          "data": {
            "text/plain": [
              "array([[2, 4]])"
            ]
          },
          "metadata": {
            "tags": []
          },
          "execution_count": 148
        }
      ]
    },
    {
      "cell_type": "code",
      "metadata": {
        "id": "0AOVH7wqp4v4",
        "colab_type": "code",
        "colab": {},
        "outputId": "311e26a2-762f-4dec-c923-b251ef426e7b"
      },
      "source": [
        "z.shape"
      ],
      "execution_count": 0,
      "outputs": [
        {
          "output_type": "execute_result",
          "data": {
            "text/plain": [
              "(1, 2)"
            ]
          },
          "metadata": {
            "tags": []
          },
          "execution_count": 149
        }
      ]
    },
    {
      "cell_type": "code",
      "metadata": {
        "id": "GD79ryvpp4v4",
        "colab_type": "code",
        "colab": {},
        "outputId": "76b29a76-7d64-4ac7-9cbc-9dae4e8bf4fc"
      },
      "source": [
        "x / z"
      ],
      "execution_count": 0,
      "outputs": [
        {
          "output_type": "execute_result",
          "data": {
            "text/plain": [
              "array([[ 0.5,  0.5],\n",
              "       [ 1.5,  1. ]])"
            ]
          },
          "metadata": {
            "tags": []
          },
          "execution_count": 150
        }
      ]
    },
    {
      "cell_type": "code",
      "metadata": {
        "collapsed": true,
        "id": "8YIJ22hXp4v6",
        "colab_type": "code",
        "colab": {}
      },
      "source": [
        "zz = np.concatenate([z, z], axis=0)"
      ],
      "execution_count": 0,
      "outputs": []
    },
    {
      "cell_type": "code",
      "metadata": {
        "id": "FeUbEPoOp4v7",
        "colab_type": "code",
        "colab": {},
        "outputId": "a44d07c9-a667-4a2d-fd53-ab8e392fa23c"
      },
      "source": [
        "zz"
      ],
      "execution_count": 0,
      "outputs": [
        {
          "output_type": "execute_result",
          "data": {
            "text/plain": [
              "array([[2, 4],\n",
              "       [2, 4]])"
            ]
          },
          "metadata": {
            "tags": []
          },
          "execution_count": 152
        }
      ]
    },
    {
      "cell_type": "code",
      "metadata": {
        "id": "X3XVDmdxp4v8",
        "colab_type": "code",
        "colab": {},
        "outputId": "cf4ec591-e5cc-4661-8201-2da25e435349"
      },
      "source": [
        "x / zz"
      ],
      "execution_count": 0,
      "outputs": [
        {
          "output_type": "execute_result",
          "data": {
            "text/plain": [
              "array([[ 0.5,  0.5],\n",
              "       [ 1.5,  1. ]])"
            ]
          },
          "metadata": {
            "tags": []
          },
          "execution_count": 153
        }
      ]
    },
    {
      "cell_type": "code",
      "metadata": {
        "collapsed": true,
        "id": "PX2UmvA2p4v9",
        "colab_type": "code",
        "colab": {}
      },
      "source": [
        "z = np.array([[2], [4]])"
      ],
      "execution_count": 0,
      "outputs": []
    },
    {
      "cell_type": "code",
      "metadata": {
        "id": "YKxqGOB3p4v9",
        "colab_type": "code",
        "colab": {},
        "outputId": "d8a47b31-b3e8-4ac7-d3b5-9c5e5da6ebe8"
      },
      "source": [
        "z.shape"
      ],
      "execution_count": 0,
      "outputs": [
        {
          "output_type": "execute_result",
          "data": {
            "text/plain": [
              "(2, 1)"
            ]
          },
          "metadata": {
            "tags": []
          },
          "execution_count": 155
        }
      ]
    },
    {
      "cell_type": "code",
      "metadata": {
        "id": "GgkkY2EVp4v-",
        "colab_type": "code",
        "colab": {},
        "outputId": "853c9940-3ef1-4e3a-f2e5-beac9fe4774a"
      },
      "source": [
        "x / z"
      ],
      "execution_count": 0,
      "outputs": [
        {
          "output_type": "execute_result",
          "data": {
            "text/plain": [
              "array([[ 0.5 ,  1.  ],\n",
              "       [ 0.75,  1.  ]])"
            ]
          },
          "metadata": {
            "tags": []
          },
          "execution_count": 156
        }
      ]
    },
    {
      "cell_type": "code",
      "metadata": {
        "collapsed": true,
        "id": "AeI9vNd0p4v_",
        "colab_type": "code",
        "colab": {}
      },
      "source": [
        "zz = np.concatenate([z, z], axis=1)"
      ],
      "execution_count": 0,
      "outputs": []
    },
    {
      "cell_type": "code",
      "metadata": {
        "id": "m5vL1U69p4wA",
        "colab_type": "code",
        "colab": {},
        "outputId": "57b1901d-0feb-4fa1-d1af-3fc591c86a74"
      },
      "source": [
        "zz"
      ],
      "execution_count": 0,
      "outputs": [
        {
          "output_type": "execute_result",
          "data": {
            "text/plain": [
              "array([[2, 2],\n",
              "       [4, 4]])"
            ]
          },
          "metadata": {
            "tags": []
          },
          "execution_count": 158
        }
      ]
    },
    {
      "cell_type": "code",
      "metadata": {
        "id": "6mTYAUmVp4wB",
        "colab_type": "code",
        "colab": {},
        "outputId": "49ee4934-6a64-4e98-86dc-f3b4e3d17449"
      },
      "source": [
        "x / zz"
      ],
      "execution_count": 0,
      "outputs": [
        {
          "output_type": "execute_result",
          "data": {
            "text/plain": [
              "array([[ 0.5 ,  1.  ],\n",
              "       [ 0.75,  1.  ]])"
            ]
          },
          "metadata": {
            "tags": []
          },
          "execution_count": 159
        }
      ]
    },
    {
      "cell_type": "code",
      "metadata": {
        "id": "3I8i6qb0p4wB",
        "colab_type": "code",
        "colab": {},
        "outputId": "1f9eabac-6480-4877-8db5-b858ec617286"
      },
      "source": [
        "x = np.array([[1, 3], [2, 4]])\n",
        "x = x + y\n",
        "x"
      ],
      "execution_count": 0,
      "outputs": [
        {
          "output_type": "execute_result",
          "data": {
            "text/plain": [
              "array([[ 6,  9],\n",
              "       [ 9, 12]])"
            ]
          },
          "metadata": {
            "tags": []
          },
          "execution_count": 160
        }
      ]
    },
    {
      "cell_type": "code",
      "metadata": {
        "id": "PtBOUdd6p4wC",
        "colab_type": "code",
        "colab": {},
        "outputId": "e0302396-b6e9-42f6-cee7-e378498ca6f2"
      },
      "source": [
        "x = np.array([[1, 3], [2, 4]])\n",
        "x += y\n",
        "x"
      ],
      "execution_count": 0,
      "outputs": [
        {
          "output_type": "execute_result",
          "data": {
            "text/plain": [
              "array([[ 6,  9],\n",
              "       [ 9, 12]])"
            ]
          },
          "metadata": {
            "tags": []
          },
          "execution_count": 161
        }
      ]
    },
    {
      "cell_type": "markdown",
      "metadata": {
        "id": "C7NlHjoQp4wD",
        "colab_type": "text"
      },
      "source": [
        "### Elementwise functions"
      ]
    },
    {
      "cell_type": "code",
      "metadata": {
        "id": "jDrMui4Ep4wD",
        "colab_type": "code",
        "colab": {}
      },
      "source": [
        "x = np.linspace(-1, 1, 11)"
      ],
      "execution_count": 0,
      "outputs": []
    },
    {
      "cell_type": "code",
      "metadata": {
        "id": "jvJUzvgyp4wE",
        "colab_type": "code",
        "colab": {},
        "outputId": "9330fc7e-4ff2-4704-aaa7-bc68b4fd08b2"
      },
      "source": [
        "x"
      ],
      "execution_count": 0,
      "outputs": [
        {
          "output_type": "execute_result",
          "data": {
            "text/plain": [
              "array([-1. , -0.8, -0.6, -0.4, -0.2,  0. ,  0.2,  0.4,  0.6,  0.8,  1. ])"
            ]
          },
          "metadata": {
            "tags": []
          },
          "execution_count": 163
        }
      ]
    },
    {
      "cell_type": "code",
      "metadata": {
        "id": "FUX_8sMWp4wE",
        "colab_type": "code",
        "colab": {}
      },
      "source": [
        "y = np.sin(np.pi * x)"
      ],
      "execution_count": 0,
      "outputs": []
    },
    {
      "cell_type": "code",
      "metadata": {
        "id": "M0ZgEJiXp4wF",
        "colab_type": "code",
        "colab": {},
        "outputId": "b53a2d26-61be-4f02-edfc-32203b23022c"
      },
      "source": [
        "np.round(y, decimals=4)"
      ],
      "execution_count": 0,
      "outputs": [
        {
          "output_type": "execute_result",
          "data": {
            "text/plain": [
              "array([-0.    , -0.5878, -0.9511, -0.9511, -0.5878,  0.    ,  0.5878,\n",
              "        0.9511,  0.9511,  0.5878,  0.    ])"
            ]
          },
          "metadata": {
            "tags": []
          },
          "execution_count": 165
        }
      ]
    },
    {
      "cell_type": "code",
      "metadata": {
        "id": "1jislVewp4wG",
        "colab_type": "code",
        "colab": {},
        "outputId": "7afac4a5-8210-48ff-94e8-e3fa856527fe"
      },
      "source": [
        "np.add(np.sin(x) ** 2, np.cos(x) ** 2)"
      ],
      "execution_count": 0,
      "outputs": [
        {
          "output_type": "execute_result",
          "data": {
            "text/plain": [
              "array([ 1.,  1.,  1.,  1.,  1.,  1.,  1.,  1.,  1.,  1.,  1.])"
            ]
          },
          "metadata": {
            "tags": []
          },
          "execution_count": 166
        }
      ]
    },
    {
      "cell_type": "code",
      "metadata": {
        "id": "56-RMRwlp4wH",
        "colab_type": "code",
        "colab": {},
        "outputId": "12f1aabc-9dc4-49e2-a280-cb4eb283fb8c"
      },
      "source": [
        "np.sin(x) ** 2 + np.cos(x) ** 2"
      ],
      "execution_count": 0,
      "outputs": [
        {
          "output_type": "execute_result",
          "data": {
            "text/plain": [
              "array([ 1.,  1.,  1.,  1.,  1.,  1.,  1.,  1.,  1.,  1.,  1.])"
            ]
          },
          "metadata": {
            "tags": []
          },
          "execution_count": 167
        }
      ]
    },
    {
      "cell_type": "code",
      "metadata": {
        "id": "-FSA2HhLp4wH",
        "colab_type": "code",
        "colab": {}
      },
      "source": [
        "def heaviside(x):\n",
        "    return 1 if x > 0 else 0"
      ],
      "execution_count": 0,
      "outputs": []
    },
    {
      "cell_type": "code",
      "metadata": {
        "id": "U3niMnshp4wI",
        "colab_type": "code",
        "colab": {},
        "outputId": "94891b8a-507b-4379-8633-98d22e8f4031"
      },
      "source": [
        "heaviside(-1)"
      ],
      "execution_count": 0,
      "outputs": [
        {
          "output_type": "execute_result",
          "data": {
            "text/plain": [
              "0"
            ]
          },
          "metadata": {
            "tags": []
          },
          "execution_count": 169
        }
      ]
    },
    {
      "cell_type": "code",
      "metadata": {
        "id": "w6FJ6bfUp4wJ",
        "colab_type": "code",
        "colab": {},
        "outputId": "de6cee22-1477-403e-a31c-8147a9ba601c"
      },
      "source": [
        "heaviside(1.5)"
      ],
      "execution_count": 0,
      "outputs": [
        {
          "output_type": "execute_result",
          "data": {
            "text/plain": [
              "1"
            ]
          },
          "metadata": {
            "tags": []
          },
          "execution_count": 170
        }
      ]
    },
    {
      "cell_type": "code",
      "metadata": {
        "id": "IECzrn4Qp4wK",
        "colab_type": "code",
        "colab": {}
      },
      "source": [
        "x = np.linspace(-5, 5, 11)"
      ],
      "execution_count": 0,
      "outputs": []
    },
    {
      "cell_type": "code",
      "metadata": {
        "id": "UEvWIdhHp4wK",
        "colab_type": "code",
        "colab": {},
        "outputId": "955cf264-5108-406f-d72b-8e4b830518ee"
      },
      "source": [
        "heaviside(x)"
      ],
      "execution_count": 0,
      "outputs": [
        {
          "output_type": "error",
          "ename": "ValueError",
          "evalue": "The truth value of an array with more than one element is ambiguous. Use a.any() or a.all()",
          "traceback": [
            "\u001b[1;31m---------------------------------------------------------------------------\u001b[0m",
            "\u001b[1;31mValueError\u001b[0m                                Traceback (most recent call last)",
            "\u001b[1;32m<ipython-input-172-fe9fb94bcf99>\u001b[0m in \u001b[0;36m<module>\u001b[1;34m()\u001b[0m\n\u001b[1;32m----> 1\u001b[1;33m \u001b[0mheaviside\u001b[0m\u001b[1;33m(\u001b[0m\u001b[0mx\u001b[0m\u001b[1;33m)\u001b[0m\u001b[1;33m\u001b[0m\u001b[0m\n\u001b[0m",
            "\u001b[1;32m<ipython-input-168-01b8e2f570bc>\u001b[0m in \u001b[0;36mheaviside\u001b[1;34m(x)\u001b[0m\n\u001b[0;32m      1\u001b[0m \u001b[1;32mdef\u001b[0m \u001b[0mheaviside\u001b[0m\u001b[1;33m(\u001b[0m\u001b[0mx\u001b[0m\u001b[1;33m)\u001b[0m\u001b[1;33m:\u001b[0m\u001b[1;33m\u001b[0m\u001b[0m\n\u001b[1;32m----> 2\u001b[1;33m     \u001b[1;32mreturn\u001b[0m \u001b[1;36m1\u001b[0m \u001b[1;32mif\u001b[0m \u001b[0mx\u001b[0m \u001b[1;33m>\u001b[0m \u001b[1;36m0\u001b[0m \u001b[1;32melse\u001b[0m \u001b[1;36m0\u001b[0m\u001b[1;33m\u001b[0m\u001b[0m\n\u001b[0m",
            "\u001b[1;31mValueError\u001b[0m: The truth value of an array with more than one element is ambiguous. Use a.any() or a.all()"
          ]
        }
      ]
    },
    {
      "cell_type": "code",
      "metadata": {
        "id": "P4rxhKRRp4wL",
        "colab_type": "code",
        "colab": {}
      },
      "source": [
        "heaviside = np.vectorize(heaviside)"
      ],
      "execution_count": 0,
      "outputs": []
    },
    {
      "cell_type": "code",
      "metadata": {
        "id": "YV4Jh6E9p4wM",
        "colab_type": "code",
        "colab": {},
        "outputId": "901f2d88-2bbf-4311-9f08-4dad89ec478e"
      },
      "source": [
        "heaviside(x)"
      ],
      "execution_count": 0,
      "outputs": [
        {
          "output_type": "execute_result",
          "data": {
            "text/plain": [
              "array([0, 0, 0, 0, 0, 0, 1, 1, 1, 1, 1])"
            ]
          },
          "metadata": {
            "tags": []
          },
          "execution_count": 174
        }
      ]
    },
    {
      "cell_type": "code",
      "metadata": {
        "id": "LRCaEdsPp4wN",
        "colab_type": "code",
        "colab": {}
      },
      "source": [
        "def heaviside(x):\n",
        "    return 1.0 * (x > 0)"
      ],
      "execution_count": 0,
      "outputs": []
    },
    {
      "cell_type": "markdown",
      "metadata": {
        "id": "0d4opSk_p4wN",
        "colab_type": "text"
      },
      "source": [
        "### <font color = 'blue'> Exercise #6 </font>  \n",
        "\n",
        "1.  Create a function \"sigmoid\" that takes one variable $x$ as input and returns $\\frac{1}{1 + e^{-x}}$ as output\n",
        "2.  Create a 2-dimensional array A of random numbers of size 3x4\n",
        "3.  Let S = sigmoid(A).  Print S\n",
        "\n",
        "**Note this is an example of broadcasting: applying an operation to every element of an object, where the operation was only meant between elements**"
      ]
    },
    {
      "cell_type": "code",
      "metadata": {
        "id": "KlzURShgJuxT",
        "colab_type": "code",
        "colab": {}
      },
      "source": [
        ""
      ],
      "execution_count": 0,
      "outputs": []
    },
    {
      "cell_type": "markdown",
      "metadata": {
        "id": "Py-uDV1pp4wO",
        "colab_type": "text"
      },
      "source": [
        "### Aggregate functions"
      ]
    },
    {
      "cell_type": "code",
      "metadata": {
        "collapsed": true,
        "id": "86w8Pab_p4wO",
        "colab_type": "code",
        "colab": {}
      },
      "source": [
        "data = np.random.normal(size=(15,15))"
      ],
      "execution_count": 0,
      "outputs": []
    },
    {
      "cell_type": "code",
      "metadata": {
        "id": "p7l3-srvp4wP",
        "colab_type": "code",
        "colab": {},
        "outputId": "16bdb2e3-86ab-4f17-a44d-fdacea76b698"
      },
      "source": [
        "np.mean(data)"
      ],
      "execution_count": 0,
      "outputs": [
        {
          "output_type": "execute_result",
          "data": {
            "text/plain": [
              "-0.074403636812459123"
            ]
          },
          "metadata": {
            "tags": []
          },
          "execution_count": 177
        }
      ]
    },
    {
      "cell_type": "code",
      "metadata": {
        "id": "TB9WObzPp4wP",
        "colab_type": "code",
        "colab": {},
        "outputId": "a0aded73-5006-4168-d643-0a581848c2f6"
      },
      "source": [
        "data.mean()"
      ],
      "execution_count": 0,
      "outputs": [
        {
          "output_type": "execute_result",
          "data": {
            "text/plain": [
              "-0.074403636812459123"
            ]
          },
          "metadata": {
            "tags": []
          },
          "execution_count": 178
        }
      ]
    },
    {
      "cell_type": "code",
      "metadata": {
        "collapsed": true,
        "id": "dU6Zk-6Wp4wR",
        "colab_type": "code",
        "colab": {}
      },
      "source": [
        "data = np.random.normal(size=(5, 10, 15))"
      ],
      "execution_count": 0,
      "outputs": []
    },
    {
      "cell_type": "code",
      "metadata": {
        "id": "y6wKnawdp4wS",
        "colab_type": "code",
        "colab": {},
        "outputId": "f898156a-03a5-4ca4-d61c-6fdfcc67e5ba"
      },
      "source": [
        "data.sum(axis=0).shape"
      ],
      "execution_count": 0,
      "outputs": [
        {
          "output_type": "execute_result",
          "data": {
            "text/plain": [
              "(10, 15)"
            ]
          },
          "metadata": {
            "tags": []
          },
          "execution_count": 180
        }
      ]
    },
    {
      "cell_type": "code",
      "metadata": {
        "id": "sLV4ma_Fp4wV",
        "colab_type": "code",
        "colab": {},
        "outputId": "0dc7ecd0-dcb0-4d59-f000-bc12d1be92b7"
      },
      "source": [
        "data.sum(axis=(0, 2)).shape"
      ],
      "execution_count": 0,
      "outputs": [
        {
          "output_type": "execute_result",
          "data": {
            "text/plain": [
              "(10,)"
            ]
          },
          "metadata": {
            "tags": []
          },
          "execution_count": 181
        }
      ]
    },
    {
      "cell_type": "code",
      "metadata": {
        "id": "ZIGjQsoFp4wW",
        "colab_type": "code",
        "colab": {},
        "outputId": "d72fa2d5-495d-48a6-8bde-ea6da09cba0d"
      },
      "source": [
        "data.sum()"
      ],
      "execution_count": 0,
      "outputs": [
        {
          "output_type": "execute_result",
          "data": {
            "text/plain": [
              "11.003615133940048"
            ]
          },
          "metadata": {
            "tags": []
          },
          "execution_count": 182
        }
      ]
    },
    {
      "cell_type": "code",
      "metadata": {
        "collapsed": true,
        "id": "6R4Kb6Rwp4wX",
        "colab_type": "code",
        "colab": {}
      },
      "source": [
        "data = np.arange(1,10).reshape(3,3)"
      ],
      "execution_count": 0,
      "outputs": []
    },
    {
      "cell_type": "code",
      "metadata": {
        "id": "vmpdLfCep4wX",
        "colab_type": "code",
        "colab": {},
        "outputId": "6583d133-b243-41eb-93f7-c273e22912de"
      },
      "source": [
        "data"
      ],
      "execution_count": 0,
      "outputs": [
        {
          "output_type": "execute_result",
          "data": {
            "text/plain": [
              "array([[1, 2, 3],\n",
              "       [4, 5, 6],\n",
              "       [7, 8, 9]])"
            ]
          },
          "metadata": {
            "tags": []
          },
          "execution_count": 184
        }
      ]
    },
    {
      "cell_type": "code",
      "metadata": {
        "id": "osfNs5w0p4wY",
        "colab_type": "code",
        "colab": {},
        "outputId": "6cc31de6-0448-485e-eeb6-0a605baf304a"
      },
      "source": [
        "data.sum()"
      ],
      "execution_count": 0,
      "outputs": [
        {
          "output_type": "execute_result",
          "data": {
            "text/plain": [
              "45"
            ]
          },
          "metadata": {
            "tags": []
          },
          "execution_count": 185
        }
      ]
    },
    {
      "cell_type": "code",
      "metadata": {
        "id": "VrQ4japCp4wZ",
        "colab_type": "code",
        "colab": {},
        "outputId": "21f5b0b6-65d3-4160-a113-a3a3b6416cc7"
      },
      "source": [
        "data.sum(axis=0)"
      ],
      "execution_count": 0,
      "outputs": [
        {
          "output_type": "execute_result",
          "data": {
            "text/plain": [
              "array([12, 15, 18])"
            ]
          },
          "metadata": {
            "tags": []
          },
          "execution_count": 186
        }
      ]
    },
    {
      "cell_type": "code",
      "metadata": {
        "id": "5eEPBb_Up4wZ",
        "colab_type": "code",
        "colab": {},
        "outputId": "d6255276-68e9-41f5-b1b1-b0a05a099afd"
      },
      "source": [
        "data.sum(axis=1)"
      ],
      "execution_count": 0,
      "outputs": [
        {
          "output_type": "execute_result",
          "data": {
            "text/plain": [
              "array([ 6, 15, 24])"
            ]
          },
          "metadata": {
            "tags": []
          },
          "execution_count": 187
        }
      ]
    },
    {
      "cell_type": "markdown",
      "metadata": {
        "id": "iNcW5qdCp4wa",
        "colab_type": "text"
      },
      "source": [
        "### Boolean arrays"
      ]
    },
    {
      "cell_type": "code",
      "metadata": {
        "collapsed": true,
        "id": "9OggqM-dp4wa",
        "colab_type": "code",
        "colab": {}
      },
      "source": [
        "a = np.array([1, 2, 3, 4])"
      ],
      "execution_count": 0,
      "outputs": []
    },
    {
      "cell_type": "code",
      "metadata": {
        "collapsed": true,
        "id": "1WbD7uRvp4wb",
        "colab_type": "code",
        "colab": {}
      },
      "source": [
        "b = np.array([4, 3, 2, 1])"
      ],
      "execution_count": 0,
      "outputs": []
    },
    {
      "cell_type": "code",
      "metadata": {
        "id": "EGPJJ_ayp4wb",
        "colab_type": "code",
        "colab": {},
        "outputId": "8530dcad-7147-4530-8621-16b049e33525"
      },
      "source": [
        "a < b"
      ],
      "execution_count": 0,
      "outputs": [
        {
          "output_type": "execute_result",
          "data": {
            "text/plain": [
              "array([ True,  True, False, False], dtype=bool)"
            ]
          },
          "metadata": {
            "tags": []
          },
          "execution_count": 190
        }
      ]
    },
    {
      "cell_type": "code",
      "metadata": {
        "id": "g8nsZ_pEp4wc",
        "colab_type": "code",
        "colab": {},
        "outputId": "4417288d-1fe7-4093-e174-c6bffe298587"
      },
      "source": [
        "np.all(a < b)"
      ],
      "execution_count": 0,
      "outputs": [
        {
          "output_type": "execute_result",
          "data": {
            "text/plain": [
              "False"
            ]
          },
          "metadata": {
            "tags": []
          },
          "execution_count": 191
        }
      ]
    },
    {
      "cell_type": "code",
      "metadata": {
        "id": "t56E1plhp4wd",
        "colab_type": "code",
        "colab": {},
        "outputId": "4d17cd22-6864-4060-d02b-cee526872924"
      },
      "source": [
        "np.any(a < b)"
      ],
      "execution_count": 0,
      "outputs": [
        {
          "output_type": "execute_result",
          "data": {
            "text/plain": [
              "True"
            ]
          },
          "metadata": {
            "tags": []
          },
          "execution_count": 192
        }
      ]
    },
    {
      "cell_type": "code",
      "metadata": {
        "collapsed": true,
        "id": "T7TEECbVp4we",
        "colab_type": "code",
        "colab": {}
      },
      "source": [
        "x = np.array([-2, -1, 0, 1, 2])"
      ],
      "execution_count": 0,
      "outputs": []
    },
    {
      "cell_type": "code",
      "metadata": {
        "id": "b_zJ0eSzp4wg",
        "colab_type": "code",
        "colab": {},
        "outputId": "bdf81023-3058-49e0-dd4e-fa5dc5f395a4"
      },
      "source": [
        "x > 0"
      ],
      "execution_count": 0,
      "outputs": [
        {
          "output_type": "execute_result",
          "data": {
            "text/plain": [
              "array([False, False, False,  True,  True], dtype=bool)"
            ]
          },
          "metadata": {
            "tags": []
          },
          "execution_count": 195
        }
      ]
    },
    {
      "cell_type": "code",
      "metadata": {
        "id": "vc90azIip4wh",
        "colab_type": "code",
        "colab": {},
        "outputId": "ec400f26-6d8c-4449-841c-b67f7dcee8e0"
      },
      "source": [
        "1 * (x > 0)"
      ],
      "execution_count": 0,
      "outputs": [
        {
          "output_type": "execute_result",
          "data": {
            "text/plain": [
              "array([0, 0, 0, 1, 1])"
            ]
          },
          "metadata": {
            "tags": []
          },
          "execution_count": 196
        }
      ]
    },
    {
      "cell_type": "code",
      "metadata": {
        "id": "FPpKOlvdp4wh",
        "colab_type": "code",
        "colab": {},
        "outputId": "3664f02a-2146-45eb-aba9-39ee7788a999"
      },
      "source": [
        "x * (x > 0)"
      ],
      "execution_count": 0,
      "outputs": [
        {
          "output_type": "execute_result",
          "data": {
            "text/plain": [
              "array([0, 0, 0, 1, 2])"
            ]
          },
          "metadata": {
            "tags": []
          },
          "execution_count": 197
        }
      ]
    },
    {
      "cell_type": "markdown",
      "metadata": {
        "id": "ITjUurwJp4wk",
        "colab_type": "text"
      },
      "source": [
        "# Set operations"
      ]
    },
    {
      "cell_type": "code",
      "metadata": {
        "id": "dwy5GqXup4wk",
        "colab_type": "code",
        "colab": {}
      },
      "source": [
        "a = np.unique([1,2,3,3])"
      ],
      "execution_count": 0,
      "outputs": []
    },
    {
      "cell_type": "code",
      "metadata": {
        "id": "0NSVNwxxp4wk",
        "colab_type": "code",
        "colab": {}
      },
      "source": [
        "b = np.unique([2,3,4,4,5,6,5])"
      ],
      "execution_count": 0,
      "outputs": []
    },
    {
      "cell_type": "code",
      "metadata": {
        "id": "H4NNRDndp4wl",
        "colab_type": "code",
        "colab": {
          "base_uri": "https://localhost:8080/",
          "height": 34
        },
        "outputId": "043e0c98-888c-42fa-81f3-552088e65fab"
      },
      "source": [
        "np.in1d(a, b)"
      ],
      "execution_count": 37,
      "outputs": [
        {
          "output_type": "execute_result",
          "data": {
            "text/plain": [
              "array([False,  True,  True])"
            ]
          },
          "metadata": {
            "tags": []
          },
          "execution_count": 37
        }
      ]
    },
    {
      "cell_type": "code",
      "metadata": {
        "id": "t-M369kMp4wm",
        "colab_type": "code",
        "colab": {},
        "outputId": "7c141c78-0959-4d4a-ad60-c998d68c5812"
      },
      "source": [
        "1 in a"
      ],
      "execution_count": 0,
      "outputs": [
        {
          "output_type": "execute_result",
          "data": {
            "text/plain": [
              "True"
            ]
          },
          "metadata": {
            "tags": []
          },
          "execution_count": 213
        }
      ]
    },
    {
      "cell_type": "code",
      "metadata": {
        "id": "yl4fnuf6p4wm",
        "colab_type": "code",
        "colab": {},
        "outputId": "2e8f7dec-4064-44e7-b1f2-ace4a0ad2fbe"
      },
      "source": [
        "1 in b"
      ],
      "execution_count": 0,
      "outputs": [
        {
          "output_type": "execute_result",
          "data": {
            "text/plain": [
              "False"
            ]
          },
          "metadata": {
            "tags": []
          },
          "execution_count": 214
        }
      ]
    },
    {
      "cell_type": "code",
      "metadata": {
        "id": "YNXDgZnRp4wn",
        "colab_type": "code",
        "colab": {},
        "outputId": "10e63301-4b82-4057-9259-21c5425d9298"
      },
      "source": [
        "np.all(np.in1d(a, b))"
      ],
      "execution_count": 0,
      "outputs": [
        {
          "output_type": "execute_result",
          "data": {
            "text/plain": [
              "False"
            ]
          },
          "metadata": {
            "tags": []
          },
          "execution_count": 215
        }
      ]
    },
    {
      "cell_type": "code",
      "metadata": {
        "id": "PRNP30eVp4wo",
        "colab_type": "code",
        "colab": {},
        "outputId": "0d5357de-7318-4802-ab72-979b45d9d5c0"
      },
      "source": [
        "np.union1d(a, b)"
      ],
      "execution_count": 0,
      "outputs": [
        {
          "output_type": "execute_result",
          "data": {
            "text/plain": [
              "array([1, 2, 3, 4, 5, 6])"
            ]
          },
          "metadata": {
            "tags": []
          },
          "execution_count": 216
        }
      ]
    },
    {
      "cell_type": "code",
      "metadata": {
        "id": "-I_Q3b8Gp4wr",
        "colab_type": "code",
        "colab": {},
        "outputId": "8dadb42f-8f2b-4f32-fe9d-1879fbd67a6e"
      },
      "source": [
        "np.intersect1d(a, b)"
      ],
      "execution_count": 0,
      "outputs": [
        {
          "output_type": "execute_result",
          "data": {
            "text/plain": [
              "array([2, 3])"
            ]
          },
          "metadata": {
            "tags": []
          },
          "execution_count": 217
        }
      ]
    },
    {
      "cell_type": "code",
      "metadata": {
        "id": "6OcH0Iv4p4ws",
        "colab_type": "code",
        "colab": {},
        "outputId": "7fc0ef48-ae39-4ac3-9250-3910b9cdecdb"
      },
      "source": [
        "np.setdiff1d(a, b)"
      ],
      "execution_count": 0,
      "outputs": [
        {
          "output_type": "execute_result",
          "data": {
            "text/plain": [
              "array([1])"
            ]
          },
          "metadata": {
            "tags": []
          },
          "execution_count": 218
        }
      ]
    },
    {
      "cell_type": "code",
      "metadata": {
        "id": "cPoXYXMPp4ws",
        "colab_type": "code",
        "colab": {},
        "outputId": "4d3ee830-e44d-46cb-bec8-72e249262859"
      },
      "source": [
        "np.setdiff1d(b, a)"
      ],
      "execution_count": 0,
      "outputs": [
        {
          "output_type": "execute_result",
          "data": {
            "text/plain": [
              "array([4, 5, 6])"
            ]
          },
          "metadata": {
            "tags": []
          },
          "execution_count": 219
        }
      ]
    },
    {
      "cell_type": "markdown",
      "metadata": {
        "id": "VeBsfSoBp4wt",
        "colab_type": "text"
      },
      "source": [
        "### <font color = 'blue'> Exercise #7 </font> \n",
        "1.  Let the **list** L = ['M', 'A', 'S', 'S', 'A', 'C', 'H', 'U', 'S', 'E', 'T', 'S']\n",
        "2.  Use the **set** operation to find the unique entries in the list, call it S.  \n",
        "3.  Use the **zip** operation to now create Z = ordered pairs unique entries of L in alphabatical order with integer 0, 1, 2, 3 etc. \n",
        "4.  Print the entries of Z"
      ]
    },
    {
      "cell_type": "code",
      "metadata": {
        "id": "n8RPxak-sdF6",
        "colab_type": "code",
        "colab": {}
      },
      "source": [
        "L = ['M', 'A', 'S', 'S', 'A', 'C', 'H', 'U', 'S', 'E', 'T', 'S']"
      ],
      "execution_count": 0,
      "outputs": []
    },
    {
      "cell_type": "code",
      "metadata": {
        "id": "nGJH2y9o9jEy",
        "colab_type": "code",
        "colab": {}
      },
      "source": [
        "S=np.unique(['M','C','H','U','E','T'])"
      ],
      "execution_count": 0,
      "outputs": []
    },
    {
      "cell_type": "code",
      "metadata": {
        "id": "ul5No8sY9-vI",
        "colab_type": "code",
        "colab": {
          "base_uri": "https://localhost:8080/",
          "height": 51
        },
        "outputId": "dc321e6f-7bab-4c5f-f34c-b3bba73b1d3a"
      },
      "source": [
        "np.in1d(L, S)"
      ],
      "execution_count": 46,
      "outputs": [
        {
          "output_type": "execute_result",
          "data": {
            "text/plain": [
              "array([ True, False, False, False, False,  True,  True,  True, False,\n",
              "        True,  True, False])"
            ]
          },
          "metadata": {
            "tags": []
          },
          "execution_count": 46
        }
      ]
    },
    {
      "cell_type": "code",
      "metadata": {
        "id": "nYFNcqDEAXbg",
        "colab_type": "code",
        "colab": {
          "base_uri": "https://localhost:8080/",
          "height": 34
        },
        "outputId": "594508b0-5cbd-4a0f-d560-915f7c85bfab"
      },
      "source": [
        "np.all(np.in1d(L, S))"
      ],
      "execution_count": 47,
      "outputs": [
        {
          "output_type": "execute_result",
          "data": {
            "text/plain": [
              "False"
            ]
          },
          "metadata": {
            "tags": []
          },
          "execution_count": 47
        }
      ]
    },
    {
      "cell_type": "code",
      "metadata": {
        "id": "32Xfrn62-ZPr",
        "colab_type": "code",
        "colab": {
          "base_uri": "https://localhost:8080/",
          "height": 34
        },
        "outputId": "d6537297-aa4d-41fe-db5b-6f0bb59bcd7c"
      },
      "source": [
        "np.union1d(L, S)"
      ],
      "execution_count": 49,
      "outputs": [
        {
          "output_type": "execute_result",
          "data": {
            "text/plain": [
              "array(['A', 'C', 'E', 'H', 'M', 'S', 'T', 'U'], dtype='<U1')"
            ]
          },
          "metadata": {
            "tags": []
          },
          "execution_count": 49
        }
      ]
    },
    {
      "cell_type": "code",
      "metadata": {
        "id": "-aV-m5sNAoxG",
        "colab_type": "code",
        "colab": {
          "base_uri": "https://localhost:8080/",
          "height": 34
        },
        "outputId": "99dea5c5-ce9e-4eed-997c-f692e00df8f8"
      },
      "source": [
        "np.intersect1d(L, S)"
      ],
      "execution_count": 50,
      "outputs": [
        {
          "output_type": "execute_result",
          "data": {
            "text/plain": [
              "array(['C', 'E', 'H', 'M', 'T', 'U'], dtype='<U1')"
            ]
          },
          "metadata": {
            "tags": []
          },
          "execution_count": 50
        }
      ]
    },
    {
      "cell_type": "code",
      "metadata": {
        "id": "Qt6LQy0QAtmU",
        "colab_type": "code",
        "colab": {
          "base_uri": "https://localhost:8080/",
          "height": 34
        },
        "outputId": "220fb73f-492e-4ad7-ebdc-76791cd51c15"
      },
      "source": [
        "np.setdiff1d(L, S)"
      ],
      "execution_count": 51,
      "outputs": [
        {
          "output_type": "execute_result",
          "data": {
            "text/plain": [
              "array(['A', 'S'], dtype='<U1')"
            ]
          },
          "metadata": {
            "tags": []
          },
          "execution_count": 51
        }
      ]
    },
    {
      "cell_type": "code",
      "metadata": {
        "id": "gdZpuaJGAxOi",
        "colab_type": "code",
        "colab": {
          "base_uri": "https://localhost:8080/",
          "height": 34
        },
        "outputId": "4455f644-95c1-40bb-e5eb-f5392e5b3024"
      },
      "source": [
        "np.setdiff1d(L, S)"
      ],
      "execution_count": 52,
      "outputs": [
        {
          "output_type": "execute_result",
          "data": {
            "text/plain": [
              "array(['A', 'S'], dtype='<U1')"
            ]
          },
          "metadata": {
            "tags": []
          },
          "execution_count": 52
        }
      ]
    },
    {
      "cell_type": "markdown",
      "metadata": {
        "id": "zGZdo73Lp4wt",
        "colab_type": "text"
      },
      "source": [
        "## Matrix and vector operations"
      ]
    },
    {
      "cell_type": "code",
      "metadata": {
        "id": "m0T-VoLxp4wu",
        "colab_type": "code",
        "colab": {}
      },
      "source": [
        "A = np.arange(1, 7).reshape(2, 3)"
      ],
      "execution_count": 0,
      "outputs": []
    },
    {
      "cell_type": "code",
      "metadata": {
        "id": "zEbgKob_p4wu",
        "colab_type": "code",
        "colab": {},
        "outputId": "c4dde63a-919f-43a2-c436-89907563a8bb"
      },
      "source": [
        "A"
      ],
      "execution_count": 0,
      "outputs": [
        {
          "output_type": "execute_result",
          "data": {
            "text/plain": [
              "array([[1, 2, 3],\n",
              "       [4, 5, 6]])"
            ]
          },
          "metadata": {
            "tags": []
          },
          "execution_count": 227
        }
      ]
    },
    {
      "cell_type": "code",
      "metadata": {
        "id": "B8lgFoQvp4ww",
        "colab_type": "code",
        "colab": {}
      },
      "source": [
        "B = np.arange(1, 7).reshape(3, 2)"
      ],
      "execution_count": 0,
      "outputs": []
    },
    {
      "cell_type": "code",
      "metadata": {
        "id": "aGqxwqw_p4ww",
        "colab_type": "code",
        "colab": {},
        "outputId": "5b70e157-f272-40f0-c64b-ac3a58eb20db"
      },
      "source": [
        "B"
      ],
      "execution_count": 0,
      "outputs": [
        {
          "output_type": "execute_result",
          "data": {
            "text/plain": [
              "array([[1, 2],\n",
              "       [3, 4],\n",
              "       [5, 6]])"
            ]
          },
          "metadata": {
            "tags": []
          },
          "execution_count": 229
        }
      ]
    },
    {
      "cell_type": "code",
      "metadata": {
        "id": "hC-Ncrmkp4wy",
        "colab_type": "code",
        "colab": {},
        "outputId": "8a39d706-5e99-4340-cc4a-41ae69ca7dea"
      },
      "source": [
        "np.dot(A, B)"
      ],
      "execution_count": 0,
      "outputs": [
        {
          "output_type": "execute_result",
          "data": {
            "text/plain": [
              "array([[22, 28],\n",
              "       [49, 64]])"
            ]
          },
          "metadata": {
            "tags": []
          },
          "execution_count": 230
        }
      ]
    },
    {
      "cell_type": "code",
      "metadata": {
        "id": "ylRicE0tp4wz",
        "colab_type": "code",
        "colab": {},
        "outputId": "8ef00d50-eed4-4750-b4ed-781557848682"
      },
      "source": [
        "np.dot(B, A)"
      ],
      "execution_count": 0,
      "outputs": [
        {
          "output_type": "execute_result",
          "data": {
            "text/plain": [
              "array([[ 9, 12, 15],\n",
              "       [19, 26, 33],\n",
              "       [29, 40, 51]])"
            ]
          },
          "metadata": {
            "tags": []
          },
          "execution_count": 231
        }
      ]
    },
    {
      "cell_type": "code",
      "metadata": {
        "id": "SBDKe7kXp4wz",
        "colab_type": "code",
        "colab": {}
      },
      "source": [
        "A = np.arange(9).reshape(3, 3)"
      ],
      "execution_count": 0,
      "outputs": []
    },
    {
      "cell_type": "code",
      "metadata": {
        "id": "WtB7Guusp4w0",
        "colab_type": "code",
        "colab": {},
        "outputId": "f73435c4-0eaf-4f4b-e94a-067535ad1246"
      },
      "source": [
        "A"
      ],
      "execution_count": 0,
      "outputs": [
        {
          "output_type": "execute_result",
          "data": {
            "text/plain": [
              "array([[0, 1, 2],\n",
              "       [3, 4, 5],\n",
              "       [6, 7, 8]])"
            ]
          },
          "metadata": {
            "tags": []
          },
          "execution_count": 233
        }
      ]
    },
    {
      "cell_type": "code",
      "metadata": {
        "id": "ENBoteK5p4w1",
        "colab_type": "code",
        "colab": {}
      },
      "source": [
        "x = np.arange(3)"
      ],
      "execution_count": 0,
      "outputs": []
    },
    {
      "cell_type": "code",
      "metadata": {
        "id": "v7CbAnT1p4w1",
        "colab_type": "code",
        "colab": {},
        "outputId": "00e93987-04e6-4fa2-c5c8-35e0f66121d1"
      },
      "source": [
        "x"
      ],
      "execution_count": 0,
      "outputs": [
        {
          "output_type": "execute_result",
          "data": {
            "text/plain": [
              "array([0, 1, 2])"
            ]
          },
          "metadata": {
            "tags": []
          },
          "execution_count": 235
        }
      ]
    },
    {
      "cell_type": "code",
      "metadata": {
        "id": "fAPUZNzFp4w2",
        "colab_type": "code",
        "colab": {},
        "outputId": "b23b7644-b942-4bcf-eb87-28a637ff6706"
      },
      "source": [
        "np.dot(A, x)"
      ],
      "execution_count": 0,
      "outputs": [
        {
          "output_type": "execute_result",
          "data": {
            "text/plain": [
              "array([ 5, 14, 23])"
            ]
          },
          "metadata": {
            "tags": []
          },
          "execution_count": 236
        }
      ]
    },
    {
      "cell_type": "code",
      "metadata": {
        "id": "2E56yeLTp4w3",
        "colab_type": "code",
        "colab": {},
        "outputId": "ef5e5888-b50d-4dec-8115-27705759a55b"
      },
      "source": [
        "A.dot(x)"
      ],
      "execution_count": 0,
      "outputs": [
        {
          "output_type": "execute_result",
          "data": {
            "text/plain": [
              "array([ 5, 14, 23])"
            ]
          },
          "metadata": {
            "tags": []
          },
          "execution_count": 237
        }
      ]
    },
    {
      "cell_type": "code",
      "metadata": {
        "id": "9wKVkv-4p4w5",
        "colab_type": "code",
        "colab": {}
      },
      "source": [
        "A = np.random.rand(3,3)\n",
        "B = np.random.rand(3,3)"
      ],
      "execution_count": 0,
      "outputs": []
    },
    {
      "cell_type": "code",
      "metadata": {
        "id": "dPgDbPo6p4w6",
        "colab_type": "code",
        "colab": {}
      },
      "source": [
        "Ap = np.dot(B, np.dot(A, np.linalg.inv(B)))"
      ],
      "execution_count": 0,
      "outputs": []
    },
    {
      "cell_type": "code",
      "metadata": {
        "id": "O6pOgK_Up4w7",
        "colab_type": "code",
        "colab": {}
      },
      "source": [
        "Ap = B.dot(A.dot(np.linalg.inv(B)))"
      ],
      "execution_count": 0,
      "outputs": []
    },
    {
      "cell_type": "code",
      "metadata": {
        "id": "SP4_7c38p4w8",
        "colab_type": "code",
        "colab": {}
      },
      "source": [
        "A = np.matrix(A)"
      ],
      "execution_count": 0,
      "outputs": []
    },
    {
      "cell_type": "code",
      "metadata": {
        "id": "npE9MGqMp4w8",
        "colab_type": "code",
        "colab": {}
      },
      "source": [
        "B = np.matrix(B)"
      ],
      "execution_count": 0,
      "outputs": []
    },
    {
      "cell_type": "code",
      "metadata": {
        "id": "-c-ZXBNKp4w9",
        "colab_type": "code",
        "colab": {}
      },
      "source": [
        "Ap = B * A * B.I"
      ],
      "execution_count": 0,
      "outputs": []
    },
    {
      "cell_type": "code",
      "metadata": {
        "id": "7YKs_Rtip4w9",
        "colab_type": "code",
        "colab": {}
      },
      "source": [
        "A = np.asmatrix(A)"
      ],
      "execution_count": 0,
      "outputs": []
    },
    {
      "cell_type": "code",
      "metadata": {
        "id": "3y9sw020p4w-",
        "colab_type": "code",
        "colab": {}
      },
      "source": [
        "B = np.asmatrix(B)"
      ],
      "execution_count": 0,
      "outputs": []
    },
    {
      "cell_type": "code",
      "metadata": {
        "id": "8UtfH2ZXp4w_",
        "colab_type": "code",
        "colab": {}
      },
      "source": [
        "Ap = B * A * B.I"
      ],
      "execution_count": 0,
      "outputs": []
    },
    {
      "cell_type": "code",
      "metadata": {
        "id": "Gaz4lUadp4xA",
        "colab_type": "code",
        "colab": {}
      },
      "source": [
        "Ap = np.asarray(Ap)"
      ],
      "execution_count": 0,
      "outputs": []
    },
    {
      "cell_type": "code",
      "metadata": {
        "id": "3UjDaHlJp4xA",
        "colab_type": "code",
        "colab": {},
        "outputId": "e3f76475-8213-495f-ad5c-ee16ebdd67aa"
      },
      "source": [
        "np.inner(x, x)"
      ],
      "execution_count": 0,
      "outputs": [
        {
          "output_type": "execute_result",
          "data": {
            "text/plain": [
              "5"
            ]
          },
          "metadata": {
            "tags": []
          },
          "execution_count": 248
        }
      ]
    },
    {
      "cell_type": "code",
      "metadata": {
        "id": "Hw3SRvaEp4xE",
        "colab_type": "code",
        "colab": {},
        "outputId": "77cdeeee-bb87-4b75-a3e3-ee3898fbcdb3"
      },
      "source": [
        "np.dot(x, x)"
      ],
      "execution_count": 0,
      "outputs": [
        {
          "output_type": "execute_result",
          "data": {
            "text/plain": [
              "5"
            ]
          },
          "metadata": {
            "tags": []
          },
          "execution_count": 249
        }
      ]
    },
    {
      "cell_type": "code",
      "metadata": {
        "id": "Ag1sA1CLp4xF",
        "colab_type": "code",
        "colab": {}
      },
      "source": [
        "y = x[:, np.newaxis]"
      ],
      "execution_count": 0,
      "outputs": []
    },
    {
      "cell_type": "code",
      "metadata": {
        "id": "Xst52jc1p4xF",
        "colab_type": "code",
        "colab": {},
        "outputId": "cb0e9555-d6de-40c3-98cc-0950ee93a3cd"
      },
      "source": [
        "y"
      ],
      "execution_count": 0,
      "outputs": [
        {
          "output_type": "execute_result",
          "data": {
            "text/plain": [
              "array([[0],\n",
              "       [1],\n",
              "       [2]])"
            ]
          },
          "metadata": {
            "tags": []
          },
          "execution_count": 251
        }
      ]
    },
    {
      "cell_type": "code",
      "metadata": {
        "id": "BifGS97hp4xG",
        "colab_type": "code",
        "colab": {},
        "outputId": "031af38e-6cf6-429d-8655-50b75e2e539c"
      },
      "source": [
        "np.dot(y.T, y)"
      ],
      "execution_count": 0,
      "outputs": [
        {
          "output_type": "execute_result",
          "data": {
            "text/plain": [
              "array([[5]])"
            ]
          },
          "metadata": {
            "tags": []
          },
          "execution_count": 252
        }
      ]
    },
    {
      "cell_type": "code",
      "metadata": {
        "id": "0mXbshBWp4xG",
        "colab_type": "code",
        "colab": {}
      },
      "source": [
        "x = np.array([1, 2, 3])"
      ],
      "execution_count": 0,
      "outputs": []
    },
    {
      "cell_type": "code",
      "metadata": {
        "id": "Nb6KNH3tp4xH",
        "colab_type": "code",
        "colab": {},
        "outputId": "fef6db5c-a923-4eb6-b3f8-d201eb1502a6"
      },
      "source": [
        "np.outer(x, x) "
      ],
      "execution_count": 0,
      "outputs": [
        {
          "output_type": "execute_result",
          "data": {
            "text/plain": [
              "array([[1, 2, 3],\n",
              "       [2, 4, 6],\n",
              "       [3, 6, 9]])"
            ]
          },
          "metadata": {
            "tags": []
          },
          "execution_count": 254
        }
      ]
    },
    {
      "cell_type": "code",
      "metadata": {
        "id": "lCC2QAHYp4xI",
        "colab_type": "code",
        "colab": {},
        "outputId": "064d4539-e715-4512-d6cb-d978034d5fdc"
      },
      "source": [
        "np.kron(x, x) "
      ],
      "execution_count": 0,
      "outputs": [
        {
          "output_type": "execute_result",
          "data": {
            "text/plain": [
              "array([1, 2, 3, 2, 4, 6, 3, 6, 9])"
            ]
          },
          "metadata": {
            "tags": []
          },
          "execution_count": 255
        }
      ]
    },
    {
      "cell_type": "code",
      "metadata": {
        "id": "0HGOg-TTp4xI",
        "colab_type": "code",
        "colab": {},
        "outputId": "09736811-edc1-4f07-801d-f879991cf022"
      },
      "source": [
        "np.kron(x[:, np.newaxis], x[np.newaxis, :])"
      ],
      "execution_count": 0,
      "outputs": [
        {
          "output_type": "execute_result",
          "data": {
            "text/plain": [
              "array([[1, 2, 3],\n",
              "       [2, 4, 6],\n",
              "       [3, 6, 9]])"
            ]
          },
          "metadata": {
            "tags": []
          },
          "execution_count": 256
        }
      ]
    },
    {
      "cell_type": "code",
      "metadata": {
        "id": "sm0sYshLp4xJ",
        "colab_type": "code",
        "colab": {},
        "outputId": "5abf97d1-574c-477c-8001-744434a97ffd"
      },
      "source": [
        "np.kron(np.ones((2,2)), np.identity(2))"
      ],
      "execution_count": 0,
      "outputs": [
        {
          "output_type": "execute_result",
          "data": {
            "text/plain": [
              "array([[ 1.,  0.,  1.,  0.],\n",
              "       [ 0.,  1.,  0.,  1.],\n",
              "       [ 1.,  0.,  1.,  0.],\n",
              "       [ 0.,  1.,  0.,  1.]])"
            ]
          },
          "metadata": {
            "tags": []
          },
          "execution_count": 257
        }
      ]
    },
    {
      "cell_type": "code",
      "metadata": {
        "id": "IkJp-R1Tp4xK",
        "colab_type": "code",
        "colab": {},
        "outputId": "d4cba491-0ddc-4231-8f40-7a42037c0f6e"
      },
      "source": [
        "np.kron(np.identity(2), np.ones((2,2)))"
      ],
      "execution_count": 0,
      "outputs": [
        {
          "output_type": "execute_result",
          "data": {
            "text/plain": [
              "array([[ 1.,  1.,  0.,  0.],\n",
              "       [ 1.,  1.,  0.,  0.],\n",
              "       [ 0.,  0.,  1.,  1.],\n",
              "       [ 0.,  0.,  1.,  1.]])"
            ]
          },
          "metadata": {
            "tags": []
          },
          "execution_count": 258
        }
      ]
    },
    {
      "cell_type": "code",
      "metadata": {
        "id": "QITgKXYIp4xL",
        "colab_type": "code",
        "colab": {}
      },
      "source": [
        "x = np.array([1, 2, 3, 4])"
      ],
      "execution_count": 0,
      "outputs": []
    },
    {
      "cell_type": "code",
      "metadata": {
        "id": "283kJFRzp4xM",
        "colab_type": "code",
        "colab": {}
      },
      "source": [
        "y = np.array([5, 6, 7, 8])"
      ],
      "execution_count": 0,
      "outputs": []
    },
    {
      "cell_type": "code",
      "metadata": {
        "id": "2l1dMJe8p4xM",
        "colab_type": "code",
        "colab": {},
        "outputId": "55540018-7dc4-4b6a-97c3-817bc0bfd104"
      },
      "source": [
        "np.einsum(\"n,n\", x, y)"
      ],
      "execution_count": 0,
      "outputs": [
        {
          "output_type": "execute_result",
          "data": {
            "text/plain": [
              "70"
            ]
          },
          "metadata": {
            "tags": []
          },
          "execution_count": 261
        }
      ]
    },
    {
      "cell_type": "code",
      "metadata": {
        "id": "-DWREeYVp4xN",
        "colab_type": "code",
        "colab": {},
        "outputId": "b8427107-cc1c-4302-826a-b2821e71f324"
      },
      "source": [
        "np.inner(x, y)"
      ],
      "execution_count": 0,
      "outputs": [
        {
          "output_type": "execute_result",
          "data": {
            "text/plain": [
              "70"
            ]
          },
          "metadata": {
            "tags": []
          },
          "execution_count": 262
        }
      ]
    },
    {
      "cell_type": "code",
      "metadata": {
        "id": "OtFdWHX6p4xO",
        "colab_type": "code",
        "colab": {}
      },
      "source": [
        "A = np.arange(9).reshape(3, 3)"
      ],
      "execution_count": 0,
      "outputs": []
    },
    {
      "cell_type": "code",
      "metadata": {
        "id": "979Exc-7p4xO",
        "colab_type": "code",
        "colab": {}
      },
      "source": [
        "B = A.T"
      ],
      "execution_count": 0,
      "outputs": []
    },
    {
      "cell_type": "code",
      "metadata": {
        "id": "1BYUqfFjp4xP",
        "colab_type": "code",
        "colab": {},
        "outputId": "7b53cd23-f0c0-4f04-f643-e8e45483fdf9"
      },
      "source": [
        "np.einsum(\"mk,kn\", A, B)"
      ],
      "execution_count": 0,
      "outputs": [
        {
          "output_type": "execute_result",
          "data": {
            "text/plain": [
              "array([[  5,  14,  23],\n",
              "       [ 14,  50,  86],\n",
              "       [ 23,  86, 149]])"
            ]
          },
          "metadata": {
            "tags": []
          },
          "execution_count": 265
        }
      ]
    },
    {
      "cell_type": "code",
      "metadata": {
        "id": "9yobsfjYp4xQ",
        "colab_type": "code",
        "colab": {},
        "outputId": "268338bd-28f1-4a3e-eb7c-20d9ec693991"
      },
      "source": [
        "np.alltrue(np.einsum(\"mk,kn\", A, B) == np.dot(A, B))"
      ],
      "execution_count": 0,
      "outputs": [
        {
          "output_type": "execute_result",
          "data": {
            "text/plain": [
              "True"
            ]
          },
          "metadata": {
            "tags": []
          },
          "execution_count": 266
        }
      ]
    },
    {
      "cell_type": "code",
      "metadata": {
        "id": "AamHGF0zp4xQ",
        "colab_type": "code",
        "colab": {}
      },
      "source": [
        ""
      ],
      "execution_count": 0,
      "outputs": []
    }
  ]
}